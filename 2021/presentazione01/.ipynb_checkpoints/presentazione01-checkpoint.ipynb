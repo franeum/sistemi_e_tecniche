{
 "cells": [
  {
   "cell_type": "markdown",
   "metadata": {
    "slideshow": {
     "slide_type": "slide"
    }
   },
   "source": [
    "# SISTEMI, TECNOLOGIE, APPLICAZIONI E LINGUAGGI DI PROGRAMMAZIONE PER LA MULTIMEDIALITA"
   ]
  },
  {
   "cell_type": "markdown",
   "metadata": {
    "slideshow": {
     "slide_type": "slide"
    }
   },
   "source": [
    "<h1 style=\"text-align:center; font-style: italic\">IL BROWSER</h1>"
   ]
  },
  {
   "cell_type": "markdown",
   "metadata": {
    "slideshow": {
     "slide_type": "slide"
    }
   },
   "source": [
    "# APPLICAZIONE PER L'ACQUISIZIONE, LA PRESENTAZIONE E LA NAVIGAZIONE DI RISORSE SUL WEB"
   ]
  },
  {
   "cell_type": "markdown",
   "metadata": {
    "slideshow": {
     "slide_type": "subslide"
    }
   },
   "source": [
    "# CLIENT PER IL PROTOCOLLO ```HTTP```"
   ]
  },
  {
   "cell_type": "markdown",
   "metadata": {
    "slideshow": {
     "slide_type": "fragment"
    }
   },
   "source": [
    "# VISUALIZZAZIONE DEI CONTENUTI TESTUALI RAPPRESENTATI TRAMITE ```HTML```"
   ]
  },
  {
   "cell_type": "markdown",
   "metadata": {
    "slideshow": {
     "slide_type": "fragment"
    }
   },
   "source": [
    "# RENDERING DEI CONTENUTI MULTIMEDIALI"
   ]
  },
  {
   "cell_type": "markdown",
   "metadata": {
    "slideshow": {
     "slide_type": "fragment"
    }
   },
   "source": [
    "# INTERPRETE JAVASCRIPT"
   ]
  },
  {
   "cell_type": "markdown",
   "metadata": {
    "slideshow": {
     "slide_type": "slide"
    }
   },
   "source": [
    "# L'HTML È IL ```LINGUAGGIO``` CHE DESCRIVE LA ```STRUTTURA``` DI UNA PAGINA WEB"
   ]
  },
  {
   "cell_type": "markdown",
   "metadata": {
    "slideshow": {
     "slide_type": "slide"
    }
   },
   "source": [
    "# SI COMPONE DI ELEMENTI DETTI ```<TAG>``` A PARTIRE DAI QUALI SI ORGANIZZA IN MODO ```GERARCHICO``` LA PAGINA"
   ]
  },
  {
   "cell_type": "markdown",
   "metadata": {
    "slideshow": {
     "slide_type": "fragment"
    }
   },
   "source": [
    "![](pic_htmltree.gif)"
   ]
  },
  {
   "cell_type": "markdown",
   "metadata": {
    "slideshow": {
     "slide_type": "slide"
    }
   },
   "source": [
    "# UN TAG HA QUASI SEMPRE UNA DOPPIA FORMA: ```<APERTURA>``` E ```</CHIUSURA>```"
   ]
  },
  {
   "cell_type": "markdown",
   "metadata": {
    "slideshow": {
     "slide_type": "slide"
    }
   },
   "source": [
    "# UNA PAGINA WEB VIENE INCLUSA NEL TAG ```<HTML>```..."
   ]
  },
  {
   "cell_type": "markdown",
   "metadata": {
    "slideshow": {
     "slide_type": "fragment"
    }
   },
   "source": [
    "```html\n",
    "<!doctype html>\n",
    "<html>\n",
    "\n",
    "CONTENUTO\n",
    "\n",
    "</html>\n",
    "```"
   ]
  },
  {
   "cell_type": "markdown",
   "metadata": {
    "slideshow": {
     "slide_type": "subslide"
    }
   },
   "source": [
    "# ...E CONTIENE SEMPRE UNA SEZIONE DI ```INTESTAZIONE``` (```<HEAD>```) E UNA DI ```CORPO``` (```<BODY>```)"
   ]
  },
  {
   "cell_type": "markdown",
   "metadata": {
    "slideshow": {
     "slide_type": "fragment"
    }
   },
   "source": [
    "```html\n",
    "<!doctype html>\n",
    "<html>\n",
    "    <head>\n",
    "        INTESTAZIONE\n",
    "    </head>\n",
    "\n",
    "    <body>\n",
    "        CORPO\n",
    "    </body>\n",
    "</html>\n",
    "```"
   ]
  },
  {
   "cell_type": "markdown",
   "metadata": {
    "slideshow": {
     "slide_type": "slide"
    }
   },
   "source": [
    "# [pagina di esempio](http://www.example.com)"
   ]
  },
  {
   "cell_type": "markdown",
   "metadata": {
    "slideshow": {
     "slide_type": "slide"
    }
   },
   "source": [
    "# L'HTML È UN LINGUAGGIO DI ```MARKUP```"
   ]
  },
  {
   "cell_type": "markdown",
   "metadata": {
    "slideshow": {
     "slide_type": "fragment"
    }
   },
   "source": [
    "# DESCRIVE I MECCANISMI DI RAPPRESENTAZIONE DI UN TESTO"
   ]
  },
  {
   "cell_type": "markdown",
   "metadata": {
    "slideshow": {
     "slide_type": "subslide"
    }
   },
   "source": [
    "# ```METALINGUAGGIO```"
   ]
  },
  {
   "cell_type": "markdown",
   "metadata": {
    "slideshow": {
     "slide_type": "slide"
    }
   },
   "source": [
    "# IL BROWSER SI OCCUPA DI RENDERE ```VISIBILE``` LA PAGINA ```DESCRITTA``` TRAMITE L'HTML..."
   ]
  },
  {
   "cell_type": "markdown",
   "metadata": {
    "slideshow": {
     "slide_type": "subslide"
    }
   },
   "source": [
    "# ...MA PER MOSTRARNE IL CONTENUTO HA BISOGNO DI ALCUNE INFORMAZIONI AGGIUNTIVE:"
   ]
  },
  {
   "cell_type": "markdown",
   "metadata": {
    "ExecuteTime": {
     "end_time": "2020-01-17T12:06:51.762215Z",
     "start_time": "2020-01-17T12:06:51.753234Z"
    },
    "slideshow": {
     "slide_type": "slide"
    }
   },
   "source": [
    "<h1 style=\"background-color:#0000FF;color:#FFFFFF\">COLORE DI SFONDO</h1>   "
   ]
  },
  {
   "cell_type": "markdown",
   "metadata": {
    "slideshow": {
     "slide_type": "fragment"
    }
   },
   "source": [
    "<h1 style=\"font-size:4em;\">DIMENSIONE DEL TESTO</h1>"
   ]
  },
  {
   "cell_type": "markdown",
   "metadata": {
    "slideshow": {
     "slide_type": "fragment"
    }
   },
   "source": [
    "<h1 style=\"text-align:right;\">ALLINEAMENTO</h1>"
   ]
  },
  {
   "cell_type": "markdown",
   "metadata": {
    "slideshow": {
     "slide_type": "slide"
    }
   },
   "source": [
    "# LINGUAGGIO ```CSS```"
   ]
  },
  {
   "cell_type": "markdown",
   "metadata": {
    "slideshow": {
     "slide_type": "slide"
    }
   },
   "source": [
    "# COSTITUISCE LA BASE DEI ```FOGLI DI STILE```"
   ]
  },
  {
   "cell_type": "markdown",
   "metadata": {
    "slideshow": {
     "slide_type": "fragment"
    }
   },
   "source": [
    "# DEFINISCE LO STILE - LE CARATTERISTICHE VISIBILI - DI UNA PAGINA WEB"
   ]
  },
  {
   "cell_type": "markdown",
   "metadata": {
    "slideshow": {
     "slide_type": "fragment"
    }
   },
   "source": [
    "# PUO' PRESENTARSI ALL'INTERNO DI UN FILE HTML O IN UN FILE SEPARATO"
   ]
  },
  {
   "cell_type": "markdown",
   "metadata": {
    "slideshow": {
     "slide_type": "slide"
    }
   },
   "source": [
    "# SI DISTINGUE DAI TAG PER UNA SINTASSI DIVERSA:"
   ]
  },
  {
   "cell_type": "markdown",
   "metadata": {
    "ExecuteTime": {
     "end_time": "2020-01-17T11:39:45.430968Z",
     "start_time": "2020-01-17T11:39:45.415968Z"
    },
    "slideshow": {
     "slide_type": "subslide"
    }
   },
   "source": [
    "```\n",
    "selettore1 {\n",
    "  proprietà1:valore1;\n",
    "  proprietà2:valore2;\n",
    "}\n",
    "selettore2 {\n",
    "  proprietà3:valore3\n",
    "}```"
   ]
  },
  {
   "cell_type": "markdown",
   "metadata": {
    "slideshow": {
     "slide_type": "subslide"
    }
   },
   "source": [
    "![](css-example.jpg)"
   ]
  },
  {
   "cell_type": "markdown",
   "metadata": {
    "slideshow": {
     "slide_type": "slide"
    }
   },
   "source": [
    "<h1 style=\"text-align:center; font-style: italic\">MARKDOWN</h1>"
   ]
  },
  {
   "cell_type": "markdown",
   "metadata": {
    "slideshow": {
     "slide_type": "slide"
    }
   },
   "source": [
    "# LINGUAGGIO DI MARKUP FACILMENTE CONVERTIBILE IN HTML"
   ]
  },
  {
   "cell_type": "markdown",
   "metadata": {
    "slideshow": {
     "slide_type": "slide"
    }
   },
   "source": [
    "# ```INTESTAZIONI```"
   ]
  },
  {
   "cell_type": "markdown",
   "metadata": {
    "slideshow": {
     "slide_type": "fragment"
    }
   },
   "source": [
    "# # I LIVELLO"
   ]
  },
  {
   "cell_type": "markdown",
   "metadata": {
    "slideshow": {
     "slide_type": "fragment"
    }
   },
   "source": [
    "## ## II LIVELLO"
   ]
  },
  {
   "cell_type": "markdown",
   "metadata": {
    "slideshow": {
     "slide_type": "fragment"
    }
   },
   "source": [
    "### ### SONO IL TERZO"
   ]
  },
  {
   "cell_type": "markdown",
   "metadata": {
    "slideshow": {
     "slide_type": "fragment"
    }
   },
   "source": [
    "#### #### ED IO IL QUARTO"
   ]
  },
  {
   "cell_type": "markdown",
   "metadata": {
    "slideshow": {
     "slide_type": "fragment"
    }
   },
   "source": [
    "##### ##### E IO L'ULTIMO"
   ]
  },
  {
   "cell_type": "markdown",
   "metadata": {
    "slideshow": {
     "slide_type": "fragment"
    }
   },
   "source": [
    "Io non sono un'intestazione, ma un umile testo"
   ]
  },
  {
   "cell_type": "markdown",
   "metadata": {
    "slideshow": {
     "slide_type": "slide"
    }
   },
   "source": [
    "# ```ATTRIBUTI DEL TESTO```"
   ]
  },
  {
   "cell_type": "markdown",
   "metadata": {
    "slideshow": {
     "slide_type": "fragment"
    }
   },
   "source": [
    "*corsivo*: \\*corsivo\\*"
   ]
  },
  {
   "cell_type": "markdown",
   "metadata": {
    "slideshow": {
     "slide_type": "fragment"
    }
   },
   "source": [
    "**grassetto**: \\*\\*grassetto\\*\\*"
   ]
  },
  {
   "cell_type": "markdown",
   "metadata": {
    "slideshow": {
     "slide_type": "fragment"
    }
   },
   "source": [
    "***corsivo grassetto***: \\*\\*\\*corsivo grassetto\\*\\*\\*"
   ]
  },
  {
   "cell_type": "markdown",
   "metadata": {
    "slideshow": {
     "slide_type": "fragment"
    }
   },
   "source": [
    "`monospace`: \\`monospace\\`"
   ]
  },
  {
   "cell_type": "markdown",
   "metadata": {
    "slideshow": {
     "slide_type": "slide"
    }
   },
   "source": [
    "# ```LINK```"
   ]
  },
  {
   "cell_type": "markdown",
   "metadata": {
    "slideshow": {
     "slide_type": "fragment"
    }
   },
   "source": [
    "[link](http://example.com)  \n",
    "\\[link](http://example.com)"
   ]
  },
  {
   "cell_type": "markdown",
   "metadata": {
    "slideshow": {
     "slide_type": "slide"
    }
   },
   "source": [
    "# ```LISTE```"
   ]
  },
  {
   "cell_type": "markdown",
   "metadata": {
    "slideshow": {
     "slide_type": "fragment"
    }
   },
   "source": [
    "* Uno\n",
    "* Due\n",
    "* Tre\n",
    "\n",
    "```md\n",
    "* Uno\n",
    "* Due\n",
    "* Tre\n",
    "```"
   ]
  },
  {
   "cell_type": "markdown",
   "metadata": {
    "slideshow": {
     "slide_type": "slide"
    }
   },
   "source": [
    "# ```LISTE NUMERATE```"
   ]
  },
  {
   "cell_type": "markdown",
   "metadata": {
    "slideshow": {
     "slide_type": "fragment"
    }
   },
   "source": [
    "1. primo\n",
    "2. secondo\n",
    "3. terzo\n",
    "\n",
    "```md\n",
    "1. primo\n",
    "2. secondo\n",
    "3. terzo\n",
    "```"
   ]
  },
  {
   "cell_type": "markdown",
   "metadata": {
    "slideshow": {
     "slide_type": "slide"
    }
   },
   "source": [
    "# ```TABELLE```"
   ]
  },
  {
   "cell_type": "markdown",
   "metadata": {
    "slideshow": {
     "slide_type": "fragment"
    }
   },
   "source": [
    "| col1 | col2 |\n",
    "| --- | --- |\n",
    "| 1 | 2 |\n",
    "| 3 | 4 |\n",
    "| 5 | 6 |\n",
    "\n",
    "```md\n",
    "| col1 | col2 |\n",
    "| ---- | ---- |\n",
    "|  1   |  2   |\n",
    "|  3   |  4   |\n",
    "|  5   |  6   |\n",
    "```"
   ]
  },
  {
   "cell_type": "markdown",
   "metadata": {
    "slideshow": {
     "slide_type": "slide"
    }
   },
   "source": [
    "# ```IMMAGINI```\n",
    "\n",
    "![](github-logo.jpg)\n",
    "\n",
    "```md\n",
    "![](github-logo.jpg)\n",
    "```"
   ]
  },
  {
   "cell_type": "markdown",
   "metadata": {
    "slideshow": {
     "slide_type": "slide"
    }
   },
   "source": [
    "# ```PARTITURE```\n",
    "<img src=\"spartito.svg\" width=\"600\"/>\n",
    "\n",
    "```html\n",
    "<img src=\"spartito.svg\" width=\"600\"/>\n",
    "```"
   ]
  },
  {
   "cell_type": "markdown",
   "metadata": {
    "slideshow": {
     "slide_type": "slide"
    }
   },
   "source": [
    "# E MOLTI ALTRI ANCORA..."
   ]
  }
 ],
 "metadata": {
  "celltoolbar": "Slideshow",
  "kernelspec": {
   "display_name": "Python 3",
   "language": "python",
   "name": "python3"
  },
  "language_info": {
   "codemirror_mode": {
    "name": "ipython",
    "version": 3
   },
   "file_extension": ".py",
   "mimetype": "text/x-python",
   "name": "python",
   "nbconvert_exporter": "python",
   "pygments_lexer": "ipython3",
   "version": "3.7.6"
  }
 },
 "nbformat": 4,
 "nbformat_minor": 2
}
