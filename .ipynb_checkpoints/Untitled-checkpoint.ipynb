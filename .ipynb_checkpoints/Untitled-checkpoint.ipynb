{
 "cells": [
  {
   "cell_type": "markdown",
   "metadata": {
    "slideshow": {
     "slide_type": "slide"
    }
   },
   "source": [
    "# Sistemi, tecnologie, applicazioni e linguaggi di programmazione per la multimedialità"
   ]
  },
  {
   "cell_type": "markdown",
   "metadata": {
    "slideshow": {
     "slide_type": "slide"
    }
   },
   "source": [
    "## Esempio n. 1\n",
    "\n",
    "<img src=\"mbuto-1.svg\" width=\"600\">"
   ]
  },
  {
   "cell_type": "markdown",
   "metadata": {
    "slideshow": {
     "slide_type": "slide"
    }
   },
   "source": [
    "## Esempio n. 2\n",
    "<img src=\"usp-1.svg\" width=\"400\">"
   ]
  },
  {
   "cell_type": "markdown",
   "metadata": {
    "slideshow": {
     "slide_type": "slide"
    }
   },
   "source": [
    "# Multimedialità"
   ]
  },
  {
   "cell_type": "markdown",
   "metadata": {
    "slideshow": {
     "slide_type": "fragment"
    }
   },
   "source": [
    "- La parola stessa non ha un significato univoco"
   ]
  },
  {
   "cell_type": "markdown",
   "metadata": {
    "slideshow": {
     "slide_type": "fragment"
    }
   },
   "source": [
    "- La definizione più comune (compresenza e interazione di più mezzi di comunicazione di massa in uno stesso supporto o contesto informativo – da Wikipedia) è la più riduttiva"
   ]
  },
  {
   "cell_type": "markdown",
   "metadata": {
    "slideshow": {
     "slide_type": "fragment"
    }
   },
   "source": [
    "- Secondo questa definizione, l’opera lirica, per esempio, può essere compiutamente definita come un prodotto multimediale"
   ]
  },
  {
   "cell_type": "markdown",
   "metadata": {
    "slideshow": {
     "slide_type": "slide"
    }
   },
   "source": [
    "# Interattività"
   ]
  },
  {
   "cell_type": "markdown",
   "metadata": {
    "slideshow": {
     "slide_type": "fragment"
    }
   },
   "source": [
    "- L’interattività, quella tra le tecnologie e l’utente (non solo quella delle tecnologie tra di loro) cioè la possibilità dell’utente di interagire con i contenuti e di sceglierli, definisce molto meglio la concezione più moderna di multimedialità"
   ]
  },
  {
   "cell_type": "markdown",
   "metadata": {
    "slideshow": {
     "slide_type": "fragment"
    }
   },
   "source": [
    "- Le tecnologie interattive permettono di superare la linearità temporale consentendo un approccio alla conoscenza e all’esperienza di tipo dendritico (= ad albero)"
   ]
  },
  {
   "cell_type": "markdown",
   "metadata": {
    "slideshow": {
     "slide_type": "slide"
    }
   },
   "source": [
    "# Multimedialità interattiva"
   ]
  },
  {
   "cell_type": "markdown",
   "metadata": {
    "slideshow": {
     "slide_type": "fragment"
    }
   },
   "source": [
    "- Il bisogno di multimedialità interattiva nasce dalla struttura stessa del cervello, dal fatto che le associazioni che danno origine all’elaborazione delle idee e alla memoria non sono di tipo lineare e sequenziale, bensì ramificato."
   ]
  },
  {
   "cell_type": "markdown",
   "metadata": {
    "slideshow": {
     "slide_type": "fragment"
    }
   },
   "source": [
    "- Seguendo un percorso mentale dendritico, infatti, è più facile creare, ricordare e gestire grandi quantità di informazioni."
   ]
  },
  {
   "cell_type": "markdown",
   "metadata": {
    "slideshow": {
     "slide_type": "slide"
    }
   },
   "source": [
    "# Ipertesto"
   ]
  },
  {
   "cell_type": "markdown",
   "metadata": {
    "slideshow": {
     "slide_type": "fragment"
    }
   },
   "source": [
    "- Un ipertesto è un insieme di documenti messi in relazione tra loro per mezzo di parole chiave. Può essere visto come una rete; i documenti ne costituiscono i nodi. La caratteristica principale di un ipertesto è che la lettura può svolgersi in maniera non lineare: qualsiasi documento della rete può essere \"il successivo\", in base alla scelta del lettore di quale parola chiave usare come collegamento"
   ]
  },
  {
   "cell_type": "markdown",
   "metadata": {
    "slideshow": {
     "slide_type": "slide"
    }
   },
   "source": [
    "# Il World Wide Web"
   ]
  },
  {
   "cell_type": "markdown",
   "metadata": {
    "slideshow": {
     "slide_type": "fragment"
    }
   },
   "source": [
    "- L’applicazione più diffusa su Internet, il Web (=ragnatela), presenta lo scibile universale come un percorso dendritico, in cui da un collegamento (link) si può accedere ad altri contenuti, secondo una successione pressoché infinita"
   ]
  },
  {
   "cell_type": "markdown",
   "metadata": {
    "slideshow": {
     "slide_type": "fragment"
    }
   },
   "source": [
    "- Se un contenuto non è accessibile da un link non è reperibile da chi non ne conosca l’esatto indirizzo e non è indicizzabile dai motori di ricerca, per cui tale contenuto è riservato (Web oscuro)."
   ]
  },
  {
   "cell_type": "markdown",
   "metadata": {
    "slideshow": {
     "slide_type": "fragment"
    }
   },
   "source": [
    "- Il Web è stato inizialmente implementato da Tim Berners-Lee - mentre era ricercatore al CERN - sulla base di idee dello stesso Berners-Lee e di un suo collega, Robert Cailliau, e oggi gli standard su cui è basato, in continua evoluzione, sono mantenuti dal World Wide Web Consortium (W3C). La nascita del Web risale al 6 agosto 1991, giorno in cui Berners-Lee mise on-line su Internet il primo sito Web."
   ]
  },
  {
   "cell_type": "markdown",
   "metadata": {
    "slideshow": {
     "slide_type": "slide"
    }
   },
   "source": [
    "# Il World Wide Web (2)"
   ]
  },
  {
   "cell_type": "markdown",
   "metadata": {
    "slideshow": {
     "slide_type": "fragment"
    }
   },
   "source": [
    "- Il Web è un percorso ipertestuale che, grazie ai links, costituisce un’unica immensa base di dati planetaria"
   ]
  },
  {
   "cell_type": "markdown",
   "metadata": {
    "slideshow": {
     "slide_type": "fragment"
    }
   },
   "source": [
    "- Solo percorrendo massivamente e continuamente tutti i links, è possibile indicizzare il Web, e questo processo è effettuato da dei crawlers (detti anche spiders o robots), cioé dei software che analizzano i contenuti di una rete in un modo metodico e automatizzato."
   ]
  },
  {
   "cell_type": "markdown",
   "metadata": {
    "slideshow": {
     "slide_type": "slide"
    }
   },
   "source": [
    "# Il World Wide Web (3)"
   ]
  },
  {
   "cell_type": "markdown",
   "metadata": {
    "slideshow": {
     "slide_type": "fragment"
    }
   },
   "source": [
    "- Il Web, nato come semplice sistema di documentazione ipertestuale, è diventato progressivamente sempre più multimediale, permettendo qualsiasi tipo di contenuto e qualsiasi tipo di interazione"
   ]
  },
  {
   "cell_type": "markdown",
   "metadata": {
    "slideshow": {
     "slide_type": "fragment"
    }
   },
   "source": [
    "- Grazie a tecnologie come Ajax (Asynchronous JavaScript and XML) e come l’HTML 5 (che si differenzia dalle versioni precedenti per la possibilità di incorporare nativamente contenuti multimediali), il Web è diventato uno strumento di comunicazione totalmente multimediale."
   ]
  }
 ],
 "metadata": {
  "celltoolbar": "Slideshow",
  "kernelspec": {
   "display_name": "py37",
   "language": "python",
   "name": "py37"
  },
  "language_info": {
   "codemirror_mode": {
    "name": "ipython",
    "version": 3
   },
   "file_extension": ".py",
   "mimetype": "text/x-python",
   "name": "python",
   "nbconvert_exporter": "python",
   "pygments_lexer": "ipython3",
   "version": "3.7.2"
  }
 },
 "nbformat": 4,
 "nbformat_minor": 2
}
