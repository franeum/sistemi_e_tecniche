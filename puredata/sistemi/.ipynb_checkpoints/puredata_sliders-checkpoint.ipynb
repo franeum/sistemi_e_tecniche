{
 "cells": [
  {
   "cell_type": "markdown",
   "metadata": {
    "slideshow": {
     "slide_type": "slide"
    }
   },
   "source": [
    "# PURE DATA"
   ]
  },
  {
   "cell_type": "markdown",
   "metadata": {
    "slideshow": {
     "slide_type": "slide"
    }
   },
   "source": [
    "## AMBIENTE DI PROGRAMMAZIONE GRAFICO IN TEMPO REALE PER L'ELABORAZIONE GRAFICA E SONORA"
   ]
  },
  {
   "cell_type": "markdown",
   "metadata": {
    "slideshow": {
     "slide_type": "slide"
    }
   },
   "source": [
    "### ```AMBIENTE DI PROGRAMMAZIONE```"
   ]
  },
  {
   "cell_type": "markdown",
   "metadata": {
    "slideshow": {
     "slide_type": "fragment"
    }
   },
   "source": [
    "### ```AMBIENTE GRAFICO```"
   ]
  },
  {
   "cell_type": "markdown",
   "metadata": {
    "slideshow": {
     "slide_type": "fragment"
    }
   },
   "source": [
    "### ```IN TEMPO REALE```"
   ]
  },
  {
   "cell_type": "markdown",
   "metadata": {
    "slideshow": {
     "slide_type": "fragment"
    }
   },
   "source": [
    "### `PER L'ELABORAZIONE GRAFICA`"
   ]
  },
  {
   "cell_type": "markdown",
   "metadata": {
    "slideshow": {
     "slide_type": "fragment"
    }
   },
   "source": [
    "### ```E L'ELABORAZIONE SONORA```"
   ]
  },
  {
   "cell_type": "markdown",
   "metadata": {
    "slideshow": {
     "slide_type": "fragment"
    }
   },
   "source": [
    "### ```OPEN SOURCE ``` E ```FREEWARE```"
   ]
  },
  {
   "cell_type": "markdown",
   "metadata": {
    "slideshow": {
     "slide_type": "fragment"
    }
   },
   "source": [
    "### ```ESPANDIBILE```"
   ]
  },
  {
   "cell_type": "markdown",
   "metadata": {
    "slideshow": {
     "slide_type": "slide"
    }
   },
   "source": [
    "# UTILIZZI"
   ]
  },
  {
   "cell_type": "markdown",
   "metadata": {
    "slideshow": {
     "slide_type": "fragment"
    }
   },
   "source": [
    "# SINTESI ED ELABORAZIONE DEL SUONO"
   ]
  },
  {
   "cell_type": "markdown",
   "metadata": {
    "slideshow": {
     "slide_type": "fragment"
    }
   },
   "source": [
    "# VIDEO RENDERING ED ELABORAZIONE VIDEO"
   ]
  },
  {
   "cell_type": "markdown",
   "metadata": {
    "slideshow": {
     "slide_type": "fragment"
    }
   },
   "source": [
    "# PHYSICAL COMPUTING"
   ]
  },
  {
   "cell_type": "markdown",
   "metadata": {
    "slideshow": {
     "slide_type": "slide"
    }
   },
   "source": [
    "# COME TUTTI I LINGUAGGI DI PROGRAMMAZIONE PURE DATA... "
   ]
  },
  {
   "cell_type": "markdown",
   "metadata": {
    "slideshow": {
     "slide_type": "fragment"
    }
   },
   "source": [
    "# ...`RICEVE` DATI"
   ]
  },
  {
   "cell_type": "markdown",
   "metadata": {
    "slideshow": {
     "slide_type": "fragment"
    }
   },
   "source": [
    "# `ELABORA` DATI"
   ]
  },
  {
   "cell_type": "markdown",
   "metadata": {
    "slideshow": {
     "slide_type": "fragment"
    }
   },
   "source": [
    "# `GENERA` DATI..."
   ]
  },
  {
   "cell_type": "markdown",
   "metadata": {
    "ExecuteTime": {
     "end_time": "2020-02-18T13:28:54.718049Z",
     "start_time": "2020-02-18T13:28:54.658060Z"
    },
    "slideshow": {
     "slide_type": "slide"
    }
   },
   "source": [
    "[immagine_uno]()"
   ]
  },
  {
   "cell_type": "markdown",
   "metadata": {
    "slideshow": {
     "slide_type": "slide"
    }
   },
   "source": [
    "# I *DATI*"
   ]
  },
  {
   "cell_type": "markdown",
   "metadata": {
    "slideshow": {
     "slide_type": "fragment"
    }
   },
   "source": [
    "# MESSAGGI (NUMERI, LETTERE, *BANG*, ETC...)"
   ]
  },
  {
   "cell_type": "markdown",
   "metadata": {
    "slideshow": {
     "slide_type": "fragment"
    }
   },
   "source": [
    "# SEGNALE (*FLUSSO* DI NUMERI)"
   ]
  },
  {
   "cell_type": "markdown",
   "metadata": {
    "slideshow": {
     "slide_type": "slide"
    }
   },
   "source": [
    "# PER OPERARE CON I DATI PURE DATA METTE A DISPOSIZIONE DEI *BOX* DI DUE TIPI:"
   ]
  },
  {
   "cell_type": "markdown",
   "metadata": {
    "slideshow": {
     "slide_type": "fragment"
    }
   },
   "source": [
    "# ELABORAZIONE (*OBJECT BOX*)"
   ]
  },
  {
   "cell_type": "markdown",
   "metadata": {
    "slideshow": {
     "slide_type": "fragment"
    }
   },
   "source": [
    "# INPUT/OUTPUT (*MESSAGE BOX* E *GUI*)"
   ]
  },
  {
   "cell_type": "markdown",
   "metadata": {},
   "source": [
    "![](plus_add.png)"
   ]
  },
  {
   "cell_type": "markdown",
   "metadata": {
    "slideshow": {
     "slide_type": "slide"
    }
   },
   "source": [
    "# *OBJECT BOX*\n",
    "# RAPPRESENTANO GLI *OGGETTI*, CIOÈ ENTITÀ CHE SVOLGONO OPERAZIONI SUI MESSAGGI O SUI SEGNALI\n",
    "# FORMA RETTANGOLARE\n",
    "# HANNO SEMPRE UN NOME \n",
    "# ARGOMENTI (OPZIONALI)\n",
    "# I NOMI DEGLI OGGETTI CHE OPERANO SUI SEGNALI TERMINANO CON LA TILDE (`~`)"
   ]
  },
  {
   "cell_type": "markdown",
   "metadata": {},
   "source": [
    "# *MESSAGE BOX*\n",
    "# CONTENGONO MESSAGGI, CIOÈ DATI `PUNTUALI` CHE VENGONO INVIATI AGLI OGGETTI\n",
    "# FORMA RETTANGOLARE CON LATO DESTRO CONVESSO"
   ]
  },
  {
   "cell_type": "markdown",
   "metadata": {},
   "source": [
    "# *GUI*\n",
    "# GENERANO MESSAGGI TRAMITE L'INTERAZIONE CON L'UTENTE\n",
    "# FORME VARIE (*SLIDERS*, *NUMBER BOX*, ETC...)"
   ]
  },
  {
   "cell_type": "markdown",
   "metadata": {},
   "source": [
    "# OGGETTI, MESSAGGI E GUI SI COLLEGANO FRA LORO TRAMITE CAVETTI VIRUTALI CHIAMATI `PATCH CORDS`"
   ]
  },
  {
   "cell_type": "markdown",
   "metadata": {},
   "source": [
    "# UN DOCUMENTO DI PUREDATA SI CHIAMA `PATCH`"
   ]
  },
  {
   "cell_type": "markdown",
   "metadata": {
    "slideshow": {
     "slide_type": "fragment"
    }
   },
   "source": [
    "# COMMENTI\n",
    "# SONO MESSAGGI CHE NON HANNO ALCUN SIGNIFICATO PER PUREDATA MA SERVONO SOLO AD AIUTARE IL PROGRAMMATORE A DESCRIVERE QUELLO CHE HA SCRITTO\n",
    "# ...E A RICORDARLO"
   ]
  },
  {
   "cell_type": "markdown",
   "metadata": {
    "slideshow": {
     "slide_type": "fragment"
    }
   },
   "source": [
    "# *ORDINE DELLE OPERAZIONI*\n",
    "# IN PUREDATA L'ORDINE DELLE OPERAZIONI È DEFINITO DA:\n",
    "# *INLET* CALDI E FREDDI\n",
    "# ORDINE DELLE CONNESSIONI\n",
    "# PASSAGGIO DEI MESSAGGI DEPTH-FIRST"
   ]
  },
  {
   "cell_type": "markdown",
   "metadata": {},
   "source": [
    "# L'INLET PIÙ A SINISTRA È SEMPRE CALDO, CIOÈ PRODUCE OUTPUT\n",
    "# GLI INLET A DESTRA SONO FREDDI: NON PRODUCONO OUTPUT, MA AGGIORNANO LA MEMORIA DELL'OGGETTO"
   ]
  },
  {
   "cell_type": "markdown",
   "metadata": {},
   "source": [
    "# QUANDO MOLTI CAVI ENTRANO NELLO STESSO INLET NON CI SONO PROBLEMI\n",
    "# QUANDO DA UNO STESSO OUTLET ESCONO MULTIPLE CONNESSIONI È IMPORTANTE DEFINIRE L'ORDINE DI QUESTE CONNESSIONI:\n",
    "# I MESSAGGI PASSANO PRIMA NEI `PATCH CORDS` CHE SONO STATI CREATI PRIMA\n",
    "# È IMPOSSIBILE STABILIRE *A OCCHIO* QUALI CAVI VENGONO CREATI PRIMA COSÌ SI USA L'OGGETTO `TRIGGER`"
   ]
  },
  {
   "cell_type": "markdown",
   "metadata": {},
   "source": []
  },
  {
   "cell_type": "markdown",
   "metadata": {
    "slideshow": {
     "slide_type": "slide"
    }
   },
   "source": [
    "# GLI *OGGETTI*"
   ]
  },
  {
   "cell_type": "markdown",
   "metadata": {
    "slideshow": {
     "slide_type": "fragment"
    }
   },
   "source": [
    "# ESEGUONO OPERAZIONI SUI DATI"
   ]
  },
  {
   "cell_type": "markdown",
   "metadata": {
    "slideshow": {
     "slide_type": "fragment"
    }
   },
   "source": [
    "# HANNO FORMA RETTANGOLARE"
   ]
  },
  {
   "cell_type": "markdown",
   "metadata": {
    "slideshow": {
     "slide_type": "slide"
    }
   },
   "source": [
    "# I *MESSAGGI*"
   ]
  },
  {
   "cell_type": "markdown",
   "metadata": {
    "slideshow": {
     "slide_type": "fragment"
    }
   },
   "source": [
    "# INVIANO DATI AGLI OGGETTI"
   ]
  },
  {
   "cell_type": "markdown",
   "metadata": {
    "slideshow": {
     "slide_type": "fragment"
    }
   },
   "source": [
    "# FORMA RETTANGOLARE CON LATO DESTRO CONCAVO"
   ]
  },
  {
   "cell_type": "markdown",
   "metadata": {
    "slideshow": {
     "slide_type": "slide"
    }
   },
   "source": [
    "# LE *GUI*"
   ]
  },
  {
   "cell_type": "markdown",
   "metadata": {
    "slideshow": {
     "slide_type": "fragment"
    }
   },
   "source": [
    "# VARIE FORME"
   ]
  },
  {
   "cell_type": "markdown",
   "metadata": {
    "slideshow": {
     "slide_type": "slide"
    }
   },
   "source": [
    "# DATI:"
   ]
  },
  {
   "cell_type": "markdown",
   "metadata": {
    "slideshow": {
     "slide_type": "fragment"
    }
   },
   "source": [
    "# MESSAGGI"
   ]
  },
  {
   "cell_type": "markdown",
   "metadata": {
    "slideshow": {
     "slide_type": "fragment"
    }
   },
   "source": [
    "# SEGNALI"
   ]
  }
 ],
 "metadata": {
  "celltoolbar": "Slideshow",
  "kernelspec": {
   "display_name": "Python 3",
   "language": "python",
   "name": "python3"
  },
  "language_info": {
   "codemirror_mode": {
    "name": "ipython",
    "version": 3
   },
   "file_extension": ".py",
   "mimetype": "text/x-python",
   "name": "python",
   "nbconvert_exporter": "python",
   "pygments_lexer": "ipython3",
   "version": "3.7.4"
  }
 },
 "nbformat": 4,
 "nbformat_minor": 2
}
