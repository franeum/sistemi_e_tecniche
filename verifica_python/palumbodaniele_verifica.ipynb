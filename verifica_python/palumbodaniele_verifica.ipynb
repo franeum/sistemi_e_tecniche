{
 "cells": [
  {
   "cell_type": "markdown",
   "metadata": {
    "collapsed": true
   },
   "source": [
    "# Verifica Python SMET propedeutico\n",
    "\n",
    "Per realizzare la verifica potete cercare su internet CONSAPEVOLMENTE, quindi dovete essere in grado di spiegare quello che scrivete, usando i commenti (che sono linee python preceduto dal simbolo `#`): \n",
    "\n",
    "_Commentate, Commentate, Commentate..._\n",
    "\n",
    "---\n",
    "\n",
    "Scrivete le _docstrings_ sotto la definizione delle funzioni\n",
    "\n",
    "---\n",
    "\n",
    "Siete liberi di aggiungere **celle** per scrivere codice\n",
    "\n",
    "---\n",
    "\n",
    "Una volta terminato, rinominate il file con il vostro nome: _mionome_verifica.ipynb_ e spedite all'indirizzo **frabianchi72@gmail.com**\n",
    "\n",
    "---\n",
    "\n",
    "Buon lavoro!"
   ]
  },
  {
   "cell_type": "markdown",
   "metadata": {},
   "source": [
    "## Quale funzione puoi usare per avere l'elenco dei metodi di un oggetto?\n",
    "Fai un esempio con l'oggetto **float**"
   ]
  },
  {
   "cell_type": "code",
   "execution_count": 34,
   "metadata": {},
   "outputs": [
    {
     "data": {
      "text/plain": [
       "['__abs__',\n",
       " '__add__',\n",
       " '__bool__',\n",
       " '__class__',\n",
       " '__delattr__',\n",
       " '__dir__',\n",
       " '__divmod__',\n",
       " '__doc__',\n",
       " '__eq__',\n",
       " '__float__',\n",
       " '__floordiv__',\n",
       " '__format__',\n",
       " '__ge__',\n",
       " '__getattribute__',\n",
       " '__getformat__',\n",
       " '__getnewargs__',\n",
       " '__gt__',\n",
       " '__hash__',\n",
       " '__init__',\n",
       " '__init_subclass__',\n",
       " '__int__',\n",
       " '__le__',\n",
       " '__lt__',\n",
       " '__mod__',\n",
       " '__mul__',\n",
       " '__ne__',\n",
       " '__neg__',\n",
       " '__new__',\n",
       " '__pos__',\n",
       " '__pow__',\n",
       " '__radd__',\n",
       " '__rdivmod__',\n",
       " '__reduce__',\n",
       " '__reduce_ex__',\n",
       " '__repr__',\n",
       " '__rfloordiv__',\n",
       " '__rmod__',\n",
       " '__rmul__',\n",
       " '__round__',\n",
       " '__rpow__',\n",
       " '__rsub__',\n",
       " '__rtruediv__',\n",
       " '__set_format__',\n",
       " '__setattr__',\n",
       " '__sizeof__',\n",
       " '__str__',\n",
       " '__sub__',\n",
       " '__subclasshook__',\n",
       " '__truediv__',\n",
       " '__trunc__',\n",
       " 'as_integer_ratio',\n",
       " 'conjugate',\n",
       " 'fromhex',\n",
       " 'hex',\n",
       " 'imag',\n",
       " 'is_integer',\n",
       " 'real']"
      ]
     },
     "execution_count": 34,
     "metadata": {},
     "output_type": "execute_result"
    }
   ],
   "source": [
    "#posso usare la funzione dir()\n",
    "\n",
    "dir(float)"
   ]
  },
  {
   "cell_type": "code",
   "execution_count": null,
   "metadata": {},
   "outputs": [],
   "source": []
  },
  {
   "cell_type": "markdown",
   "metadata": {},
   "source": [
    "## Come richiami la pagina di `help` di un oggetto, di un metodo e di una funzione?\n",
    "Fai un esempio con la funzione **len**"
   ]
  },
  {
   "cell_type": "code",
   "execution_count": 4,
   "metadata": {},
   "outputs": [
    {
     "name": "stdout",
     "output_type": "stream",
     "text": [
      "Help on built-in function len in module builtins:\n",
      "\n",
      "len(obj, /)\n",
      "    Return the number of items in a container.\n",
      "\n"
     ]
    }
   ],
   "source": [
    "#per richiamare la pagina di help di un oggetto basta eseguire io comando help()\n",
    "\n",
    "help('len')"
   ]
  },
  {
   "cell_type": "code",
   "execution_count": null,
   "metadata": {},
   "outputs": [],
   "source": []
  },
  {
   "cell_type": "code",
   "execution_count": null,
   "metadata": {},
   "outputs": [],
   "source": []
  },
  {
   "cell_type": "markdown",
   "metadata": {},
   "source": [
    "## Date le variabili `x` e `y`, eseguire la seguente operazione (e stampare il risultato)\n",
    "\n",
    "$$x = 15$$\n",
    "$$y = 12.1$$\n",
    "\n",
    "$$7.2 + \\frac{1.1x}{9} \\cdot y$$"
   ]
  },
  {
   "cell_type": "code",
   "execution_count": 8,
   "metadata": {},
   "outputs": [
    {
     "name": "stdout",
     "output_type": "stream",
     "text": [
      "29.38333333333333\n"
     ]
    }
   ],
   "source": [
    "#assegno a x e y i valori\n",
    "\n",
    "x = 15\n",
    "y = 12.1\n",
    "\n",
    "#do un nome all'operazione\n",
    "\n",
    "operazione = 7.2 + (1.1 * x / 9) * y\n",
    "\n",
    "#stampo il risultato\n",
    "\n",
    "print(operazione)\n"
   ]
  },
  {
   "cell_type": "code",
   "execution_count": null,
   "metadata": {},
   "outputs": [],
   "source": []
  },
  {
   "cell_type": "code",
   "execution_count": null,
   "metadata": {},
   "outputs": [],
   "source": []
  },
  {
   "cell_type": "markdown",
   "metadata": {},
   "source": [
    "## Usando gli operatori di confronto (`!=`, `<`, `>`, `==`, `>=`, `<=`): \n",
    "* scrivere almeno due espressioni (usando operatori e i soli numeri interi) che restituiscano **True** e due che restituiscano **False**"
   ]
  },
  {
   "cell_type": "code",
   "execution_count": 40,
   "metadata": {},
   "outputs": [
    {
     "name": "stdout",
     "output_type": "stream",
     "text": [
      "inserisci a: 14\n",
      "inserisci b: 15\n",
      "False\n"
     ]
    }
   ],
   "source": [
    "#assegno un input alle variabili\n",
    "\n",
    "a = int(input('inserisci a: '))\n",
    "b = int(input('inserisci b: '))\n",
    "\n",
    "#scrivo un'espressione vera nel caso in cui a > b\n",
    "\n",
    "if a > b:\n",
    "    print('True')\n",
    "else:\n",
    "    print('False')\n",
    "    "
   ]
  },
  {
   "cell_type": "code",
   "execution_count": 1,
   "metadata": {},
   "outputs": [
    {
     "name": "stdout",
     "output_type": "stream",
     "text": [
      "inserisci a: 3\n",
      "inserisci b: 5\n",
      "True\n"
     ]
    }
   ],
   "source": [
    "#assegno un input alle variabili\n",
    "\n",
    "a = int(input('inserisci a: '))\n",
    "b = int(input('inserisci b: '))\n",
    "\n",
    "#scrivo un'espressione vera nel caso in cui a < b\n",
    "\n",
    "if a < b:\n",
    "    print('True')\n",
    "else:\n",
    "    print('False')"
   ]
  },
  {
   "cell_type": "markdown",
   "metadata": {},
   "source": [
    "## Calcolare l'area di un trapezio popolando 4 variabili chiamate rispettivamente: \n",
    "* `base_maggiore` \n",
    "* `base_minore`\n",
    "* `altezza` \n",
    "* `area`\n",
    "\n",
    "Popolare le prime tre variabili con i seguenti valori: `12`, `14.6`, `7.5` e poi inserire nella variabile `area` il calcolo dell'area.  \n",
    "Infine stampare il valore dell'area con **print()**\n",
    "\n",
    "Ricordare: l'area del trapezio si calcola con la seguente formula:\n",
    "\n",
    "$$\\frac{(base_{maggiore} + base_{minore})\\cdot altezza}{2}$$"
   ]
  },
  {
   "cell_type": "code",
   "execution_count": 12,
   "metadata": {},
   "outputs": [
    {
     "name": "stdout",
     "output_type": "stream",
     "text": [
      "99.75\n"
     ]
    }
   ],
   "source": [
    "#assegno i valori alle variabili\n",
    "\n",
    "base_maggiore = 12\n",
    "base_minore = 14.6\n",
    "altezza = 7.5\n",
    "area = (base_maggiore + base_minore) * altezza / 2\n",
    "\n",
    "#stampo la variabile area\n",
    "\n",
    "print(area)"
   ]
  },
  {
   "cell_type": "code",
   "execution_count": null,
   "metadata": {},
   "outputs": [],
   "source": []
  },
  {
   "cell_type": "code",
   "execution_count": null,
   "metadata": {},
   "outputs": [],
   "source": []
  },
  {
   "cell_type": "markdown",
   "metadata": {},
   "source": [
    "## Spiega le seguenti righe di codice"
   ]
  },
  {
   "cell_type": "code",
   "execution_count": 14,
   "metadata": {
    "ExecuteTime": {
     "end_time": "2021-05-14T15:11:35.981396Z",
     "start_time": "2021-05-14T15:11:35.978632Z"
    }
   },
   "outputs": [
    {
     "name": "stdout",
     "output_type": "stream",
     "text": [
      "False\n"
     ]
    }
   ],
   "source": [
    "x = 10\n",
    "print(5 < x < 15)"
   ]
  },
  {
   "cell_type": "code",
   "execution_count": 15,
   "metadata": {},
   "outputs": [],
   "source": [
    "#è una funzione che restituisce True se la variabile x è compresa tra 5 e 15, mentre restituisce False se è minore di 5\n",
    "#o maggiore di 15"
   ]
  },
  {
   "cell_type": "code",
   "execution_count": null,
   "metadata": {},
   "outputs": [],
   "source": []
  },
  {
   "cell_type": "code",
   "execution_count": null,
   "metadata": {},
   "outputs": [],
   "source": []
  },
  {
   "cell_type": "markdown",
   "metadata": {},
   "source": [
    "## Tra questo elenco di tipi, scegli almeno 2 tipi _immutabili_ e 2  *mutabili*:  \n",
    "`int, float, bool, list, dict, tuple, string`\n",
    "1. immutabile:   \n",
    "2. immutabile:  \n",
    "3. mutabile:  \n",
    "4. mutabile:  \n",
    "\n",
    "##### E spiega la differenza fra un tipo mutabile e uno immutabile"
   ]
  },
  {
   "cell_type": "code",
   "execution_count": 1,
   "metadata": {
    "ExecuteTime": {
     "end_time": "2021-05-14T14:33:49.680673Z",
     "start_time": "2021-05-14T14:33:49.679022Z"
    }
   },
   "outputs": [],
   "source": [
    "# 1.immutabile: tuple\n",
    "# 2.immutabile: string\n",
    "# 3.mutabile: list\n",
    "# 4-mutabile: dictionary\n",
    "\n",
    "#un oggetto è mutbile quando esiste una sua funzione capace di aggiungere ed eliminare elementi dell'oggetto"
   ]
  },
  {
   "cell_type": "code",
   "execution_count": 3,
   "metadata": {},
   "outputs": [
    {
     "data": {
      "text/plain": [
       "[1, 2, 3, 'hello']"
      ]
     },
     "execution_count": 3,
     "metadata": {},
     "output_type": "execute_result"
    }
   ],
   "source": [
    "#list è un oggetto mutabile\n",
    "\n",
    "a = [1,2,3]\n",
    "a.append('hello') \n",
    "a\n",
    "\n",
    "#creo una lista [1,2,3] e poi aggiungo la stringa 'hello' alla suddetta lista\n",
    "#quindi list è un oggetto mutabile"
   ]
  },
  {
   "cell_type": "code",
   "execution_count": null,
   "metadata": {},
   "outputs": [],
   "source": []
  },
  {
   "cell_type": "markdown",
   "metadata": {},
   "source": [
    "## Crea e manipola una lista\n",
    "1. Dichiara una lista di nome `note` che abbia come elementi le prime sei note della scala di do maggiore (do, re, ..., la)\n",
    "2. Stampa la lunghezza della lista `note` ottenuta con la giusta funzione\n",
    "3. Stampa le seconda nota (con la notazione a *slice* \\[...\\])\n",
    "4. Aggiungi la settima nota della scala di do maggiore alla fine della lista\n",
    "5. Stampa una selezione di `note` dalla terza nota fino all'ultima della lista"
   ]
  },
  {
   "cell_type": "code",
   "execution_count": 1,
   "metadata": {},
   "outputs": [
    {
     "data": {
      "text/plain": [
       "6"
      ]
     },
     "execution_count": 1,
     "metadata": {},
     "output_type": "execute_result"
    }
   ],
   "source": [
    "#creo la lista\n",
    "note = ['do', 're', 'mi', 'fa', 'sol', 'la']\n",
    "\n",
    "#stampo la lunghezza con la funzione len()\n",
    "len(note)"
   ]
  },
  {
   "cell_type": "code",
   "execution_count": 6,
   "metadata": {},
   "outputs": [
    {
     "name": "stdout",
     "output_type": "stream",
     "text": [
      "['re']\n"
     ]
    }
   ],
   "source": [
    "#stampo la seconda nota usando lo slicing\n",
    "print(note[1:2:])"
   ]
  },
  {
   "cell_type": "code",
   "execution_count": 7,
   "metadata": {},
   "outputs": [
    {
     "name": "stdout",
     "output_type": "stream",
     "text": [
      "['do', 're', 'mi', 'fa', 'sol', 'la', 'si']\n"
     ]
    }
   ],
   "source": [
    "#aggiungo la nota si alla lista\n",
    "note.append('si')\n",
    "print(note)"
   ]
  },
  {
   "cell_type": "code",
   "execution_count": 10,
   "metadata": {},
   "outputs": [
    {
     "name": "stdout",
     "output_type": "stream",
     "text": [
      "['mi', 'fa', 'sol', 'la', 'si']\n"
     ]
    }
   ],
   "source": [
    "#stampo la lista a partire dalla terza nota\n",
    "print(note[2::])"
   ]
  },
  {
   "cell_type": "markdown",
   "metadata": {},
   "source": [
    "## Ciclo for su una lista\n",
    "Crea un ciclo **for** su un range di numeri dispari da 0 a 50<sup>[1](#forrange)</sup> e stampi con **print()** solo quelli che sono multipli di 3 oppure multipli di 5  \n",
    "\n",
    "---\n",
    "\n",
    "<div><p style=\"font-size: 0.9em\"><a name=\"forrange\">1</a>: usare la funzione <strong>range(start, stop, step)</strong></div></p>"
   ]
  },
  {
   "cell_type": "code",
   "execution_count": 30,
   "metadata": {
    "scrolled": true
   },
   "outputs": [
    {
     "name": "stdout",
     "output_type": "stream",
     "text": [
      "0\n",
      "3\n",
      "5\n",
      "6\n",
      "9\n",
      "10\n",
      "12\n",
      "15\n",
      "18\n",
      "20\n",
      "21\n",
      "24\n",
      "25\n",
      "27\n",
      "30\n",
      "33\n",
      "35\n",
      "36\n",
      "39\n",
      "40\n",
      "42\n",
      "45\n",
      "48\n",
      "50\n"
     ]
    }
   ],
   "source": [
    "#scrivo il ciclo for per cui per ogni numero tra 0 e 50, se è multiplo di 2 o multiplo di 5\n",
    "#viene stamopato\n",
    "\n",
    "for i in range(0, 51):\n",
    "    if i % 3 == 0:\n",
    "        print(i)\n",
    "    elif i % 5 == 0:\n",
    "        print(i)"
   ]
  },
  {
   "cell_type": "code",
   "execution_count": null,
   "metadata": {},
   "outputs": [],
   "source": []
  },
  {
   "cell_type": "code",
   "execution_count": null,
   "metadata": {},
   "outputs": [],
   "source": []
  },
  {
   "cell_type": "markdown",
   "metadata": {
    "collapsed": true
   },
   "source": [
    "## Crea e manipola un dizionario\n",
    "1. Crea un dizionario `durate` con le seguenti caratteristiche:\n",
    "    - chiave: nome della durata (semibreve, minima, etc... fino alla semicroma)\n",
    "    - valore: durata (in quarti, ottavi e sedicesimi: \"4/4\", \"2/4\", etc...)\n",
    "2. Stampa il valore corrispondente alla chiave `croma`\n",
    "3. Aggiungi la coppia chiave:valore `biscroma`:`1/32`\n",
    "4. Stampa l'intero dizionario"
   ]
  },
  {
   "cell_type": "code",
   "execution_count": 17,
   "metadata": {},
   "outputs": [
    {
     "data": {
      "text/plain": [
       "{'semibreve': '4/4',\n",
       " 'minima': '2/4',\n",
       " 'seminima': '1/4',\n",
       " 'croma': '1/8',\n",
       " 'semicroma': '1/16'}"
      ]
     },
     "execution_count": 17,
     "metadata": {},
     "output_type": "execute_result"
    }
   ],
   "source": [
    "#creo il dizionario\n",
    "\n",
    "durate = {'semibreve':'4/4', 'minima':'2/4', 'seminima':'1/4', 'croma':'1/8', 'semicroma':'1/16'}\n",
    "durate"
   ]
  },
  {
   "cell_type": "code",
   "execution_count": 18,
   "metadata": {},
   "outputs": [
    {
     "data": {
      "text/plain": [
       "'1/8'"
      ]
     },
     "execution_count": 18,
     "metadata": {},
     "output_type": "execute_result"
    }
   ],
   "source": [
    "#stampo il valore della nota richiamando la chiave corrispondente\n",
    "durate['croma']"
   ]
  },
  {
   "cell_type": "code",
   "execution_count": 19,
   "metadata": {},
   "outputs": [],
   "source": [
    "#aggiungo il nuovo valore al dizionario\n",
    "\n",
    "durate['biscroma'] = '1/32'"
   ]
  },
  {
   "cell_type": "code",
   "execution_count": 20,
   "metadata": {},
   "outputs": [
    {
     "data": {
      "text/plain": [
       "{'semibreve': '4/4',\n",
       " 'minima': '2/4',\n",
       " 'seminima': '1/4',\n",
       " 'croma': '1/8',\n",
       " 'semicroma': '1/16',\n",
       " 'biscroma': '1/32'}"
      ]
     },
     "execution_count": 20,
     "metadata": {},
     "output_type": "execute_result"
    }
   ],
   "source": [
    "#stampo l'intero dizonario\n",
    "\n",
    "durate"
   ]
  },
  {
   "cell_type": "markdown",
   "metadata": {},
   "source": [
    "## Ciclo for su un dizionario\n",
    "1. *Per ogni coppia chiave:valore* del dizionario `durate`, creato prima, stampa la stringa del tipo\n",
    "`\"La semibreve dura 4/4\"`, etc..."
   ]
  },
  {
   "cell_type": "code",
   "execution_count": 21,
   "metadata": {},
   "outputs": [
    {
     "name": "stdout",
     "output_type": "stream",
     "text": [
      "la semibreve dura 4/4\n",
      "la minima dura 2/4\n",
      "la seminima dura 1/4\n",
      "la croma dura 1/8\n",
      "la semicroma dura 1/16\n",
      "la biscroma dura 1/32\n"
     ]
    }
   ],
   "source": [
    "#scrivo il ciclo for che scorre il dizionario e stampa la stringa 'la'\n",
    "#poi la chiave, il nome della nota\n",
    "#poi la stringa 'dura\n",
    "#e in fine stampa la chiave e il valore meno la chiave, quindi solo il valore '\n",
    "\n",
    "for note in durate:\n",
    "    print('la', note, 'dura', durate[note] )\n",
    "  "
   ]
  },
  {
   "cell_type": "code",
   "execution_count": null,
   "metadata": {},
   "outputs": [],
   "source": []
  },
  {
   "cell_type": "code",
   "execution_count": null,
   "metadata": {},
   "outputs": [],
   "source": []
  },
  {
   "cell_type": "markdown",
   "metadata": {
    "collapsed": true
   },
   "source": [
    "## Crea un *if* con le seguenti caratteristiche:\n",
    "1. data una variabile `pitch` espressa in valori MIDI (0-127)\n",
    "2. calcoli la distanza dal \"do centrale\" (valore: 60)<sup>[1](#note1)</sup> \n",
    "3. e stampi:\n",
    "    - \"le due note sono uguali\" se la distanza è 0\n",
    "    - \"la distanza è compresa in un'ottava\" se la distanza è minore di 12\n",
    "    - \"la distanza è fra un'ottava e due ottave\" se la distanza è minore di 24\n",
    "    - \"la distanza è fra due e tre ottave\" se la distanza è minore di 36\n",
    "    - \"la distanza è enorme!!\" in qualunque altro caso\n",
    "    \n",
    "4. assegnare alla variabile `pitch` valori diversi: 12, 33, 8, 49, 7, 0 e rieseguire il codice\n",
    "\n",
    "---\n",
    "\n",
    "<div><p style=\"font-size: 0.9em\"><a name=\"note1\">1</a>: la funzione <strong>abs()</strong> resituisce il valore assoluto di un numero, cioè il numero stesso privo si segno. Per calcolare la distanza useremo la sottrazione e il valore assoluto: 49 e 71 sono entrambi a distanza 11 da 60</div></p>"
   ]
  },
  {
   "cell_type": "code",
   "execution_count": 17,
   "metadata": {},
   "outputs": [
    {
     "name": "stdout",
     "output_type": "stream",
     "text": [
      "la distanza è enorme!!\n",
      "la distanza è enorme!!\n",
      "la distanza è enorme!!\n",
      "la distanza è enorme!!\n",
      "la distanza è enorme!!\n",
      "la distanza è enorme!!\n",
      "la distanza è enorme!!\n",
      "la distanza è enorme!!\n",
      "la distanza è enorme!!\n",
      "la distanza è enorme!!\n",
      "la distanza è enorme!!\n",
      "la distanza è enorme!!\n",
      "la distanza è enorme!!\n",
      "la distanza è enorme!!\n",
      "la distanza è enorme!!\n",
      "la distanza è enorme!!\n",
      "la distanza è enorme!!\n",
      "la distanza è enorme!!\n",
      "la distanza è enorme!!\n",
      "la distanza è enorme!!\n",
      "la distanza è enorme!!\n",
      "la distanza è enorme!!\n",
      "la distanza è enorme!!\n",
      "la distanza è enorme!!\n",
      "la distanza è enorme!!\n",
      "la distanza è fra due e tre ottave\n",
      "la distanza è fra due e tre ottave\n",
      "la distanza è fra due e tre ottave\n",
      "la distanza è fra due e tre ottave\n",
      "la distanza è fra due e tre ottave\n",
      "la distanza è fra due e tre ottave\n",
      "la distanza è fra due e tre ottave\n",
      "la distanza è fra due e tre ottave\n",
      "la distanza è fra due e tre ottave\n",
      "la distanza è fra due e tre ottave\n",
      "la distanza è fra due e tre ottave\n",
      "la distanza è fra due e tre ottave\n",
      "a distanza è fra un'ottava e due ottave\n",
      "a distanza è fra un'ottava e due ottave\n",
      "a distanza è fra un'ottava e due ottave\n",
      "a distanza è fra un'ottava e due ottave\n",
      "a distanza è fra un'ottava e due ottave\n",
      "a distanza è fra un'ottava e due ottave\n",
      "a distanza è fra un'ottava e due ottave\n",
      "a distanza è fra un'ottava e due ottave\n",
      "a distanza è fra un'ottava e due ottave\n",
      "a distanza è fra un'ottava e due ottave\n",
      "a distanza è fra un'ottava e due ottave\n",
      "a distanza è fra un'ottava e due ottave\n",
      "la distanza è compresa in un'otava\n",
      "la distanza è compresa in un'otava\n",
      "la distanza è compresa in un'otava\n",
      "la distanza è compresa in un'otava\n",
      "la distanza è compresa in un'otava\n",
      "la distanza è compresa in un'otava\n",
      "la distanza è compresa in un'otava\n",
      "la distanza è compresa in un'otava\n",
      "la distanza è compresa in un'otava\n",
      "la distanza è compresa in un'otava\n",
      "la distanza è compresa in un'otava\n",
      "le due note sono uguali\n",
      "la distanza è compresa in un'otava\n",
      "la distanza è compresa in un'otava\n",
      "la distanza è compresa in un'otava\n",
      "la distanza è compresa in un'otava\n",
      "la distanza è compresa in un'otava\n",
      "la distanza è compresa in un'otava\n",
      "la distanza è compresa in un'otava\n",
      "la distanza è compresa in un'otava\n",
      "la distanza è compresa in un'otava\n",
      "la distanza è compresa in un'otava\n",
      "la distanza è compresa in un'otava\n",
      "a distanza è fra un'ottava e due ottave\n",
      "a distanza è fra un'ottava e due ottave\n",
      "a distanza è fra un'ottava e due ottave\n",
      "a distanza è fra un'ottava e due ottave\n",
      "a distanza è fra un'ottava e due ottave\n",
      "a distanza è fra un'ottava e due ottave\n",
      "a distanza è fra un'ottava e due ottave\n",
      "a distanza è fra un'ottava e due ottave\n",
      "a distanza è fra un'ottava e due ottave\n",
      "a distanza è fra un'ottava e due ottave\n",
      "a distanza è fra un'ottava e due ottave\n",
      "a distanza è fra un'ottava e due ottave\n",
      "la distanza è fra due e tre ottave\n",
      "la distanza è fra due e tre ottave\n",
      "la distanza è fra due e tre ottave\n",
      "la distanza è fra due e tre ottave\n",
      "la distanza è fra due e tre ottave\n",
      "la distanza è fra due e tre ottave\n",
      "la distanza è fra due e tre ottave\n",
      "la distanza è fra due e tre ottave\n",
      "la distanza è fra due e tre ottave\n",
      "la distanza è fra due e tre ottave\n",
      "la distanza è fra due e tre ottave\n",
      "la distanza è fra due e tre ottave\n",
      "la distanza è enorme!!\n",
      "la distanza è enorme!!\n",
      "la distanza è enorme!!\n",
      "la distanza è enorme!!\n",
      "la distanza è enorme!!\n",
      "la distanza è enorme!!\n",
      "la distanza è enorme!!\n",
      "la distanza è enorme!!\n",
      "la distanza è enorme!!\n",
      "la distanza è enorme!!\n",
      "la distanza è enorme!!\n",
      "la distanza è enorme!!\n",
      "la distanza è enorme!!\n",
      "la distanza è enorme!!\n",
      "la distanza è enorme!!\n",
      "la distanza è enorme!!\n",
      "la distanza è enorme!!\n",
      "la distanza è enorme!!\n",
      "la distanza è enorme!!\n",
      "la distanza è enorme!!\n",
      "la distanza è enorme!!\n",
      "la distanza è enorme!!\n",
      "la distanza è enorme!!\n",
      "la distanza è enorme!!\n",
      "la distanza è enorme!!\n",
      "la distanza è enorme!!\n",
      "la distanza è enorme!!\n",
      "la distanza è enorme!!\n",
      "la distanza è enorme!!\n",
      "la distanza è enorme!!\n",
      "la distanza è enorme!!\n",
      "la distanza è enorme!!\n"
     ]
    }
   ],
   "source": [
    "#faccio il ciclo for \n",
    "for pitch in range(0, 128):\n",
    "    \n",
    "    #calcolo il la distanza dal do centrale\n",
    "    do = abs(pitch - 60)\n",
    "    \n",
    "    #creo un if che controlla la distanza dal do centrale e stampa i messaggi \n",
    "    if do == 0:\n",
    "        print('le due note sono uguali')\n",
    "    elif do < 12:\n",
    "        print(\"la distanza è compresa in un'otava\")\n",
    "    elif do < 24:\n",
    "        print(\"a distanza è fra un'ottava e due ottave\")\n",
    "    elif do < 36:\n",
    "        print(\"la distanza è fra due e tre ottave\")\n",
    "    else:\n",
    "        print(\"la distanza è enorme!!\")\n",
    "    "
   ]
  },
  {
   "cell_type": "code",
   "execution_count": null,
   "metadata": {},
   "outputs": [],
   "source": []
  },
  {
   "cell_type": "code",
   "execution_count": null,
   "metadata": {},
   "outputs": [],
   "source": []
  },
  {
   "cell_type": "markdown",
   "metadata": {},
   "source": [
    "## Crea e chiama una funzione\n",
    "1. Crea una funzione **separa_parole(stringa)** che prenda come argomento una stringa con più parole...\n",
    "2. ... e che restituisca una lista i cui elementi siano le singole parole\n",
    "3. Chiamare la funzione con argomento _\"Guido van Rossum\"_\n",
    "4. Chiamare la funzione con argomento _\"Nel mezzo del cammin di nostra vita mi ritrovai per una selva oscura\"_"
   ]
  },
  {
   "cell_type": "code",
   "execution_count": 31,
   "metadata": {},
   "outputs": [],
   "source": [
    "#definisco la funzione\n",
    "def separa_parole(stringa):\n",
    "\n",
    "#per ogni parola separerà la frase \n",
    "    parole = stringa.split()\n",
    "    \n",
    "#creo un ciclo for ogni parola nel testo stampa la parola\n",
    "    for parola in parole:\n",
    "        print(parola)\n"
   ]
  },
  {
   "cell_type": "code",
   "execution_count": 32,
   "metadata": {},
   "outputs": [
    {
     "name": "stdout",
     "output_type": "stream",
     "text": [
      "Guido\n",
      "van\n",
      "Rossum\n"
     ]
    }
   ],
   "source": [
    "separa_parole('Guido van Rossum')"
   ]
  },
  {
   "cell_type": "code",
   "execution_count": 33,
   "metadata": {},
   "outputs": [
    {
     "name": "stdout",
     "output_type": "stream",
     "text": [
      "Nel\n",
      "mezzo\n",
      "del\n",
      "cammin\n",
      "di\n",
      "nostra\n",
      "vita\n",
      "mi\n",
      "ritrovai\n",
      "per\n",
      "una\n",
      "selva\n",
      "oscura\n"
     ]
    }
   ],
   "source": [
    "separa_parole('Nel mezzo del cammin di nostra vita mi ritrovai per una selva oscura')"
   ]
  },
  {
   "cell_type": "markdown",
   "metadata": {},
   "source": [
    "## Crea la funzione pari(n)\n",
    "* Il cui argomento sia l'intero `n` e restituisca (tramite l'istruzione **return**) una lista di numeri pari compresi fra 0 e *n*\n",
    "* Chiama la funzione per n = 11\n",
    "* Chiama la funzione per n = 30\n",
    "\n",
    "##### Esempio:\n",
    "\n",
    "```py\n",
    ">>> pari(12)\n",
    ">>> [0,2,4,6,8,10,12]\n",
    "\n",
    ">>> pari(15)\n",
    ">>> [0,2,4,6,8,10,12,14]\n",
    "```"
   ]
  },
  {
   "cell_type": "code",
   "execution_count": 6,
   "metadata": {},
   "outputs": [],
   "source": [
    "#definisco la funzione\n",
    "def pari(n):\n",
    "\n",
    "#creo il contatore    \n",
    "    c = 0\n",
    "\n",
    "#creao una lista vuota per i numeri pari\n",
    "    parilist =[]\n",
    "\n",
    "#creo un ciclo while che funziona finchè il contatore è minore o uguale a n   \n",
    "        while c <= n:\n",
    " \n",
    " #il contatore aumenta di un'unità per scorrere i valori       \n",
    "        c = c + 1 \n",
    "        \n",
    "#metto un ciclo if cge si eseque se c / 2 da resto 0, trovo i numeri pari\n",
    "        if c % 2 == 0:\n",
    "            \n",
    "#se il numero è pari viene aggiuto alla lista vuota\n",
    "            parilist.append(c)\n",
    "\n",
    "    return parilist"
   ]
  },
  {
   "cell_type": "code",
   "execution_count": 7,
   "metadata": {},
   "outputs": [
    {
     "data": {
      "text/plain": [
       "[2, 4, 6, 8, 10, 12]"
      ]
     },
     "execution_count": 7,
     "metadata": {},
     "output_type": "execute_result"
    }
   ],
   "source": [
    "pari(11)"
   ]
  },
  {
   "cell_type": "code",
   "execution_count": 8,
   "metadata": {},
   "outputs": [
    {
     "data": {
      "text/plain": [
       "[2, 4, 6, 8, 10, 12, 14, 16]"
      ]
     },
     "execution_count": 8,
     "metadata": {},
     "output_type": "execute_result"
    }
   ],
   "source": [
    "pari(15)"
   ]
  },
  {
   "cell_type": "markdown",
   "metadata": {},
   "source": [
    "## funzione input()\n",
    "\n",
    "1. Chiedi all'utente di inserire la sua età tramite la funzione **input()**\n",
    "2. Calcola  (e stampa) l'anno di nascita\n",
    "\n",
    "##### Esempio:\n",
    "\n",
    "```py\n",
    ">>> Quanti anni hai? 14\n",
    ">>> \"Siamo nel 2021, quindi il tuo anno di nascita è il 2007\"\n",
    "```"
   ]
  },
  {
   "cell_type": "code",
   "execution_count": 1,
   "metadata": {
    "ExecuteTime": {
     "end_time": "2021-05-21T20:19:04.864336Z",
     "start_time": "2021-05-21T20:19:02.201804Z"
    }
   },
   "outputs": [
    {
     "name": "stdout",
     "output_type": "stream",
     "text": [
      "quanti anni hai? 49\n",
      "siamo nel 2021, quindi il tuo anno di nascita è il 1972\n"
     ]
    }
   ],
   "source": [
    "#stabilisco l'input\n",
    "età = int(input('quanti anni hai? '))\n",
    "\n",
    "#stampo la stringa con alla fine il prodotto tra 2021 - l'input\n",
    "print('siamo nel 2021, quindi il tuo anno di nascita è il', 2021 - età)\n",
    "\n",
    "\n"
   ]
  },
  {
   "cell_type": "code",
   "execution_count": null,
   "metadata": {},
   "outputs": [],
   "source": []
  },
  {
   "cell_type": "code",
   "execution_count": null,
   "metadata": {},
   "outputs": [],
   "source": []
  },
  {
   "cell_type": "markdown",
   "metadata": {},
   "source": [
    "## Crea una funzione `nota()` che prenda come argomento una nota espressa in valore (intero) MIDI (0-127) e:\n",
    "* Stampi il nome della nota (do, do#, re, mi, ... )<sup>[1](#not1)</sup> e l'ottava di appartenenza<sup>[2](#not2)</sup> separate da un trattino (`-`)\n",
    "\n",
    "---\n",
    "\n",
    "<div><p style=\"font-size: 0.9em\"><a name=\"not1\">1</a>: usare l'operatore modulo che restituisca l'indice di una lista che contiene i nomi delle note (<code>%</code>)</div></p>\n",
    "<div><p style=\"font-size: 0.9em\"><a name=\"not2\">2</a>: usare l'operatore divisione intera (<code>//</code>)</div></p>\n",
    "\n",
    "---\n",
    "\n",
    "##### Esempi: \n",
    "\n",
    "```py\n",
    ">>> che_nota(73)\n",
    ">>> \"do#-6\"\n",
    "\n",
    ">>> che_nota(12)\n",
    ">>> \"do-1\"\n",
    "\n",
    ">>> che_nota(7)\n",
    ">>> \"sol-0\"\n",
    "```"
   ]
  },
  {
   "cell_type": "code",
   "execution_count": null,
   "metadata": {},
   "outputs": [],
   "source": []
  },
  {
   "cell_type": "code",
   "execution_count": null,
   "metadata": {},
   "outputs": [],
   "source": []
  },
  {
   "cell_type": "code",
   "execution_count": null,
   "metadata": {},
   "outputs": [],
   "source": []
  }
 ],
 "metadata": {
  "kernelspec": {
   "display_name": "Python 3",
   "language": "python",
   "name": "python3"
  },
  "language_info": {
   "codemirror_mode": {
    "name": "ipython",
    "version": 3
   },
   "file_extension": ".py",
   "mimetype": "text/x-python",
   "name": "python",
   "nbconvert_exporter": "python",
   "pygments_lexer": "ipython3",
   "version": "3.7.6"
  },
  "toc": {
   "base_numbering": 1,
   "nav_menu": {},
   "number_sections": true,
   "sideBar": true,
   "skip_h1_title": false,
   "title_cell": "Table of Contents",
   "title_sidebar": "Contents",
   "toc_cell": false,
   "toc_position": {},
   "toc_section_display": true,
   "toc_window_display": false
  }
 },
 "nbformat": 4,
 "nbformat_minor": 2
}
