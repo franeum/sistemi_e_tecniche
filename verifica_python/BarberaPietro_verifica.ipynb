{
 "cells": [
  {
   "cell_type": "markdown",
   "metadata": {
    "collapsed": true
   },
   "source": [
    "# Verifica Python SMET propedeutico\n",
    "\n",
    "Per realizzare la verifica potete cercare su internet CONSAPEVOLMENTE, quindi dovete essere in grado di spiegare quello che scrivete, usando i commenti (che sono linee python preceduto dal simbolo `#`): \n",
    "\n",
    "_Commentate, Commentate, Commentate..._\n",
    "\n",
    "---\n",
    "\n",
    "Scrivete le _docstrings_ sotto la definizione delle funzioni\n",
    "\n",
    "---\n",
    "\n",
    "Siete liberi di aggiungere **celle** per scrivere codice\n",
    "\n",
    "---\n",
    "\n",
    "Una volta terminato, rinominate il file con il vostro nome: _mionome_verifica.ipynb_ e spedite all'indirizzo **frabianchi72@gmail.com**\n",
    "\n",
    "---\n",
    "\n",
    "Buon lavoro!"
   ]
  },
  {
   "cell_type": "markdown",
   "metadata": {},
   "source": [
    "## Quale funzione puoi usare per avere l'elenco dei metodi di un oggetto?\n",
    "Fai un esempio con l'oggetto **float**"
   ]
  },
  {
   "cell_type": "code",
   "execution_count": 1,
   "metadata": {},
   "outputs": [
    {
     "data": {
      "text/plain": [
       "['__abs__',\n",
       " '__add__',\n",
       " '__and__',\n",
       " '__bool__',\n",
       " '__ceil__',\n",
       " '__class__',\n",
       " '__delattr__',\n",
       " '__dir__',\n",
       " '__divmod__',\n",
       " '__doc__',\n",
       " '__eq__',\n",
       " '__float__',\n",
       " '__floor__',\n",
       " '__floordiv__',\n",
       " '__format__',\n",
       " '__ge__',\n",
       " '__getattribute__',\n",
       " '__getnewargs__',\n",
       " '__gt__',\n",
       " '__hash__',\n",
       " '__index__',\n",
       " '__init__',\n",
       " '__init_subclass__',\n",
       " '__int__',\n",
       " '__invert__',\n",
       " '__le__',\n",
       " '__lshift__',\n",
       " '__lt__',\n",
       " '__mod__',\n",
       " '__mul__',\n",
       " '__ne__',\n",
       " '__neg__',\n",
       " '__new__',\n",
       " '__or__',\n",
       " '__pos__',\n",
       " '__pow__',\n",
       " '__radd__',\n",
       " '__rand__',\n",
       " '__rdivmod__',\n",
       " '__reduce__',\n",
       " '__reduce_ex__',\n",
       " '__repr__',\n",
       " '__rfloordiv__',\n",
       " '__rlshift__',\n",
       " '__rmod__',\n",
       " '__rmul__',\n",
       " '__ror__',\n",
       " '__round__',\n",
       " '__rpow__',\n",
       " '__rrshift__',\n",
       " '__rshift__',\n",
       " '__rsub__',\n",
       " '__rtruediv__',\n",
       " '__rxor__',\n",
       " '__setattr__',\n",
       " '__sizeof__',\n",
       " '__str__',\n",
       " '__sub__',\n",
       " '__subclasshook__',\n",
       " '__truediv__',\n",
       " '__trunc__',\n",
       " '__xor__',\n",
       " 'as_integer_ratio',\n",
       " 'bit_length',\n",
       " 'conjugate',\n",
       " 'denominator',\n",
       " 'from_bytes',\n",
       " 'imag',\n",
       " 'numerator',\n",
       " 'real',\n",
       " 'to_bytes']"
      ]
     },
     "execution_count": 1,
     "metadata": {},
     "output_type": "execute_result"
    }
   ],
   "source": [
    "#per aprire la lista dei \"metodi\", bisogna utilizzare la funzione \"dir(\"oggetto da analizzare\")\".\n",
    "\n",
    "\n",
    "x = 10\n",
    "\n",
    "dir(x)"
   ]
  },
  {
   "cell_type": "markdown",
   "metadata": {},
   "source": [
    "## Come richiami la pagina di `help` di un oggetto, di un metodo e di una funzione?\n",
    "Fai un esempio con la funzione **len**"
   ]
  },
  {
   "cell_type": "code",
   "execution_count": null,
   "metadata": {},
   "outputs": [],
   "source": [
    "#La pagina \"help\" di richiama ponendo l'oggetto, la funzione o il metodo tra parentesi. \n",
    "\n",
    "#\"help(\"ciò che voglio analizzare\")\"."
   ]
  },
  {
   "cell_type": "code",
   "execution_count": 3,
   "metadata": {},
   "outputs": [
    {
     "name": "stdout",
     "output_type": "stream",
     "text": [
      "Help on built-in function len in module builtins:\n",
      "\n",
      "len(obj, /)\n",
      "    Return the number of items in a container.\n",
      "\n"
     ]
    }
   ],
   "source": [
    "help(len)"
   ]
  },
  {
   "cell_type": "code",
   "execution_count": 22,
   "metadata": {},
   "outputs": [
    {
     "name": "stdout",
     "output_type": "stream",
     "text": [
      "Help on int object:\n",
      "\n",
      "class int(object)\n",
      " |  int([x]) -> integer\n",
      " |  int(x, base=10) -> integer\n",
      " |  \n",
      " |  Convert a number or string to an integer, or return 0 if no arguments\n",
      " |  are given.  If x is a number, return x.__int__().  For floating point\n",
      " |  numbers, this truncates towards zero.\n",
      " |  \n",
      " |  If x is not a number or if base is given, then x must be a string,\n",
      " |  bytes, or bytearray instance representing an integer literal in the\n",
      " |  given base.  The literal can be preceded by '+' or '-' and be surrounded\n",
      " |  by whitespace.  The base defaults to 10.  Valid bases are 0 and 2-36.\n",
      " |  Base 0 means to interpret the base from the string as an integer literal.\n",
      " |  >>> int('0b100', base=0)\n",
      " |  4\n",
      " |  \n",
      " |  Built-in subclasses:\n",
      " |      bool\n",
      " |  \n",
      " |  Methods defined here:\n",
      " |  \n",
      " |  __abs__(self, /)\n",
      " |      abs(self)\n",
      " |  \n",
      " |  __add__(self, value, /)\n",
      " |      Return self+value.\n",
      " |  \n",
      " |  __and__(self, value, /)\n",
      " |      Return self&value.\n",
      " |  \n",
      " |  __bool__(self, /)\n",
      " |      self != 0\n",
      " |  \n",
      " |  __ceil__(...)\n",
      " |      Ceiling of an Integral returns itself.\n",
      " |  \n",
      " |  __divmod__(self, value, /)\n",
      " |      Return divmod(self, value).\n",
      " |  \n",
      " |  __eq__(self, value, /)\n",
      " |      Return self==value.\n",
      " |  \n",
      " |  __float__(self, /)\n",
      " |      float(self)\n",
      " |  \n",
      " |  __floor__(...)\n",
      " |      Flooring an Integral returns itself.\n",
      " |  \n",
      " |  __floordiv__(self, value, /)\n",
      " |      Return self//value.\n",
      " |  \n",
      " |  __format__(self, format_spec, /)\n",
      " |      Default object formatter.\n",
      " |  \n",
      " |  __ge__(self, value, /)\n",
      " |      Return self>=value.\n",
      " |  \n",
      " |  __getattribute__(self, name, /)\n",
      " |      Return getattr(self, name).\n",
      " |  \n",
      " |  __getnewargs__(self, /)\n",
      " |  \n",
      " |  __gt__(self, value, /)\n",
      " |      Return self>value.\n",
      " |  \n",
      " |  __hash__(self, /)\n",
      " |      Return hash(self).\n",
      " |  \n",
      " |  __index__(self, /)\n",
      " |      Return self converted to an integer, if self is suitable for use as an index into a list.\n",
      " |  \n",
      " |  __int__(self, /)\n",
      " |      int(self)\n",
      " |  \n",
      " |  __invert__(self, /)\n",
      " |      ~self\n",
      " |  \n",
      " |  __le__(self, value, /)\n",
      " |      Return self<=value.\n",
      " |  \n",
      " |  __lshift__(self, value, /)\n",
      " |      Return self<<value.\n",
      " |  \n",
      " |  __lt__(self, value, /)\n",
      " |      Return self<value.\n",
      " |  \n",
      " |  __mod__(self, value, /)\n",
      " |      Return self%value.\n",
      " |  \n",
      " |  __mul__(self, value, /)\n",
      " |      Return self*value.\n",
      " |  \n",
      " |  __ne__(self, value, /)\n",
      " |      Return self!=value.\n",
      " |  \n",
      " |  __neg__(self, /)\n",
      " |      -self\n",
      " |  \n",
      " |  __or__(self, value, /)\n",
      " |      Return self|value.\n",
      " |  \n",
      " |  __pos__(self, /)\n",
      " |      +self\n",
      " |  \n",
      " |  __pow__(self, value, mod=None, /)\n",
      " |      Return pow(self, value, mod).\n",
      " |  \n",
      " |  __radd__(self, value, /)\n",
      " |      Return value+self.\n",
      " |  \n",
      " |  __rand__(self, value, /)\n",
      " |      Return value&self.\n",
      " |  \n",
      " |  __rdivmod__(self, value, /)\n",
      " |      Return divmod(value, self).\n",
      " |  \n",
      " |  __repr__(self, /)\n",
      " |      Return repr(self).\n",
      " |  \n",
      " |  __rfloordiv__(self, value, /)\n",
      " |      Return value//self.\n",
      " |  \n",
      " |  __rlshift__(self, value, /)\n",
      " |      Return value<<self.\n",
      " |  \n",
      " |  __rmod__(self, value, /)\n",
      " |      Return value%self.\n",
      " |  \n",
      " |  __rmul__(self, value, /)\n",
      " |      Return value*self.\n",
      " |  \n",
      " |  __ror__(self, value, /)\n",
      " |      Return value|self.\n",
      " |  \n",
      " |  __round__(...)\n",
      " |      Rounding an Integral returns itself.\n",
      " |      Rounding with an ndigits argument also returns an integer.\n",
      " |  \n",
      " |  __rpow__(self, value, mod=None, /)\n",
      " |      Return pow(value, self, mod).\n",
      " |  \n",
      " |  __rrshift__(self, value, /)\n",
      " |      Return value>>self.\n",
      " |  \n",
      " |  __rshift__(self, value, /)\n",
      " |      Return self>>value.\n",
      " |  \n",
      " |  __rsub__(self, value, /)\n",
      " |      Return value-self.\n",
      " |  \n",
      " |  __rtruediv__(self, value, /)\n",
      " |      Return value/self.\n",
      " |  \n",
      " |  __rxor__(self, value, /)\n",
      " |      Return value^self.\n",
      " |  \n",
      " |  __sizeof__(self, /)\n",
      " |      Returns size in memory, in bytes.\n",
      " |  \n",
      " |  __sub__(self, value, /)\n",
      " |      Return self-value.\n",
      " |  \n",
      " |  __truediv__(self, value, /)\n",
      " |      Return self/value.\n",
      " |  \n",
      " |  __trunc__(...)\n",
      " |      Truncating an Integral returns itself.\n",
      " |  \n",
      " |  __xor__(self, value, /)\n",
      " |      Return self^value.\n",
      " |  \n",
      " |  as_integer_ratio(self, /)\n",
      " |      Return integer ratio.\n",
      " |      \n",
      " |      Return a pair of integers, whose ratio is exactly equal to the original int\n",
      " |      and with a positive denominator.\n",
      " |      \n",
      " |      >>> (10).as_integer_ratio()\n",
      " |      (10, 1)\n",
      " |      >>> (-10).as_integer_ratio()\n",
      " |      (-10, 1)\n",
      " |      >>> (0).as_integer_ratio()\n",
      " |      (0, 1)\n",
      " |  \n",
      " |  bit_length(self, /)\n",
      " |      Number of bits necessary to represent self in binary.\n",
      " |      \n",
      " |      >>> bin(37)\n",
      " |      '0b100101'\n",
      " |      >>> (37).bit_length()\n",
      " |      6\n",
      " |  \n",
      " |  conjugate(...)\n",
      " |      Returns self, the complex conjugate of any int.\n",
      " |  \n",
      " |  to_bytes(self, /, length, byteorder, *, signed=False)\n",
      " |      Return an array of bytes representing an integer.\n",
      " |      \n",
      " |      length\n",
      " |        Length of bytes object to use.  An OverflowError is raised if the\n",
      " |        integer is not representable with the given number of bytes.\n",
      " |      byteorder\n",
      " |        The byte order used to represent the integer.  If byteorder is 'big',\n",
      " |        the most significant byte is at the beginning of the byte array.  If\n",
      " |        byteorder is 'little', the most significant byte is at the end of the\n",
      " |        byte array.  To request the native byte order of the host system, use\n",
      " |        `sys.byteorder' as the byte order value.\n",
      " |      signed\n",
      " |        Determines whether two's complement is used to represent the integer.\n",
      " |        If signed is False and a negative integer is given, an OverflowError\n",
      " |        is raised.\n",
      " |  \n",
      " |  ----------------------------------------------------------------------\n",
      " |  Class methods defined here:\n",
      " |  \n",
      " |  from_bytes(bytes, byteorder, *, signed=False) from builtins.type\n",
      " |      Return the integer represented by the given array of bytes.\n",
      " |      \n",
      " |      bytes\n",
      " |        Holds the array of bytes to convert.  The argument must either\n",
      " |        support the buffer protocol or be an iterable object producing bytes.\n",
      " |        Bytes and bytearray are examples of built-in objects that support the\n",
      " |        buffer protocol.\n",
      " |      byteorder\n",
      " |        The byte order used to represent the integer.  If byteorder is 'big',\n",
      " |        the most significant byte is at the beginning of the byte array.  If\n",
      " |        byteorder is 'little', the most significant byte is at the end of the\n",
      " |        byte array.  To request the native byte order of the host system, use\n",
      " |        `sys.byteorder' as the byte order value.\n",
      " |      signed\n",
      " |        Indicates whether two's complement is used to represent the integer.\n",
      " |  \n",
      " |  ----------------------------------------------------------------------\n",
      " |  Static methods defined here:\n",
      " |  \n",
      " |  __new__(*args, **kwargs) from builtins.type\n",
      " |      Create and return a new object.  See help(type) for accurate signature.\n",
      " |  \n",
      " |  ----------------------------------------------------------------------\n",
      " |  Data descriptors defined here:\n",
      " |  \n",
      " |  denominator\n",
      " |      the denominator of a rational number in lowest terms\n",
      " |  \n",
      " |  imag\n",
      " |      the imaginary part of a complex number\n",
      " |  \n",
      " |  numerator\n",
      " |      the numerator of a rational number in lowest terms\n",
      " |  \n",
      " |  real\n",
      " |      the real part of a complex number\n",
      "\n"
     ]
    }
   ],
   "source": [
    "help(numero.numerator)"
   ]
  },
  {
   "cell_type": "code",
   "execution_count": 8,
   "metadata": {},
   "outputs": [],
   "source": [
    "def funzione_prova():\n",
    "    \"\"\"il mio funzinamento è spiegato qui\"\"\"\n",
    "\n",
    "    "
   ]
  },
  {
   "cell_type": "code",
   "execution_count": 9,
   "metadata": {},
   "outputs": [
    {
     "name": "stdout",
     "output_type": "stream",
     "text": [
      "Help on function funzione_prova in module __main__:\n",
      "\n",
      "funzione_prova()\n",
      "    il mio funzinamento è spiegato qui\n",
      "\n"
     ]
    }
   ],
   "source": [
    "help(funzione_prova)"
   ]
  },
  {
   "cell_type": "markdown",
   "metadata": {},
   "source": [
    "## Date le variabili `x` e `y`, eseguire la seguente operazione (e stampare il risultato)\n",
    "\n",
    "$$x = 15$$\n",
    "$$y = 12.1$$\n",
    "\n",
    "$$7.2 + \\frac{1.1x}{9} \\cdot y$$"
   ]
  },
  {
   "cell_type": "code",
   "execution_count": 5,
   "metadata": {},
   "outputs": [
    {
     "name": "stdout",
     "output_type": "stream",
     "text": [
      "29.38333333333333\n"
     ]
    }
   ],
   "source": [
    "#assegno le variabili:\n",
    "\n",
    "x = 15 \n",
    "\n",
    "y = 12.1\n",
    "\n",
    "#asseno ad una terza variabile il risultato, del calcolo al numeratore:\n",
    "\n",
    "t = 1.1 * x\n",
    "\n",
    "#asseno ad una quarta variabile: \"t/9*y\":\n",
    "\n",
    "e = t / 9 * y\n",
    "\n",
    "#stampo il risutato sommato a \"7.2\":\n",
    "\n",
    "print(7.2+ e)\n"
   ]
  },
  {
   "cell_type": "markdown",
   "metadata": {},
   "source": [
    "## Usando gli operatori di confronto (`!=`, `<`, `>`, `==`, `>=`, `<=`): \n",
    "* scrivere almeno due espressioni (usando operatori e i soli numeri interi) che restituiscano **True** e due che restituiscano **False**"
   ]
  },
  {
   "cell_type": "code",
   "execution_count": 6,
   "metadata": {},
   "outputs": [
    {
     "data": {
      "text/plain": [
       "True"
      ]
     },
     "execution_count": 6,
     "metadata": {},
     "output_type": "execute_result"
    }
   ],
   "source": [
    "#\"x\" è compreso tra 1 e 10 quindi in output otterò \"True\"\n",
    "\n",
    "x = 5 \n",
    "\n",
    "1 <= x <= 10"
   ]
  },
  {
   "cell_type": "code",
   "execution_count": 7,
   "metadata": {},
   "outputs": [
    {
     "data": {
      "text/plain": [
       "False"
      ]
     },
     "execution_count": 7,
     "metadata": {},
     "output_type": "execute_result"
    }
   ],
   "source": [
    "#\"y\" non è maggiore di cento perciò il risultato è False\n",
    "\n",
    "y = 10\n",
    "\n",
    "y > 100"
   ]
  },
  {
   "cell_type": "code",
   "execution_count": 24,
   "metadata": {},
   "outputs": [
    {
     "data": {
      "text/plain": [
       "False"
      ]
     },
     "execution_count": 24,
     "metadata": {},
     "output_type": "execute_result"
    }
   ],
   "source": [
    "#La somma di \"z\" e \"w\" è uguale perciò il risultato è False\n",
    "\n",
    "z = 10 + 20 + 15\n",
    "\n",
    "w = 30 + 10 + 5\n",
    "\n",
    "z != w"
   ]
  },
  {
   "cell_type": "code",
   "execution_count": 26,
   "metadata": {},
   "outputs": [
    {
     "data": {
      "text/plain": [
       "True"
      ]
     },
     "execution_count": 26,
     "metadata": {},
     "output_type": "execute_result"
    }
   ],
   "source": [
    "#\"p\" è maggiore di \"b\" quindi il risultato è True\n",
    "\n",
    "p = 50 * 20\n",
    "\n",
    "b = 12 + 15 * 2\n",
    "\n",
    "p > b"
   ]
  },
  {
   "cell_type": "markdown",
   "metadata": {},
   "source": [
    "## Calcolare l'area di un trapezio popolando 4 variabili chiamate rispettivamente: \n",
    "* `base_maggiore` \n",
    "* `base_minore`\n",
    "* `altezza` \n",
    "* `area`\n",
    "\n",
    "Popolare le prime tre variabili con i seguenti valori: `12`, `14.6`, `7.5` e poi inserire nella variabile `area` il calcolo dell'area.  \n",
    "Infine stampare il valore dell'area con **print()**\n",
    "\n",
    "Ricordare: l'area del trapezio si calcola con la seguente formula:\n",
    "\n",
    "$$\\frac{(base_{maggiore} + base_{minore})\\cdot altezza}{2}$$"
   ]
  },
  {
   "cell_type": "code",
   "execution_count": 4,
   "metadata": {},
   "outputs": [
    {
     "name": "stdout",
     "output_type": "stream",
     "text": [
      "99.75\n"
     ]
    }
   ],
   "source": [
    "#Assegno i dati alle variabili:\n",
    "\n",
    "base_maggiore = 12\n",
    "\n",
    "base_minore = 14.6\n",
    "\n",
    "altezza = 7.5\n",
    "\n",
    "#creo una variabile \"somma_basi\" assegnado la somma tra la base minore e la base maggiore:\n",
    "\n",
    "somma_basi = base_maggiore + base_minore\n",
    "\n",
    "#assegno alla variabile \"area\" la formula dell'area del trapezio:\n",
    "\n",
    "area = (somma_basi * altezza) / 2\n",
    "\n",
    "#stampo la variabile \"area\":\n",
    "\n",
    "print(area)\n",
    "\n"
   ]
  },
  {
   "cell_type": "markdown",
   "metadata": {},
   "source": [
    "## Spiega le seguenti righe di codice"
   ]
  },
  {
   "cell_type": "code",
   "execution_count": 5,
   "metadata": {
    "ExecuteTime": {
     "end_time": "2021-05-14T15:11:35.981396Z",
     "start_time": "2021-05-14T15:11:35.978632Z"
    }
   },
   "outputs": [
    {
     "name": "stdout",
     "output_type": "stream",
     "text": [
      "True\n"
     ]
    }
   ],
   "source": [
    "x = 10\n",
    "print(5 < x < 15)"
   ]
  },
  {
   "cell_type": "code",
   "execution_count": 36,
   "metadata": {},
   "outputs": [],
   "source": [
    "##Spiegazione\n",
    "\n",
    "#La seguente linea di codice pone, in un primo momento, il carattere \"x\" uguale a 10 perciò ogni volta che richiamiamo la variabile \"x\" essa varrà 10.\n",
    "\n",
    "#In un secondo momento chiediamo al sistema di stampare il risultato dell' espressione tra parentesi, ma dal momento che vi sono degli opeatori di confronto il risultato sarà \"True\" o \"False\" a seconda se l'espressione che abbiamo scritto è corretta o meno.    "
   ]
  },
  {
   "cell_type": "markdown",
   "metadata": {},
   "source": [
    "## Tra questo elenco di tipi, scegli almeno 2 tipi _immutabili_ e 2  *mutabili*:  \n",
    "`int, float, bool, list, dict, tuple, string`\n",
    "1. immutabile: \"int\"   \n",
    "2. immutabile: \"float\" \n",
    "3. mutabile: \"list\"\n",
    "4. mutabile: \"dict\" \n",
    "\n",
    "##### E spiega la differenza fra un tipo mutabile e uno immutabile"
   ]
  },
  {
   "cell_type": "code",
   "execution_count": 37,
   "metadata": {
    "ExecuteTime": {
     "end_time": "2021-05-14T14:33:49.680673Z",
     "start_time": "2021-05-14T14:33:49.679022Z"
    }
   },
   "outputs": [],
   "source": [
    "## Spiegazione\n",
    "\n",
    "#Si dice mutabile un tipo che dopo essere stato creato può essere modificato con degli interventi postumi. Ad esempio la \"lista\" può essere modificata con la funzione \".append\"\n",
    "#Si dice immutabile un tipo che dopo essere stato creato non è più modificabile."
   ]
  },
  {
   "cell_type": "markdown",
   "metadata": {},
   "source": [
    "## Crea e manipola una lista\n",
    "1. Dichiara una lista di nome `note` che abbia come elementi le prime sei note della scala di do maggiore (do, re, ..., la)\n",
    "2. Stampa la lunghezza della lista `note` ottenuta con la giusta funzione\n",
    "3. Stampa le seconda nota (con la notazione a *slice* \\[...\\])\n",
    "4. Aggiungi la settima nota della scala di do maggiore alla fine della lista\n",
    "5. Stampa una selezione di `note` dalla terza nota fino all'ultima della lista"
   ]
  },
  {
   "cell_type": "code",
   "execution_count": 6,
   "metadata": {},
   "outputs": [],
   "source": [
    "#creo una lista \"note\" riempiendola con 6 note musicali:\n",
    "\n",
    "note = ['do', 're', 'mi', 'fa', 'sol', 'la']"
   ]
  },
  {
   "cell_type": "code",
   "execution_count": 7,
   "metadata": {},
   "outputs": [],
   "source": [
    "#Creo una funzione \"lunghezza_note\":\n",
    "\n",
    "def lunghezza_note(lista):\n",
    "\n",
    "    #creo un contatore assegnando a \"c\" il valore 0:\n",
    "    \n",
    "    c = 0\n",
    "    \n",
    "    #verifico che per ogni elemento nella lista venga aggiunto 1 al contatore con un ciclo \"for\":\n",
    "    \n",
    "    for i in lista:\n",
    "        \n",
    "        c = c + 1\n",
    "    \n",
    "    #Stampo \"c\":\n",
    "    \n",
    "    print (c)"
   ]
  },
  {
   "cell_type": "code",
   "execution_count": 8,
   "metadata": {},
   "outputs": [
    {
     "name": "stdout",
     "output_type": "stream",
     "text": [
      "6\n"
     ]
    }
   ],
   "source": [
    "lunghezza_note(note)"
   ]
  },
  {
   "cell_type": "code",
   "execution_count": 9,
   "metadata": {},
   "outputs": [
    {
     "name": "stdout",
     "output_type": "stream",
     "text": [
      "re\n"
     ]
    }
   ],
   "source": [
    "#utilizzo lo slice per risalire al secondo elemento della lista:\n",
    "\n",
    "print(note[1])"
   ]
  },
  {
   "cell_type": "code",
   "execution_count": 10,
   "metadata": {},
   "outputs": [
    {
     "name": "stdout",
     "output_type": "stream",
     "text": [
      "['do', 're', 'mi', 'fa', 'sol', 'la', 'si']\n"
     ]
    }
   ],
   "source": [
    "#utilizzo il metodo \".append\" per aggiungere il 'si' alla lista:\n",
    "\n",
    "note.append('si')\n",
    "\n",
    "print(note)"
   ]
  },
  {
   "cell_type": "code",
   "execution_count": 11,
   "metadata": {},
   "outputs": [
    {
     "name": "stdout",
     "output_type": "stream",
     "text": [
      "['mi', 'fa', 'sol', 'la', 'si']\n"
     ]
    }
   ],
   "source": [
    "#Utilizzo lo slice per stampare dal terzo elemento della lista in poi:\n",
    "\n",
    "print(note[2::])"
   ]
  },
  {
   "cell_type": "markdown",
   "metadata": {},
   "source": [
    "## Ciclo for su una lista\n",
    "Crea un ciclo **for** su un range di numeri dispari da 0 a 50<sup>[1](#forrange)</sup> e stampi con **print()** solo quelli che sono multipli di 3 oppure multipli di 5  \n",
    "\n",
    "---\n",
    "\n",
    "<div><p style=\"font-size: 0.9em\"><a name=\"forrange\">1</a>: usare la funzione <strong>range(start, stop, step)</strong></div></p>"
   ]
  },
  {
   "cell_type": "code",
   "execution_count": 12,
   "metadata": {},
   "outputs": [
    {
     "name": "stdout",
     "output_type": "stream",
     "text": [
      "3\n",
      "5\n",
      "9\n",
      "15\n",
      "15\n",
      "21\n",
      "25\n",
      "27\n",
      "33\n",
      "35\n",
      "39\n",
      "45\n",
      "45\n"
     ]
    }
   ],
   "source": [
    "#creo un ciclo for per poter analizzare ogni elemento del range da 0 a 50:\n",
    "\n",
    "for i in range (0, 51):\n",
    "    \n",
    "    #con gli operatori \"if\" verifico prima se ogni valore è divisibile per 2 'per verificare se è pari', poi se lo è per 3:\n",
    "    \n",
    "    if i % 2 != 0:\n",
    "        \n",
    "        if i % 3 == 0:\n",
    "            \n",
    "            print(i)\n",
    "        \n",
    "        else:\n",
    "            \n",
    "            pass\n",
    "     \n",
    "    #poi verifico se il valore è divisibile per 5:\n",
    "    \n",
    "        if i % 5 == 0:\n",
    "            \n",
    "            print(i)\n",
    "        \n",
    "        else:\n",
    "            \n",
    "            pass\n",
    "    \n",
    "    else:\n",
    "        \n",
    "        pass\n",
    "    \n",
    "  #infine stampo solo i valori del range che esaudiscono i requisiti."
   ]
  },
  {
   "cell_type": "markdown",
   "metadata": {
    "collapsed": true
   },
   "source": [
    "## Crea e manipola un dizionario\n",
    "1. Crea un dizionario `durate` con le seguenti caratteristiche:\n",
    "    - chiave: nome della durata (semibreve, minima, etc... fino alla semicroma)\n",
    "    - valore: durata (in quarti, ottavi e sedicesimi: \"4/4\", \"2/4\", etc...)\n",
    "2. Stampa il valore corrispondente alla chiave `croma`\n",
    "3. Aggiungi la coppia chiave:valore `biscroma`:`1/32`\n",
    "4. Stampa l'intero dizionario"
   ]
  },
  {
   "cell_type": "code",
   "execution_count": 90,
   "metadata": {},
   "outputs": [],
   "source": [
    "#Creo un dizionario in cui assegno ai valori \"key\" i nomi dei valori musicali e ai valori \"values\" la notazione in frazione:\n",
    "\n",
    "durate = { 'semibreve':'4/4',\n",
    "         'minima':'2/4',\n",
    "         'semiminima':'1/4',\n",
    "         'croma':'1/8',\n",
    "         'semicroma':'1/16'}"
   ]
  },
  {
   "cell_type": "code",
   "execution_count": 91,
   "metadata": {},
   "outputs": [
    {
     "data": {
      "text/plain": [
       "'1/8'"
      ]
     },
     "execution_count": 91,
     "metadata": {},
     "output_type": "execute_result"
    }
   ],
   "source": [
    "#Per ottenere in output \"1/8\", lo richiamo attaverso la \"key\" 'croma':\n",
    "\n",
    "durate['croma']"
   ]
  },
  {
   "cell_type": "code",
   "execution_count": 92,
   "metadata": {},
   "outputs": [],
   "source": [
    "#aggiungo gli \"items\" biscroma  equivalente a '1/32':\n",
    "\n",
    "durate['biscroma']='1/32'"
   ]
  },
  {
   "cell_type": "code",
   "execution_count": 93,
   "metadata": {},
   "outputs": [
    {
     "name": "stdout",
     "output_type": "stream",
     "text": [
      "{'semibreve': '4/4', 'minima': '2/4', 'semiminima': '1/4', 'croma': '1/8', 'semicroma': '1/16', 'biscroma': '1/32'}\n"
     ]
    }
   ],
   "source": [
    "#Stampo il dizionario:\n",
    "\n",
    "print(durate)"
   ]
  },
  {
   "cell_type": "markdown",
   "metadata": {},
   "source": [
    "## Ciclo for su un dizionario\n",
    "1. *Per ogni coppia chiave:valore* del dizionario `durate`, creato prima, stampa la stringa del tipo\n",
    "`\"La semibreve dura 4/4\"`, etc..."
   ]
  },
  {
   "cell_type": "code",
   "execution_count": 94,
   "metadata": {},
   "outputs": [
    {
     "name": "stdout",
     "output_type": "stream",
     "text": [
      "La semibreve dura 4/4\n",
      "La minima dura 2/4\n",
      "La semiminima dura 1/4\n",
      "La croma dura 1/8\n",
      "La semicroma dura 1/16\n",
      "La biscroma dura 1/32\n"
     ]
    }
   ],
   "source": [
    "#Assegno gli \"items\" del dizionario le varabili rispettivamente \"i\" e \"g\"\n",
    "\n",
    "#Attraverso un ciclo \"for\" stampo le stinghe:\n",
    "\n",
    "for i, g in durate.items():\n",
    "    print(\"La\", i, \"dura\",g)"
   ]
  },
  {
   "cell_type": "markdown",
   "metadata": {
    "collapsed": true
   },
   "source": [
    "## Crea un *if* con le seguenti caratteristiche:\n",
    "1. data una variabile `pitch` espressa in valori MIDI (0-127)\n",
    "2. calcoli la distanza dal \"do centrale\" (valore: 60)<sup>[1](#note1)</sup> \n",
    "3. e stampi:\n",
    "    - \"le due note sono uguali\" se la distanza è 0\n",
    "    - \"la distanza è compresa in un'ottava\" se la distanza è minore di 12\n",
    "    - \"la distanza è fra un'ottava e due ottave\" se la distanza è minore di 24\n",
    "    - \"la distanza è fra due e tre ottave\" se la distanza è minore di 36\n",
    "    - \"la distanza è enorme!!\" in qualunque altro caso\n",
    "    \n",
    "4. assegnare alla variabile `pitch` valori diversi: 12, 33, 8, 49, 7, 0 e rieseguire il codice\n",
    "\n",
    "---\n",
    "\n",
    "<div><p style=\"font-size: 0.9em\"><a name=\"note1\">1</a>: la funzione <strong>abs()</strong> resituisce il valore assoluto di un numero, cioè il numero stesso privo si segno. Per calcolare la distanza useremo la sottrazione e il valore assoluto: 49 e 71 sono entrambi a distanza 11 da 60</div></p>"
   ]
  },
  {
   "cell_type": "code",
   "execution_count": 5,
   "metadata": {
    "ExecuteTime": {
     "end_time": "2021-05-21T21:50:48.065225Z",
     "start_time": "2021-05-21T21:50:46.427591Z"
    }
   },
   "outputs": [
    {
     "name": "stdout",
     "output_type": "stream",
     "text": [
      "inserici qui il valore midi > 20\n",
      "la distanza è enorme\n"
     ]
    }
   ],
   "source": [
    "#creo una variabile \"pich\" a cui assegno un valore di input:\n",
    "\n",
    "pitch = int(input(\"inserici qui il valore midi > \"))\n",
    "\n",
    "#verifico che il valore in input sia minore di 127:\n",
    "\n",
    "if pitch > 127:\n",
    "    \n",
    "    print(\"il valore inserito è troppo grande\")\n",
    "\n",
    "else:\n",
    "    \n",
    "    #Per calcolare la distanza dal do centrale, sottraggo il valore in input a 60 e grazie alla funzione \"abs()\" verifico che mi venga restituito sempre un valore positivo:\n",
    "    \n",
    "    dist = abs(60 - pitch)\n",
    "\n",
    "    #attraverso una catena di \"if\" verifico la distanza dal do centrale:\n",
    "    \n",
    "    if dist == 0:\n",
    "        \n",
    "        print(\"le due note sono uguali\")\n",
    "    \n",
    "    else:\n",
    "        \n",
    "        if dist < 12:\n",
    "            \n",
    "            print(\"la distanza è compresa in un' ottava\")\n",
    "        \n",
    "        else:\n",
    "            \n",
    "            if dist < 24:\n",
    "                \n",
    "                    print(\"la distanza è fra un'ottava e due ottave\")\n",
    "            \n",
    "            else:\n",
    "                \n",
    "                if dist < 36:\n",
    "                    \n",
    "                    print(\"la distanza è fra due e tre ottave\")\n",
    "                \n",
    "                else:\n",
    "                    \n",
    "                    print(\"la distanza è enorme\")\n",
    "    "
   ]
  },
  {
   "cell_type": "markdown",
   "metadata": {},
   "source": [
    "## Crea e chiama una funzione\n",
    "1. Crea una funzione **separa_parole(stringa)** che prenda come argomento una stringa con più parole...\n",
    "2. ... e che restituisca una lista i cui elementi siano le singole parole\n",
    "3. Chiamare la funzione con argomento _\"Guido van Rossum\"_\n",
    "4. Chiamare la funzione con argomento _\"Nel mezzo del cammin di nostra vita mi ritrovai per una selva oscura\"_"
   ]
  },
  {
   "cell_type": "code",
   "execution_count": 95,
   "metadata": {},
   "outputs": [],
   "source": [
    "#Creo una funzione che accetta una stringa:\n",
    "\n",
    "def separa_le_parole(stringa):\n",
    "    \n",
    "    #Attraverso l'operatore \".split\" creo una lita con le parole della stringa:\n",
    "    \n",
    "    parole_divise = stringa.split()\n",
    "    \n",
    "    print(parole_divise)\n",
    "    "
   ]
  },
  {
   "cell_type": "code",
   "execution_count": 96,
   "metadata": {},
   "outputs": [
    {
     "name": "stdout",
     "output_type": "stream",
     "text": [
      "['Guido', 'Van', 'Rossum']\n"
     ]
    }
   ],
   "source": [
    "separa_le_parole(\"Guido Van Rossum\")"
   ]
  },
  {
   "cell_type": "code",
   "execution_count": 97,
   "metadata": {},
   "outputs": [
    {
     "name": "stdout",
     "output_type": "stream",
     "text": [
      "['Nel', 'mezzo', 'del', 'cammin', 'di', 'nostra', 'vita', 'mi', 'ritrovai', 'per', 'una', 'selva', 'oscura']\n"
     ]
    }
   ],
   "source": [
    "separa_le_parole(\"Nel mezzo del cammin di nostra vita mi ritrovai per una selva oscura\")"
   ]
  },
  {
   "cell_type": "markdown",
   "metadata": {},
   "source": [
    "## Crea la funzione pari(n)\n",
    "* Il cui argomento sia l'intero `n` e restituisca (tramite l'istruzione **return**) una lista di numeri pari compresi fra 0 e *n*\n",
    "* Chiama la funzione per n = 11\n",
    "* Chiama la funzione per n = 30\n",
    "\n",
    "##### Esempio:\n",
    "\n",
    "```py\n",
    ">>> pari(12)\n",
    ">>> [0,2,4,6,8,10,12]\n",
    "\n",
    ">>> pari(15)\n",
    ">>> [0,2,4,6,8,10,12,14]\n",
    "```"
   ]
  },
  {
   "cell_type": "code",
   "execution_count": 13,
   "metadata": {},
   "outputs": [],
   "source": [
    "#Creo una funzione:\n",
    "\n",
    "def pari(n):\n",
    "    \n",
    "    #Creo una lista vuota:\n",
    "    \n",
    "    out = []\n",
    "    \n",
    "    #Attraverso un ciclo \"for\" analizzo gli elementi di un range tra 0 e n+1:\n",
    "    \n",
    "    for i in range(0, n+1):\n",
    "        \n",
    "        #Con l'operatore \"if\" verifico che il valore analizzato sia pari:\n",
    "        \n",
    "        if i % 2 == 0:\n",
    "            \n",
    "            #Aggiungo alla lista solo i valori positivi:\n",
    "            \n",
    "            out.append(i)\n",
    "        \n",
    "        else:\n",
    "            pass\n",
    "    \n",
    "    #Restituisco la lista:\n",
    "    \n",
    "    return out"
   ]
  },
  {
   "cell_type": "code",
   "execution_count": 14,
   "metadata": {},
   "outputs": [
    {
     "data": {
      "text/plain": [
       "[0, 2, 4, 6, 8, 10]"
      ]
     },
     "execution_count": 14,
     "metadata": {},
     "output_type": "execute_result"
    }
   ],
   "source": [
    "pari(11)"
   ]
  },
  {
   "cell_type": "code",
   "execution_count": 15,
   "metadata": {},
   "outputs": [
    {
     "data": {
      "text/plain": [
       "[0, 2, 4, 6, 8, 10, 12, 14, 16, 18, 20, 22, 24, 26, 28, 30]"
      ]
     },
     "execution_count": 15,
     "metadata": {},
     "output_type": "execute_result"
    }
   ],
   "source": [
    "pari(30)"
   ]
  },
  {
   "cell_type": "markdown",
   "metadata": {},
   "source": [
    "## funzione input()\n",
    "\n",
    "1. Chiedi all'utente di inserire la sua età tramite la funzione **input()**\n",
    "2. Calcola  (e stampa) l'anno di nascita\n",
    "\n",
    "##### Esempio:\n",
    "\n",
    "```py\n",
    ">>> Quanti anni hai? 14\n",
    ">>> \"Siamo nel 2021, quindi il tuo anno di nascita è il 2007\"\n",
    "```"
   ]
  },
  {
   "cell_type": "code",
   "execution_count": 6,
   "metadata": {
    "ExecuteTime": {
     "end_time": "2021-05-21T21:51:37.332663Z",
     "start_time": "2021-05-21T21:51:34.877753Z"
    }
   },
   "outputs": [
    {
     "name": "stdout",
     "output_type": "stream",
     "text": [
      "inserici qui l'età > 49\n",
      "Siamo nel 2021, qindi il tuo anno di nascita è il 1972\n"
     ]
    }
   ],
   "source": [
    "#Creo una funzione di input che accetti un numero intero:\n",
    "\n",
    "anni = int(input(\"inserici qui l'età > \"))\n",
    "\n",
    "#Calcolo l'anno di nascita sottraendo all'anno corrente il valore inserito nell'input:\n",
    "\n",
    "anno_di_nascita = 2021 - anni\n",
    "\n",
    "#Stampo il risultato inserendolo in una stringa:\n",
    "\n",
    "print(\"Siamo nel 2021, qindi il tuo anno di nascita è il\", anno_di_nascita)"
   ]
  },
  {
   "cell_type": "markdown",
   "metadata": {},
   "source": [
    "## Crea una funzione `nota()` che prenda come argomento una nota espressa in valore (intero) MIDI (0-127) e:\n",
    "* Stampi il nome della nota (do, do#, re, mi, ... )<sup>[1](#not1)</sup> e l'ottava di appartenenza<sup>[2](#not2)</sup> separate da un trattino (`-`)\n",
    "\n",
    "---\n",
    "\n",
    "<div><p style=\"font-size: 0.9em\"><a name=\"not1\">1</a>: usare l'operatore modulo che restituisca l'indice di una lista che contiene i nomi delle note (<code>%</code>)</div></p>\n",
    "<div><p style=\"font-size: 0.9em\"><a name=\"not2\">2</a>: usare l'operatore divisione intera (<code>//</code>)</div></p>\n",
    "\n",
    "---\n",
    "\n",
    "##### Esempi: \n",
    "\n",
    "```py\n",
    ">>> che_nota(73)\n",
    ">>> \"do#-6\"\n",
    "\n",
    ">>> che_nota(12)\n",
    ">>> \"do-1\"\n",
    "\n",
    ">>> che_nota(7)\n",
    ">>> \"sol-0\"\n",
    "```"
   ]
  },
  {
   "cell_type": "code",
   "execution_count": null,
   "metadata": {},
   "outputs": [],
   "source": [
    "#Creo una lista inserendo le note della scala cromatica:\n",
    "\n",
    "note = [\"do\", \"do#\", \"re\", \"re#\", \"mi\", \"fa\", \"fa#\", \"sol\", \"sol#\", \"la\", \"la#\", \"si\"]"
   ]
  },
  {
   "cell_type": "code",
   "execution_count": 2,
   "metadata": {
    "scrolled": true
   },
   "outputs": [
    {
     "name": "stdout",
     "output_type": "stream",
     "text": [
      "inserisci il valore midi qui > 30\n"
     ]
    }
   ],
   "source": [
    "#Creo una funzione:\n",
    "\n",
    "def nota(nval):\n",
    "    \n",
    "    #Converto il valore in entrata in un valore intero e verifico che sia compreso tra 0 e 127:\n",
    "    \n",
    "    (type(nval) == int and 0 <= nval <= 127)\n",
    "    \n",
    "    #ritorno una stringa che presenta, la nota equivalente al valore che ottengo dal resto della divisione tra il numero inserito nella funzione e il numero di valori nella lista \"note\"...\n",
    "    #...a sinistra e il risultato della divisione tra il numero inserito nella funzione e il numero di valori nella lista \"note\" a destra:\n",
    "    \n",
    "    return f\"{note[ (nval % len(note))]}-{nval // len(note)}\""
   ]
  },
  {
   "cell_type": "code",
   "execution_count": 27,
   "metadata": {},
   "outputs": [
    {
     "data": {
      "text/plain": [
       "'do#-6'"
      ]
     },
     "execution_count": 27,
     "metadata": {},
     "output_type": "execute_result"
    }
   ],
   "source": [
    "nota(73)"
   ]
  },
  {
   "cell_type": "code",
   "execution_count": 28,
   "metadata": {},
   "outputs": [
    {
     "data": {
      "text/plain": [
       "'do-1'"
      ]
     },
     "execution_count": 28,
     "metadata": {},
     "output_type": "execute_result"
    }
   ],
   "source": [
    "nota(12)"
   ]
  },
  {
   "cell_type": "code",
   "execution_count": 25,
   "metadata": {},
   "outputs": [
    {
     "data": {
      "text/plain": [
       "'sol-0'"
      ]
     },
     "execution_count": 25,
     "metadata": {},
     "output_type": "execute_result"
    }
   ],
   "source": [
    "nota(7)"
   ]
  }
 ],
 "metadata": {
  "kernelspec": {
   "display_name": "Python 3",
   "language": "python",
   "name": "python3"
  },
  "language_info": {
   "codemirror_mode": {
    "name": "ipython",
    "version": 3
   },
   "file_extension": ".py",
   "mimetype": "text/x-python",
   "name": "python",
   "nbconvert_exporter": "python",
   "pygments_lexer": "ipython3",
   "version": "3.7.6"
  },
  "toc": {
   "base_numbering": 1,
   "nav_menu": {},
   "number_sections": true,
   "sideBar": true,
   "skip_h1_title": false,
   "title_cell": "Table of Contents",
   "title_sidebar": "Contents",
   "toc_cell": false,
   "toc_position": {},
   "toc_section_display": true,
   "toc_window_display": false
  }
 },
 "nbformat": 4,
 "nbformat_minor": 2
}
