{
 "cells": [
  {
   "cell_type": "markdown",
   "metadata": {
    "collapsed": true
   },
   "source": [
    "# Verifica Python SMET propedeutico\n",
    "\n",
    "Per realizzare la verifica potete cercare su internet CONSAPEVOLMENTE, quindi dovete essere in grado di spiegare quello che scrivete, usando i commenti (che sono linee python preceduto dal simbolo `#`): \n",
    "\n",
    "_Commentate, Commentate, Commentate..._\n",
    "\n",
    "---\n",
    "\n",
    "Scrivete le _docstrings_ sotto la definizione delle funzioni\n",
    "\n",
    "---\n",
    "\n",
    "Siete liberi di aggiungere **celle** per scrivere codice\n",
    "\n",
    "---\n",
    "\n",
    "Una volta terminato, rinominate il file con il vostro nome: _mionome_verifica.ipynb_ e spedite all'indirizzo **frabianchi72@gmail.com**\n",
    "\n",
    "---\n",
    "\n",
    "Buon lavoro!"
   ]
  },
  {
   "cell_type": "markdown",
   "metadata": {},
   "source": [
    "## Quale funzione puoi usare per avere l'elenco dei metodi di un oggetto?\n",
    "Fai un esempio con l'oggetto **float**"
   ]
  },
  {
   "cell_type": "code",
   "execution_count": 31,
   "metadata": {},
   "outputs": [
    {
     "data": {
      "text/plain": [
       "['__abs__',\n",
       " '__add__',\n",
       " '__bool__',\n",
       " '__class__',\n",
       " '__delattr__',\n",
       " '__dir__',\n",
       " '__divmod__',\n",
       " '__doc__',\n",
       " '__eq__',\n",
       " '__float__',\n",
       " '__floordiv__',\n",
       " '__format__',\n",
       " '__ge__',\n",
       " '__getattribute__',\n",
       " '__getformat__',\n",
       " '__getnewargs__',\n",
       " '__gt__',\n",
       " '__hash__',\n",
       " '__init__',\n",
       " '__init_subclass__',\n",
       " '__int__',\n",
       " '__le__',\n",
       " '__lt__',\n",
       " '__mod__',\n",
       " '__mul__',\n",
       " '__ne__',\n",
       " '__neg__',\n",
       " '__new__',\n",
       " '__pos__',\n",
       " '__pow__',\n",
       " '__radd__',\n",
       " '__rdivmod__',\n",
       " '__reduce__',\n",
       " '__reduce_ex__',\n",
       " '__repr__',\n",
       " '__rfloordiv__',\n",
       " '__rmod__',\n",
       " '__rmul__',\n",
       " '__round__',\n",
       " '__rpow__',\n",
       " '__rsub__',\n",
       " '__rtruediv__',\n",
       " '__set_format__',\n",
       " '__setattr__',\n",
       " '__sizeof__',\n",
       " '__str__',\n",
       " '__sub__',\n",
       " '__subclasshook__',\n",
       " '__truediv__',\n",
       " '__trunc__',\n",
       " 'as_integer_ratio',\n",
       " 'conjugate',\n",
       " 'fromhex',\n",
       " 'hex',\n",
       " 'imag',\n",
       " 'is_integer',\n",
       " 'real']"
      ]
     },
     "execution_count": 31,
     "metadata": {},
     "output_type": "execute_result"
    }
   ],
   "source": [
    "# Per avere l'elenco dei metodi di un oggetto basta utilizzare la funzione dir(), inserendo tra partentesi l'oggetto interessato\n",
    "\n",
    "dir(float)"
   ]
  },
  {
   "cell_type": "markdown",
   "metadata": {},
   "source": [
    "## Come richiami la pagina di `help` di un oggetto, di un metodo e di una funzione?\n",
    "Fai un esempio con la funzione **len**"
   ]
  },
  {
   "cell_type": "code",
   "execution_count": 29,
   "metadata": {},
   "outputs": [
    {
     "name": "stdout",
     "output_type": "stream",
     "text": [
      "Help on built-in function len in module builtins:\n",
      "\n",
      "len(obj, /)\n",
      "    Return the number of items in a container.\n",
      "\n"
     ]
    }
   ],
   "source": [
    "# Per richiamare la pagina help basta digitare help() inserendo all'interno delle parentesi il metodo o la funzione interessata\n",
    "\n",
    "help(len)"
   ]
  },
  {
   "cell_type": "markdown",
   "metadata": {},
   "source": [
    "## Date le variabili `x` e `y`, eseguire la seguente operazione (e stampare il risultato)\n",
    "\n",
    "$$x = 15$$\n",
    "$$y = 12.1$$\n",
    "\n",
    "$$7.2 + \\frac{1.1x}{9} \\cdot y$$"
   ]
  },
  {
   "cell_type": "code",
   "execution_count": 1,
   "metadata": {
    "ExecuteTime": {
     "end_time": "2021-05-21T20:00:16.222662Z",
     "start_time": "2021-05-21T20:00:16.215983Z"
    }
   },
   "outputs": [],
   "source": [
    "def funzione():\n",
    "     #definisco una funzione che mi darà il risultato\n",
    "        \n",
    "    x = 15\n",
    "     #associo a x il valore di 15\n",
    "        \n",
    "    y = 12.1\n",
    "    #associo a y il valore di 12.1\n",
    "    \n",
    "    res = 7.2 + 1.1*x / 9 * y\n",
    "    #creo un'altra variabile che restituirà il risultato dell'operazione\n",
    "    \n",
    "    \n",
    "    print (res)\n",
    "    #stampa il risultato"
   ]
  },
  {
   "cell_type": "code",
   "execution_count": 2,
   "metadata": {
    "ExecuteTime": {
     "end_time": "2021-05-21T20:00:17.934078Z",
     "start_time": "2021-05-21T20:00:17.929038Z"
    }
   },
   "outputs": [
    {
     "name": "stdout",
     "output_type": "stream",
     "text": [
      "29.38333333333333\n"
     ]
    }
   ],
   "source": [
    "funzione()"
   ]
  },
  {
   "cell_type": "markdown",
   "metadata": {},
   "source": [
    "## Usando gli operatori di confronto (`!=`, `<`, `>`, `==`, `>=`, `<=`): \n",
    "* scrivere almeno due espressioni (usando operatori e i soli numeri interi) che restituiscano **True** e due che restituiscano **False**"
   ]
  },
  {
   "cell_type": "code",
   "execution_count": 15,
   "metadata": {},
   "outputs": [
    {
     "data": {
      "text/plain": [
       "True"
      ]
     },
     "execution_count": 15,
     "metadata": {},
     "output_type": "execute_result"
    }
   ],
   "source": [
    "7 != 10\n",
    "#7 è DIVERSO da 10"
   ]
  },
  {
   "cell_type": "code",
   "execution_count": 16,
   "metadata": {},
   "outputs": [
    {
     "data": {
      "text/plain": [
       "False"
      ]
     },
     "execution_count": 16,
     "metadata": {},
     "output_type": "execute_result"
    }
   ],
   "source": [
    "15 >= 20\n",
    "#15 NON è maggiore o uguale a 20"
   ]
  },
  {
   "cell_type": "code",
   "execution_count": 17,
   "metadata": {},
   "outputs": [
    {
     "data": {
      "text/plain": [
       "True"
      ]
     },
     "execution_count": 17,
     "metadata": {},
     "output_type": "execute_result"
    }
   ],
   "source": [
    "12 <= 54\n",
    "#12 è maggiore o uguale a 54"
   ]
  },
  {
   "cell_type": "markdown",
   "metadata": {},
   "source": [
    "## Calcolare l'area di un trapezio popolando 4 variabili chiamate rispettivamente: \n",
    "* `base_maggiore` \n",
    "* `base_minore`\n",
    "* `altezza` \n",
    "* `area`\n",
    "\n",
    "Popolare le prime tre variabili con i seguenti valori: `12`, `14.6`, `7.5` e poi inserire nella variabile `area` il calcolo dell'area.  \n",
    "Infine stampare il valore dell'area con **print()**\n",
    "\n",
    "Ricordare: l'area del trapezio si calcola con la seguente formula:\n",
    "\n",
    "$$\\frac{(base_{maggiore} + base_{minore})\\cdot altezza}{2}$$"
   ]
  },
  {
   "cell_type": "code",
   "execution_count": 3,
   "metadata": {
    "ExecuteTime": {
     "end_time": "2021-05-21T20:01:10.240813Z",
     "start_time": "2021-05-21T20:01:10.234513Z"
    }
   },
   "outputs": [],
   "source": [
    "def areatrap():\n",
    "#creo una funzione che risolverà l'operazione\n",
    "    \n",
    "    base_minore = 12\n",
    "    #associo alla prima variabile il suo rispettivo valore\n",
    "    \n",
    "    base_maggiore = 14.6\n",
    "    #associo alla seconda variabile il suo rispettivo valore\n",
    "    \n",
    "    altezza = 7.5\n",
    "    #associo alla terza variabile il suo rispettivo valore\n",
    "    \n",
    "    area = (base_maggiore + base_minore) * altezza / 2\n",
    "    #eseguo il calcolo nella variabile \"area\"\n",
    "    \n",
    "    print (area)\n",
    "    #stampo il valore dell'area"
   ]
  },
  {
   "cell_type": "code",
   "execution_count": 24,
   "metadata": {},
   "outputs": [
    {
     "name": "stdout",
     "output_type": "stream",
     "text": [
      "99.75\n"
     ]
    }
   ],
   "source": [
    "areatrap()"
   ]
  },
  {
   "cell_type": "markdown",
   "metadata": {},
   "source": [
    "## Spiega le seguenti righe di codice"
   ]
  },
  {
   "cell_type": "code",
   "execution_count": 25,
   "metadata": {
    "ExecuteTime": {
     "end_time": "2021-05-14T15:11:35.981396Z",
     "start_time": "2021-05-14T15:11:35.978632Z"
    }
   },
   "outputs": [
    {
     "name": "stdout",
     "output_type": "stream",
     "text": [
      "True\n"
     ]
    }
   ],
   "source": [
    "x = 10\n",
    "print(5 < x < 15)"
   ]
  },
  {
   "cell_type": "code",
   "execution_count": null,
   "metadata": {},
   "outputs": [],
   "source": [
    "# Si tratta di un'espressione booleana dove, prima di tutto,\n",
    "# viene associato alla variabile x il valore di 10,\n",
    "# poi si stampa l'espressione che indica che x (cioè 10)\n",
    "# è maggiore di 5 e minore di 15, il che è vero.\n",
    "# Perciò l'espressione restituisce True."
   ]
  },
  {
   "cell_type": "markdown",
   "metadata": {},
   "source": [
    "## Tra questo elenco di tipi, scegli almeno 2 tipi _immutabili_ e 2  *mutabili*:  \n",
    "`int, float, bool, list, dict, tuple, string`\n",
    "1. immutabile:   \n",
    "2. immutabile:  \n",
    "3. mutabile:  \n",
    "4. mutabile:  \n",
    "\n",
    "##### E spiega la differenza fra un tipo mutabile e uno immutabile"
   ]
  },
  {
   "cell_type": "code",
   "execution_count": null,
   "metadata": {
    "ExecuteTime": {
     "end_time": "2021-05-14T14:33:49.680673Z",
     "start_time": "2021-05-14T14:33:49.679022Z"
    }
   },
   "outputs": [],
   "source": [
    "# IMMUTABILI: float, bool"
   ]
  },
  {
   "cell_type": "code",
   "execution_count": null,
   "metadata": {},
   "outputs": [],
   "source": [
    "# MUTABILI: list, dict"
   ]
  },
  {
   "cell_type": "code",
   "execution_count": null,
   "metadata": {},
   "outputs": [],
   "source": [
    "# La differenza sostanziale tra tipo mutabile e immutabile è che il primo può\n",
    "# essere modificato anche dopo la sua creazione, mentre il secondo no."
   ]
  },
  {
   "cell_type": "markdown",
   "metadata": {},
   "source": [
    "## Crea e manipola una lista\n",
    "1. Dichiara una lista di nome `note` che abbia come elementi le prime sei note della scala di do maggiore (do, re, ..., la)\n",
    "2. Stampa la lunghezza della lista `note` ottenuta con la giusta funzione\n",
    "3. Stampa le seconda nota (con la notazione a *slice* \\[...\\])\n",
    "4. Aggiungi la settima nota della scala di do maggiore alla fine della lista\n",
    "5. Stampa una selezione di `note` dalla terza nota fino all'ultima della lista"
   ]
  },
  {
   "cell_type": "code",
   "execution_count": 55,
   "metadata": {},
   "outputs": [
    {
     "name": "stdout",
     "output_type": "stream",
     "text": [
      "Il numero di note è 6\n",
      "La seconda nota è ['Re']\n",
      "['Mi', 'Fa', 'Sol', 'La', 'Si']\n"
     ]
    }
   ],
   "source": [
    "note = ['Do', 'Re', 'Mi', 'Fa', 'Sol', 'La']\n",
    "#creo una lista con le sei note richieste\n",
    "\n",
    "print (\"Il numero di note è\", len(note))\n",
    "#stampo la lunghezza della lista note con la funzione len()\n",
    "\n",
    "print (\"La seconda nota è\", note[1:2])\n",
    "#stampo la seconda nota tramite l'operatore slice\n",
    "\n",
    "note.append('Si')\n",
    "#aggiungo alla lista la nota Si tramite l'operatore append\n",
    "\n",
    "print (note[2:7])\n",
    "#stampo la selezione di note richiesta tramite l'operatore slice"
   ]
  },
  {
   "cell_type": "markdown",
   "metadata": {},
   "source": [
    "## Ciclo for su una lista\n",
    "Crea un ciclo **for** su un range di numeri dispari da 0 a 50<sup>[1](#forrange)</sup> e stampi con **print()** solo quelli che sono multipli di 3 oppure multipli di 5  \n",
    "\n",
    "---\n",
    "\n",
    "<div><p style=\"font-size: 0.9em\"><a name=\"forrange\">1</a>: usare la funzione <strong>range(start, stop, step)</strong></div></p>"
   ]
  },
  {
   "cell_type": "code",
   "execution_count": 4,
   "metadata": {},
   "outputs": [
    {
     "name": "stdout",
     "output_type": "stream",
     "text": [
      "3\n",
      "5\n",
      "9\n",
      "15\n",
      "21\n",
      "25\n",
      "27\n",
      "33\n",
      "35\n",
      "39\n",
      "45\n"
     ]
    }
   ],
   "source": [
    "for i in range (1, 50, 2):\n",
    "#creo un ciclo for con un range da 1 a 50, 2 step\n",
    "\n",
    "    if i % 3 == 0:\n",
    "    #ciclo if per cui se il numero è multiplo di 3, viene stampato    \n",
    "        print (i)\n",
    "        \n",
    "    elif i % 5 == 0:\n",
    "    #ciclo if con funzione analoga al precedente, ma che stampa i multipli di 5   \n",
    "        print (i)"
   ]
  },
  {
   "cell_type": "markdown",
   "metadata": {
    "collapsed": true
   },
   "source": [
    "## Crea e manipola un dizionario\n",
    "1. Crea un dizionario `durate` con le seguenti caratteristiche:\n",
    "    - chiave: nome della durata (semibreve, minima, etc... fino alla semicroma)\n",
    "    - valore: durata (in quarti, ottavi e sedicesimi: \"4/4\", \"2/4\", etc...)\n",
    "2. Stampa il valore corrispondente alla chiave `croma`\n",
    "3. Aggiungi la coppia chiave:valore `biscroma`:`1/32`\n",
    "4. Stampa l'intero dizionario"
   ]
  },
  {
   "cell_type": "code",
   "execution_count": 10,
   "metadata": {},
   "outputs": [],
   "source": [
    "durate = {'breve':'8/4',\n",
    "        'semibreve':'4/4',\n",
    "        'minima':'2/4',\n",
    "        'semiminima':'1/4',\n",
    "        'croma':'1/8',\n",
    "        'semicroma':'1/16'}"
   ]
  },
  {
   "cell_type": "code",
   "execution_count": 12,
   "metadata": {},
   "outputs": [
    {
     "name": "stdout",
     "output_type": "stream",
     "text": [
      "1/8\n"
     ]
    }
   ],
   "source": [
    "print(durate['croma'])"
   ]
  },
  {
   "cell_type": "code",
   "execution_count": 13,
   "metadata": {},
   "outputs": [],
   "source": [
    "durate['biscroma'] = '1/32'"
   ]
  },
  {
   "cell_type": "code",
   "execution_count": 14,
   "metadata": {},
   "outputs": [
    {
     "name": "stdout",
     "output_type": "stream",
     "text": [
      "{'breve': '8/4', 'semibreve': '4/4', 'minima': '2/4', 'semiminima': '1/4', 'croma': '1/8', 'semicroma': '1/16', 'biscroma': '1/32'}\n"
     ]
    }
   ],
   "source": [
    "print (durate)"
   ]
  },
  {
   "cell_type": "markdown",
   "metadata": {},
   "source": [
    "## Ciclo for su un dizionario\n",
    "1. *Per ogni coppia chiave:valore* del dizionario `durate`, creato prima, stampa la stringa del tipo\n",
    "`\"La semibreve dura 4/4\"`, etc..."
   ]
  },
  {
   "cell_type": "code",
   "execution_count": 55,
   "metadata": {},
   "outputs": [
    {
     "name": "stdout",
     "output_type": "stream",
     "text": [
      "La breve dura 8/4\n",
      "La semibreve dura 4/4\n",
      "La minima dura 2/4\n",
      "La semiminima dura 1/4\n",
      "La croma dura 1/8\n",
      "La semicroma dura 1/16\n",
      "La biscroma dura 1/32\n"
     ]
    }
   ],
   "source": [
    "for k in durate.keys():\n",
    "    print ('La', k, 'dura', durate[k])\n",
    "#per creare la stringa è necessario un ciclo for che gira su ogni chiave del dizionario, stampando poi una stringa\n",
    "#che comprende le varie chiavi e valori"
   ]
  },
  {
   "cell_type": "markdown",
   "metadata": {
    "collapsed": true
   },
   "source": [
    "## Crea un *if* con le seguenti caratteristiche:\n",
    "1. data una variabile `pitch` espressa in valori MIDI (0-127)\n",
    "2. calcoli la distanza dal \"do centrale\" (valore: 60)<sup>[1](#note1)</sup> \n",
    "3. e stampi:\n",
    "    - \"le due note sono uguali\" se la distanza è 0\n",
    "    - \"la distanza è compresa in un'ottava\" se la distanza è minore di 12\n",
    "    - \"la distanza è fra un'ottava e due ottave\" se la distanza è minore di 24\n",
    "    - \"la distanza è fra due e tre ottave\" se la distanza è minore di 36\n",
    "    - \"la distanza è enorme!!\" in qualunque altro caso\n",
    "    \n",
    "4. assegnare alla variabile `pitch` valori diversi: 12, 33, 8, 49, 7, 0 e rieseguire il codice\n",
    "\n",
    "---\n",
    "\n",
    "<div><p style=\"font-size: 0.9em\"><a name=\"note1\">1</a>: la funzione <strong>abs()</strong> resituisce il valore assoluto di un numero, cioè il numero stesso privo si segno. Per calcolare la distanza useremo la sottrazione e il valore assoluto: 49 e 71 sono entrambi a distanza 11 da 60</div></p>"
   ]
  },
  {
   "cell_type": "code",
   "execution_count": 5,
   "metadata": {
    "ExecuteTime": {
     "end_time": "2021-05-21T20:06:50.645374Z",
     "start_time": "2021-05-21T20:06:47.718972Z"
    }
   },
   "outputs": [
    {
     "name": "stdout",
     "output_type": "stream",
     "text": [
      "Che valore in MIDI ha la tua nota? 73\n",
      "La distanza è fra un'ottava e due ottave\n"
     ]
    }
   ],
   "source": [
    "pitch = input(\"Che valore in MIDI ha la tua nota? \")\n",
    "#creo una variabile input per il pitch\n",
    "\n",
    "note = int(pitch)\n",
    "#rendo la stringa data in input dall'utente un numero intero\n",
    "\n",
    "do3 = 60\n",
    "#assegno al do centrale il valore di 60\n",
    "\n",
    "#creo una serie di cicli if che si attivano in base alla distanza tra la nota messa in input e il do centrale;\n",
    "#tramite la funzione abs() risolvo il problema dei numeri in input al di sotto del do centrale\n",
    "if note - do3 == 0:\n",
    "    print (\"Le due note sono uguali\")\n",
    "elif abs(note - do3) < 12:\n",
    "    print (\"La distanza è compresa in un'ottava\")\n",
    "elif abs(note - do3) < 24:\n",
    "    print (\"La distanza è fra un'ottava e due ottave\")\n",
    "elif abs(note - do3) < 36:\n",
    "    print (\"La distanza è fra due e tre ottave\")\n",
    "else:\n",
    "    print (\"La distanza è enorme!!!\")"
   ]
  },
  {
   "cell_type": "markdown",
   "metadata": {},
   "source": [
    "## Crea e chiama una funzione\n",
    "1. Crea una funzione **separa_parole(stringa)** che prenda come argomento una stringa con più parole...\n",
    "2. ... e che restituisca una lista i cui elementi siano le singole parole\n",
    "3. Chiamare la funzione con argomento _\"Guido van Rossum\"_\n",
    "4. Chiamare la funzione con argomento _\"Nel mezzo del cammin di nostra vita mi ritrovai per una selva oscura\"_"
   ]
  },
  {
   "cell_type": "code",
   "execution_count": 56,
   "metadata": {},
   "outputs": [],
   "source": [
    "def separa_parole(stringa):\n",
    "#definisco la funzione\n",
    "    \n",
    "    parole = stringa.split(' ')\n",
    "    #utilizzo il metodo .split, che divide le stringhe in base a un delimitatore,\n",
    "    #in questo caso lo spazio (' '), e restituisce una lista che ha come elementi\n",
    "    #tutte le varie divisioni effettuate nella stringa.\n",
    "    \n",
    "    print (parole)\n",
    "    #stampo la lista parole    \n",
    "            "
   ]
  },
  {
   "cell_type": "code",
   "execution_count": 61,
   "metadata": {},
   "outputs": [
    {
     "name": "stdout",
     "output_type": "stream",
     "text": [
      "['Guido', 'van', 'Rossum']\n"
     ]
    }
   ],
   "source": [
    "separa_parole('Guido van Rossum')"
   ]
  },
  {
   "cell_type": "code",
   "execution_count": 62,
   "metadata": {},
   "outputs": [
    {
     "name": "stdout",
     "output_type": "stream",
     "text": [
      "['Nel', 'mezzo', 'del', 'cammin', 'di', 'nostra', 'vita', 'mi', 'ritrovai', 'per', 'una', 'selva', 'oscura']\n"
     ]
    }
   ],
   "source": [
    "separa_parole('Nel mezzo del cammin di nostra vita mi ritrovai per una selva oscura')"
   ]
  },
  {
   "cell_type": "markdown",
   "metadata": {},
   "source": [
    "## Crea la funzione pari(n)\n",
    "* Il cui argomento sia l'intero `n` e restituisca (tramite l'istruzione **return**) una lista di numeri pari compresi fra 0 e *n*\n",
    "* Chiama la funzione per n = 11\n",
    "* Chiama la funzione per n = 30\n",
    "\n",
    "##### Esempio:\n",
    "\n",
    "```py\n",
    ">>> pari(12)\n",
    ">>> [0,2,4,6,8,10,12]\n",
    "\n",
    ">>> pari(15)\n",
    ">>> [0,2,4,6,8,10,12,14]\n",
    "```"
   ]
  },
  {
   "cell_type": "code",
   "execution_count": 6,
   "metadata": {
    "ExecuteTime": {
     "end_time": "2021-05-21T20:08:00.104007Z",
     "start_time": "2021-05-21T20:08:00.099886Z"
    }
   },
   "outputs": [],
   "source": [
    "def pari(n):\n",
    "#creo la funzione pari(n)\n",
    "\n",
    "    c = -1\n",
    "    #creo un contatore, che parte da -1 per comprendere anche lo 0\n",
    "    \n",
    "    parilist = []\n",
    "    #creo una lista che conterrà i numeri pari\n",
    "    \n",
    "    while c < n:\n",
    "    #creo un ciclo while che si eseguirà finché c è minore di n\n",
    "        \n",
    "        c = c + 1\n",
    "        #il contatore aumenta di 1 unità per scorrere tra i vari valori\n",
    "        \n",
    "        if c % 2 == 0:\n",
    "        #creo un ciclo if che si esegue se il resto della divisione tra c e 2 è pari a 0, per individuare i numeri pari\n",
    "        \n",
    "            parilist.append(c)\n",
    "            #se il numero è pari, viene aggiunto alla lista\n",
    "            \n",
    "    return parilist"
   ]
  },
  {
   "cell_type": "code",
   "execution_count": 45,
   "metadata": {},
   "outputs": [
    {
     "data": {
      "text/plain": [
       "[0, 2, 4, 6, 8, 10]"
      ]
     },
     "execution_count": 45,
     "metadata": {},
     "output_type": "execute_result"
    }
   ],
   "source": [
    "pari(11)"
   ]
  },
  {
   "cell_type": "code",
   "execution_count": 46,
   "metadata": {},
   "outputs": [
    {
     "data": {
      "text/plain": [
       "[0, 2, 4, 6, 8, 10, 12, 14, 16, 18, 20, 22, 24, 26, 28, 30]"
      ]
     },
     "execution_count": 46,
     "metadata": {},
     "output_type": "execute_result"
    }
   ],
   "source": [
    "pari(30)"
   ]
  },
  {
   "cell_type": "markdown",
   "metadata": {},
   "source": [
    "## funzione input()\n",
    "\n",
    "1. Chiedi all'utente di inserire la sua età tramite la funzione **input()**\n",
    "2. Calcola  (e stampa) l'anno di nascita\n",
    "\n",
    "##### Esempio:\n",
    "\n",
    "```py\n",
    ">>> Quanti anni hai? 14\n",
    ">>> \"Siamo nel 2021, quindi il tuo anno di nascita è il 2007\"\n",
    "```"
   ]
  },
  {
   "cell_type": "code",
   "execution_count": 7,
   "metadata": {
    "ExecuteTime": {
     "end_time": "2021-05-21T20:08:27.001718Z",
     "start_time": "2021-05-21T20:08:24.372859Z"
    }
   },
   "outputs": [
    {
     "name": "stdout",
     "output_type": "stream",
     "text": [
      "Quanti anni hai? 49\n",
      "Siamo nel 2021, quindi il tuo anno di nascita è il 1972\n"
     ]
    }
   ],
   "source": [
    "eta = input(\"Quanti anni hai? \")\n",
    "#creo una variabile in input dove l'utente inserisce la sua età\n",
    "\n",
    "e = int(eta)\n",
    "#la funzione input restituisce sempre dati in forma di stringa, con questo comando lo trasformiamo in numero intero\n",
    "\n",
    "anno = 2021 - e\n",
    "#creo una variabile che calcola l'anno di nascita sottraendo all'anno corrente l'età dell'utente\n",
    "\n",
    "print (\"Siamo nel 2021, quindi il tuo anno di nascita è il\", anno)\n",
    "#stampa la stringa finale"
   ]
  },
  {
   "cell_type": "markdown",
   "metadata": {},
   "source": [
    "## Crea una funzione `nota()` che prenda come argomento una nota espressa in valore (intero) MIDI (0-127) e:\n",
    "* Stampi il nome della nota (do, do#, re, mi, ... )<sup>[1](#not1)</sup> e l'ottava di appartenenza<sup>[2](#not2)</sup> separate da un trattino (`-`)\n",
    "\n",
    "---\n",
    "\n",
    "<div><p style=\"font-size: 0.9em\"><a name=\"not1\">1</a>: usare l'operatore modulo che restituisca l'indice di una lista che contiene i nomi delle note (<code>%</code>)</div></p>\n",
    "<div><p style=\"font-size: 0.9em\"><a name=\"not2\">2</a>: usare l'operatore divisione intera (<code>//</code>)</div></p>\n",
    "\n",
    "---\n",
    "\n",
    "##### Esempi: \n",
    "\n",
    "```py\n",
    ">>> che_nota(73)\n",
    ">>> \"do#-6\"\n",
    "\n",
    ">>> che_nota(12)\n",
    ">>> \"do-1\"\n",
    "\n",
    ">>> che_nota(7)\n",
    ">>> \"sol-0\"\n",
    "```"
   ]
  },
  {
   "cell_type": "code",
   "execution_count": 8,
   "metadata": {
    "ExecuteTime": {
     "end_time": "2021-05-21T20:08:50.706916Z",
     "start_time": "2021-05-21T20:08:50.680400Z"
    }
   },
   "outputs": [],
   "source": [
    "def nota(value):\n",
    "#definisco la funzione\n",
    "\n",
    "    #creo una serie di if che, sfruttando lo step della funzione range, \n",
    "    #sono capaci di riconoscere la nota a prescindere dall'ottava in cui si trova.\n",
    "    #In seguito la nota viene poi stampata, seguita dal comando end=\"\",\n",
    "    #che servirà a tenere sulla stessa riga le due stampe della nota e dell'ottava.\n",
    "    if value in range (0, 127, 12):\n",
    "        print ('Do - ', end =\"\")\n",
    "    \n",
    "    elif value in range (1, 128, 12):\n",
    "        print ('Do# - ', end =\"\")\n",
    "   \n",
    "    elif value in range (2, 128, 12):\n",
    "        print ('Re - ', end =\"\")\n",
    "    \n",
    "    elif value in range (3, 128, 12):\n",
    "        print ('Re# - ', end =\"\")\n",
    "    \n",
    "    elif value in range (4, 128, 12):\n",
    "        print ('Mi - ', end =\"\")\n",
    "    \n",
    "    elif value in range (5, 128, 12):\n",
    "        print ('Fa - ', end =\"\")\n",
    "    \n",
    "    elif value in range (6, 128, 12):\n",
    "        print ('Fa# - ', end =\"\")\n",
    "    \n",
    "    elif value in range (7, 128, 12):\n",
    "        print ('Sol - ', end =\"\")\n",
    "    \n",
    "    elif value in range (8, 128, 12):\n",
    "        print ('Sol# - ', end =\"\")\n",
    "    \n",
    "    elif value in range (9, 128, 12):\n",
    "        print ('La - ', end =\"\")\n",
    "    \n",
    "    elif value in range (10, 128, 12):\n",
    "        print ('La# - ', end =\"\")\n",
    "    \n",
    "    elif value in range (11, 128, 12):\n",
    "        print ('Si - ', end =\"\")\n",
    "    \n",
    "    #per individuare l'ottava di appartenenza, invece, basta creare una lista con le ottave,\n",
    "    #poi creare un ciclo for che gira su tutte esse, stampando quella che equivale alla\n",
    "    #divisione fra la nota scritta nella funzione e 12.\n",
    "    ottave = [0, 1, 2, 3, 4, 5, 6, 7, 8, 9, 10]\n",
    "    for i in ottave:\n",
    "        if i == int(value / 12):\n",
    "            print (i)\n",
    "            "
   ]
  },
  {
   "cell_type": "code",
   "execution_count": 10,
   "metadata": {
    "ExecuteTime": {
     "end_time": "2021-05-21T20:08:59.405001Z",
     "start_time": "2021-05-21T20:08:59.395373Z"
    }
   },
   "outputs": [
    {
     "name": "stdout",
     "output_type": "stream",
     "text": [
      "Do - 5\n"
     ]
    }
   ],
   "source": [
    "nota(60)"
   ]
  }
 ],
 "metadata": {
  "kernelspec": {
   "display_name": "Python 3",
   "language": "python",
   "name": "python3"
  },
  "language_info": {
   "codemirror_mode": {
    "name": "ipython",
    "version": 3
   },
   "file_extension": ".py",
   "mimetype": "text/x-python",
   "name": "python",
   "nbconvert_exporter": "python",
   "pygments_lexer": "ipython3",
   "version": "3.7.6"
  },
  "toc": {
   "base_numbering": 1,
   "nav_menu": {},
   "number_sections": true,
   "sideBar": true,
   "skip_h1_title": false,
   "title_cell": "Table of Contents",
   "title_sidebar": "Contents",
   "toc_cell": false,
   "toc_position": {},
   "toc_section_display": true,
   "toc_window_display": false
  }
 },
 "nbformat": 4,
 "nbformat_minor": 2
}
