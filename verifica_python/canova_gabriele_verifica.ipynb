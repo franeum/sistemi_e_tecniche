{
 "cells": [
  {
   "cell_type": "markdown",
   "metadata": {
    "collapsed": true
   },
   "source": [
    "# Verifica Python SMET propedeutico\n",
    "\n",
    "Per realizzare la verifica potete cercare su internet CONSAPEVOLMENTE, quindi dovete essere in grado di spiegare quello che scrivete, usando i commenti (che sono linee python preceduto dal simbolo `#`): \n",
    "\n",
    "_Commentate, Commentate, Commentate..._\n",
    "\n",
    "---\n",
    "\n",
    "Scrivete le _docstrings_ sotto la definizione delle funzioni\n",
    "\n",
    "---\n",
    "\n",
    "Siete liberi di aggiungere **celle** per scrivere codice\n",
    "\n",
    "---\n",
    "\n",
    "Una volta terminato, rinominate il file con il vostro nome: _mionome_verifica.ipynb_ e spedite all'indirizzo **frabianchi72@gmail.com**\n",
    "\n",
    "---\n",
    "\n",
    "Buon lavoro!"
   ]
  },
  {
   "cell_type": "markdown",
   "metadata": {},
   "source": [
    "## Quale funzione puoi usare per avere l'elenco dei metodi di un oggetto?\n",
    "Fai un esempio con l'oggetto **float**"
   ]
  },
  {
   "cell_type": "code",
   "execution_count": 1,
   "metadata": {},
   "outputs": [],
   "source": [
    "oggetto = 29.9 # creo un ogetto di tipo FLOAT"
   ]
  },
  {
   "cell_type": "code",
   "execution_count": 2,
   "metadata": {},
   "outputs": [
    {
     "data": {
      "text/plain": [
       "['__abs__',\n",
       " '__add__',\n",
       " '__bool__',\n",
       " '__class__',\n",
       " '__delattr__',\n",
       " '__dir__',\n",
       " '__divmod__',\n",
       " '__doc__',\n",
       " '__eq__',\n",
       " '__float__',\n",
       " '__floordiv__',\n",
       " '__format__',\n",
       " '__ge__',\n",
       " '__getattribute__',\n",
       " '__getformat__',\n",
       " '__getnewargs__',\n",
       " '__gt__',\n",
       " '__hash__',\n",
       " '__init__',\n",
       " '__init_subclass__',\n",
       " '__int__',\n",
       " '__le__',\n",
       " '__lt__',\n",
       " '__mod__',\n",
       " '__mul__',\n",
       " '__ne__',\n",
       " '__neg__',\n",
       " '__new__',\n",
       " '__pos__',\n",
       " '__pow__',\n",
       " '__radd__',\n",
       " '__rdivmod__',\n",
       " '__reduce__',\n",
       " '__reduce_ex__',\n",
       " '__repr__',\n",
       " '__rfloordiv__',\n",
       " '__rmod__',\n",
       " '__rmul__',\n",
       " '__round__',\n",
       " '__rpow__',\n",
       " '__rsub__',\n",
       " '__rtruediv__',\n",
       " '__set_format__',\n",
       " '__setattr__',\n",
       " '__sizeof__',\n",
       " '__str__',\n",
       " '__sub__',\n",
       " '__subclasshook__',\n",
       " '__truediv__',\n",
       " '__trunc__',\n",
       " 'as_integer_ratio',\n",
       " 'conjugate',\n",
       " 'fromhex',\n",
       " 'hex',\n",
       " 'imag',\n",
       " 'is_integer',\n",
       " 'real']"
      ]
     },
     "execution_count": 2,
     "metadata": {},
     "output_type": "execute_result"
    }
   ],
   "source": [
    "dir(oggetto)"
   ]
  },
  {
   "cell_type": "code",
   "execution_count": null,
   "metadata": {},
   "outputs": [],
   "source": []
  },
  {
   "cell_type": "markdown",
   "metadata": {},
   "source": [
    "## Come richiami la pagina di `help` di un oggetto, di un metodo e di una funzione?\n",
    "Fai un esempio con la funzione **len**"
   ]
  },
  {
   "cell_type": "code",
   "execution_count": 3,
   "metadata": {},
   "outputs": [
    {
     "name": "stdout",
     "output_type": "stream",
     "text": [
      "Help on built-in function len in module builtins:\n",
      "\n",
      "len(obj, /)\n",
      "    Return the number of items in a container.\n",
      "\n"
     ]
    }
   ],
   "source": [
    "help(len) #help permette di visualizzare le azioni possibili dell'oggetto, metodo o funzione"
   ]
  },
  {
   "cell_type": "code",
   "execution_count": null,
   "metadata": {},
   "outputs": [],
   "source": []
  },
  {
   "cell_type": "code",
   "execution_count": null,
   "metadata": {},
   "outputs": [],
   "source": []
  },
  {
   "cell_type": "markdown",
   "metadata": {},
   "source": [
    "## Date le variabili `x` e `y`, eseguire la seguente operazione (e stampare il risultato)\n",
    "\n",
    "$$x = 15$$\n",
    "$$y = 12.1$$\n",
    "\n",
    "$$7.2 + \\frac{1.1x}{9} \\cdot y$$"
   ]
  },
  {
   "cell_type": "code",
   "execution_count": 5,
   "metadata": {},
   "outputs": [],
   "source": [
    "x = 15\n",
    "y = 12.1 \n",
    "\n",
    "#imposto le variabili x e y "
   ]
  },
  {
   "cell_type": "code",
   "execution_count": 7,
   "metadata": {},
   "outputs": [
    {
     "name": "stdout",
     "output_type": "stream",
     "text": [
      "29.38333333333333\n"
     ]
    }
   ],
   "source": [
    "risultato = 7.2 + ((1.1*x)/9) * y\n",
    "\n",
    "#svolgo l'operazione e stampo il risultato\n",
    "\n",
    "print(risultato)"
   ]
  },
  {
   "cell_type": "code",
   "execution_count": null,
   "metadata": {},
   "outputs": [],
   "source": []
  },
  {
   "cell_type": "markdown",
   "metadata": {},
   "source": [
    "## Usando gli operatori di confronto (`!=`, `<`, `>`, `==`, `>=`, `<=`): \n",
    "* scrivere almeno due espressioni (usando operatori e i soli numeri interi) che restituiscano **True** e due che restituiscano **False**"
   ]
  },
  {
   "cell_type": "code",
   "execution_count": 10,
   "metadata": {},
   "outputs": [
    {
     "data": {
      "text/plain": [
       "True"
      ]
     },
     "execution_count": 10,
     "metadata": {},
     "output_type": "execute_result"
    }
   ],
   "source": [
    "46 == 46\n",
    "32 < 45\n",
    "# due esempi di espressioni vere"
   ]
  },
  {
   "cell_type": "code",
   "execution_count": 12,
   "metadata": {},
   "outputs": [
    {
     "data": {
      "text/plain": [
       "False"
      ]
     },
     "execution_count": 12,
     "metadata": {},
     "output_type": "execute_result"
    }
   ],
   "source": [
    "46 != 46\n",
    "2 * 45 < 50\n",
    "# due esempi di espressioni false"
   ]
  },
  {
   "cell_type": "code",
   "execution_count": null,
   "metadata": {},
   "outputs": [],
   "source": []
  },
  {
   "cell_type": "markdown",
   "metadata": {},
   "source": [
    "## Calcolare l'area di un trapezio popolando 4 variabili chiamate rispettivamente: \n",
    "* `base_maggiore` \n",
    "* `base_minore`\n",
    "* `altezza` \n",
    "* `area`\n",
    "\n",
    "Popolare le prime tre variabili con i seguenti valori: `12`, `14.6`, `7.5` e poi inserire nella variabile `area` il calcolo dell'area.  \n",
    "Infine stampare il valore dell'area con **print()**\n",
    "\n",
    "Ricordare: l'area del trapezio si calcola con la seguente formula:\n",
    "\n",
    "$$\\frac{(base_{maggiore} + base_{minore})\\cdot altezza}{2}$$"
   ]
  },
  {
   "cell_type": "code",
   "execution_count": 13,
   "metadata": {},
   "outputs": [
    {
     "name": "stdout",
     "output_type": "stream",
     "text": [
      "99.75\n"
     ]
    }
   ],
   "source": [
    "base_min = 12\n",
    "base_maj = 14.6\n",
    "altezza = 7.5\n",
    "#imposto le variabili secondo i valori dati \n",
    "area = ((base_min+base_maj)*altezza)/2\n",
    "print(area)\n",
    "\n",
    "#calcolo l'area e stampo il risultato"
   ]
  },
  {
   "cell_type": "code",
   "execution_count": null,
   "metadata": {},
   "outputs": [],
   "source": []
  },
  {
   "cell_type": "code",
   "execution_count": null,
   "metadata": {},
   "outputs": [],
   "source": []
  },
  {
   "cell_type": "markdown",
   "metadata": {},
   "source": [
    "## Spiega le seguenti righe di codice"
   ]
  },
  {
   "cell_type": "code",
   "execution_count": 14,
   "metadata": {
    "ExecuteTime": {
     "end_time": "2021-05-14T15:11:35.981396Z",
     "start_time": "2021-05-14T15:11:35.978632Z"
    }
   },
   "outputs": [
    {
     "name": "stdout",
     "output_type": "stream",
     "text": [
      "True\n"
     ]
    }
   ],
   "source": [
    "x = 10 #viene assegnato il valore 10 alla variabile x\n",
    "print(5 < x < 15) #viene restituito un valore booleano che verifica che x sia compreso tra 5 e 15"
   ]
  },
  {
   "cell_type": "code",
   "execution_count": null,
   "metadata": {},
   "outputs": [],
   "source": []
  },
  {
   "cell_type": "code",
   "execution_count": null,
   "metadata": {},
   "outputs": [],
   "source": []
  },
  {
   "cell_type": "code",
   "execution_count": null,
   "metadata": {},
   "outputs": [],
   "source": []
  },
  {
   "cell_type": "markdown",
   "metadata": {},
   "source": [
    "## Tra questo elenco di tipi, scegli almeno 2 tipi _immutabili_ e 2  *mutabili*:  \n",
    "`int, float, bool, list, dict, tuple, string`\n",
    "1. immutabile:   \n",
    "2. immutabile:  \n",
    "3. mutabile:  \n",
    "4. mutabile:  \n",
    "\n",
    "##### E spiega la differenza fra un tipo mutabile e uno immutabile"
   ]
  },
  {
   "cell_type": "code",
   "execution_count": 17,
   "metadata": {
    "ExecuteTime": {
     "end_time": "2021-05-14T14:33:49.680673Z",
     "start_time": "2021-05-14T14:33:49.679022Z"
    }
   },
   "outputs": [],
   "source": [
    "# mutabili: list, dict\n",
    "# immutabili : int, float, bool, tuple, string "
   ]
  },
  {
   "cell_type": "code",
   "execution_count": 18,
   "metadata": {},
   "outputs": [],
   "source": [
    "#gli oggetti mutabili possono cambiare il loro stato o contenuto mentre gli immutabili non possono"
   ]
  },
  {
   "cell_type": "code",
   "execution_count": null,
   "metadata": {},
   "outputs": [],
   "source": []
  },
  {
   "cell_type": "markdown",
   "metadata": {},
   "source": [
    "## Crea e manipola una lista\n",
    "1. Dichiara una lista di nome `note` che abbia come elementi le prime sei note della scala di do maggiore (do, re, ..., la)\n",
    "2. Stampa la lunghezza della lista `note` ottenuta con la giusta funzione\n",
    "3. Stampa le seconda nota (con la notazione a *slice* \\[...\\])\n",
    "4. Aggiungi la settima nota della scala di do maggiore alla fine della lista\n",
    "5. Stampa una selezione di `note` dalla terza nota fino all'ultima della lista"
   ]
  },
  {
   "cell_type": "code",
   "execution_count": 22,
   "metadata": {},
   "outputs": [
    {
     "name": "stdout",
     "output_type": "stream",
     "text": [
      "6\n",
      "re\n",
      "['mi', 'fa', 'sol', 'la', 'si']\n"
     ]
    }
   ],
   "source": [
    "note = [\"do\", \"re\", \"mi\", \"fa\", \"sol\", \"la\"] #si crea la lista con le sei note della scala di DO maj\n",
    "print(len(note)) #restituisce quanti oggetti ci sono nella lista \"note\"\n",
    "print(note[1]) #restituisce il valore con indice 1 della lista \"note\"\n",
    "note.append(\"si\") #aggiunge in fondo alla lista un altro oggetto\n",
    "print(note[2:]) #restituisce la lista \"note\" partendo dal terzo oggetto ed arrivando fino alla fine "
   ]
  },
  {
   "cell_type": "code",
   "execution_count": null,
   "metadata": {},
   "outputs": [],
   "source": []
  },
  {
   "cell_type": "code",
   "execution_count": null,
   "metadata": {},
   "outputs": [],
   "source": []
  },
  {
   "cell_type": "markdown",
   "metadata": {},
   "source": [
    "## Ciclo for su una lista\n",
    "Crea un ciclo **for** su un range di numeri dispari da 0 a 50<sup>[1](#forrange)</sup> e stampi con **print()** solo quelli che sono multipli di 3 oppure multipli di 5  \n",
    "\n",
    "---\n",
    "\n",
    "<div><p style=\"font-size: 0.9em\"><a name=\"forrange\">1</a>: usare la funzione <strong>range(start, stop, step)</strong></div></p>"
   ]
  },
  {
   "cell_type": "code",
   "execution_count": 30,
   "metadata": {},
   "outputs": [
    {
     "name": "stdout",
     "output_type": "stream",
     "text": [
      "3\n",
      "5\n",
      "9\n",
      "15\n",
      "21\n",
      "25\n",
      "27\n",
      "33\n",
      "35\n",
      "39\n",
      "45\n"
     ]
    }
   ],
   "source": [
    "for i in range(1,51,2): # per ogni oggetto nel range da 1 a 50  procedendo per step di 2\n",
    "    if i % 3 == 0 or i % 5 == 0 : #si verifica che il valore sia divisibile per 3 oppure per 5\n",
    "        print(i) #stampa tutti i valori divisibili "
   ]
  },
  {
   "cell_type": "code",
   "execution_count": null,
   "metadata": {},
   "outputs": [],
   "source": []
  },
  {
   "cell_type": "code",
   "execution_count": null,
   "metadata": {},
   "outputs": [],
   "source": []
  },
  {
   "cell_type": "markdown",
   "metadata": {
    "collapsed": true
   },
   "source": [
    "## Crea e manipola un dizionario\n",
    "1. Crea un dizionario `durate` con le seguenti caratteristiche:\n",
    "    - chiave: nome della durata (semibreve, minima, etc... fino alla semicroma)\n",
    "    - valore: durata (in quarti, ottavi e sedicesimi: \"4/4\", \"2/4\", etc...)\n",
    "2. Stampa il valore corrispondente alla chiave `croma`\n",
    "3. Aggiungi la coppia chiave:valore `biscroma`:`1/32`\n",
    "4. Stampa l'intero dizionario"
   ]
  },
  {
   "cell_type": "code",
   "execution_count": 29,
   "metadata": {},
   "outputs": [
    {
     "name": "stdout",
     "output_type": "stream",
     "text": [
      "1/8\n",
      "{'semibreve': '4/4', 'minima': '2/4', 'semiminima': '1/4', 'croma': '1/8', 'semicroma': '1/16', 'biscroma': '1/32'}\n"
     ]
    }
   ],
   "source": [
    "durate = {\n",
    "    \"semibreve\" : \"4/4\",\n",
    "    \"minima\" : \"2/4\",\n",
    "    \"semiminima\":\"1/4\",        #viene creato il dizionario scrivendo le chiavi e i valori si ogni oggetto\n",
    "    \"croma\":\"1/8\",\n",
    "    \"semicroma\" : \"1/16\"\n",
    "}\n",
    "print(durate[\"croma\"])   #viene stampato solo il valore della croma\n",
    "durate[\"biscroma\"] = \"1/32\" #si aggiunge al dizionario la biscroma con il suo rispettivo valore\n",
    "print(durate) #viene stampato tutto il dizionario"
   ]
  },
  {
   "cell_type": "code",
   "execution_count": null,
   "metadata": {},
   "outputs": [],
   "source": []
  },
  {
   "cell_type": "code",
   "execution_count": null,
   "metadata": {},
   "outputs": [],
   "source": []
  },
  {
   "cell_type": "markdown",
   "metadata": {},
   "source": [
    "## Ciclo for su un dizionario\n",
    "1. *Per ogni coppia chiave:valore* del dizionario `durate`, creato prima, stampa la stringa del tipo\n",
    "`\"La semibreve dura 4/4\"`, etc..."
   ]
  },
  {
   "cell_type": "code",
   "execution_count": 34,
   "metadata": {},
   "outputs": [
    {
     "name": "stdout",
     "output_type": "stream",
     "text": [
      "La semibreve dura 4/4\n",
      "La minima dura 2/4\n",
      "La semiminima dura 1/4\n",
      "La croma dura 1/8\n",
      "La semicroma dura 1/16\n",
      "La biscroma dura 1/32\n"
     ]
    }
   ],
   "source": [
    "for chiave, valore in durate.items(): #per ogni chiave e valore del dizionario \"durate\" \n",
    "    print(f\"La {chiave} dura {valore}\") #stampa con una fstring in modo che vengano riconosciuti i valori"
   ]
  },
  {
   "cell_type": "code",
   "execution_count": null,
   "metadata": {},
   "outputs": [],
   "source": []
  },
  {
   "cell_type": "code",
   "execution_count": null,
   "metadata": {},
   "outputs": [],
   "source": []
  },
  {
   "cell_type": "markdown",
   "metadata": {
    "collapsed": true
   },
   "source": [
    "## Crea un *if* con le seguenti caratteristiche:\n",
    "1. data una variabile `pitch` espressa in valori MIDI (0-127)\n",
    "2. calcoli la distanza dal \"do centrale\" (valore: 60)<sup>[1](#note1)</sup> \n",
    "3. e stampi:\n",
    "    - \"le due note sono uguali\" se la distanza è 0\n",
    "    - \"la distanza è compresa in un'ottava\" se la distanza è minore di 12\n",
    "    - \"la distanza è fra un'ottava e due ottave\" se la distanza è minore di 24\n",
    "    - \"la distanza è fra due e tre ottave\" se la distanza è minore di 36\n",
    "    - \"la distanza è enorme!!\" in qualunque altro caso\n",
    "    \n",
    "4. assegnare alla variabile `pitch` valori diversi: 12, 33, 8, 49, 7, 0 e rieseguire il codice\n",
    "\n",
    "---\n",
    "\n",
    "<div><p style=\"font-size: 0.9em\"><a name=\"note1\">1</a>: la funzione <strong>abs()</strong> resituisce il valore assoluto di un numero, cioè il numero stesso privo si segno. Per calcolare la distanza useremo la sottrazione e il valore assoluto: 49 e 71 sono entrambi a distanza 11 da 60</div></p>"
   ]
  },
  {
   "cell_type": "code",
   "execution_count": 48,
   "metadata": {},
   "outputs": [
    {
     "name": "stdout",
     "output_type": "stream",
     "text": [
      "0\n",
      "La distanza è enorme!!\n"
     ]
    }
   ],
   "source": [
    "pitch = int(input())       #invece di assegnare alla variabile pitch ogni volta un valore diverso si puà utilizzare input che permette all'utente di inserire il proprio valreo\n",
    "distanza =abs(60 - pitch) # si calcola la differenza in valore assoluto dal DO centrale \n",
    "if distanza == 0 :\n",
    "    print(\"Le due note sono uguali\")\n",
    "elif distanza < 12 :\n",
    "    print(\"La distanza è compresa in un'ottava\")\n",
    "elif distanza < 24 :\n",
    "    print(\"La distanza è fra un'ottava e due ottave\")\n",
    "elif distanza < 36 :\n",
    "    print(\"La distanza è fra due e tre ottave\")\n",
    "else : print(\"La distanza è enorme!!\")        #attraverso if ed elif posso far stampare la distanza dal DO"
   ]
  },
  {
   "cell_type": "code",
   "execution_count": null,
   "metadata": {},
   "outputs": [],
   "source": []
  },
  {
   "cell_type": "code",
   "execution_count": null,
   "metadata": {},
   "outputs": [],
   "source": []
  },
  {
   "cell_type": "markdown",
   "metadata": {},
   "source": [
    "## Crea e chiama una funzione\n",
    "1. Crea una funzione **separa_parole(stringa)** che prenda come argomento una stringa con più parole...\n",
    "2. ... e che restituisca una lista i cui elementi siano le singole parole\n",
    "3. Chiamare la funzione con argomento _\"Guido van Rossum\"_\n",
    "4. Chiamare la funzione con argomento _\"Nel mezzo del cammin di nostra vita mi ritrovai per una selva oscura\"_"
   ]
  },
  {
   "cell_type": "code",
   "execution_count": 49,
   "metadata": {},
   "outputs": [],
   "source": [
    "def separa_parole(stringa): #si crea la funzione che accetti come argomento una stringa\n",
    "    return list(stringa.split()) #viene stampata una lista che contiene ogni parola della stringa"
   ]
  },
  {
   "cell_type": "code",
   "execution_count": 53,
   "metadata": {},
   "outputs": [
    {
     "data": {
      "text/plain": [
       "['Guido', 'Van', 'Rossum']"
      ]
     },
     "execution_count": 53,
     "metadata": {},
     "output_type": "execute_result"
    }
   ],
   "source": [
    "separa_parole(\"Guido Van Rossum\") #si richiama la funzione inserendo come argomento la stringa sopra citata"
   ]
  },
  {
   "cell_type": "code",
   "execution_count": 52,
   "metadata": {},
   "outputs": [
    {
     "data": {
      "text/plain": [
       "['Nel',\n",
       " 'mezzo',\n",
       " 'del',\n",
       " 'cammin',\n",
       " 'di',\n",
       " 'nostra',\n",
       " 'vita',\n",
       " 'mi',\n",
       " 'ritrovai',\n",
       " 'per',\n",
       " 'una',\n",
       " 'selva',\n",
       " 'oscura']"
      ]
     },
     "execution_count": 52,
     "metadata": {},
     "output_type": "execute_result"
    }
   ],
   "source": [
    "separa_parole(\"Nel mezzo del cammin di nostra vita mi ritrovai per una selva oscura\")"
   ]
  },
  {
   "cell_type": "markdown",
   "metadata": {},
   "source": [
    "## Crea la funzione pari(n)\n",
    "* Il cui argomento sia l'intero `n` e restituisca (tramite l'istruzione **return**) una lista di numeri pari compresi fra 0 e *n*\n",
    "* Chiama la funzione per n = 11\n",
    "* Chiama la funzione per n = 30\n",
    "\n",
    "##### Esempio:\n",
    "\n",
    "```py\n",
    ">>> pari(12)\n",
    ">>> [0,2,4,6,8,10,12]\n",
    "\n",
    ">>> pari(15)\n",
    ">>> [0,2,4,6,8,10,12,14]\n",
    "```"
   ]
  },
  {
   "cell_type": "code",
   "execution_count": 55,
   "metadata": {},
   "outputs": [],
   "source": [
    "def pari(n): #si definisce la funzione con argomento n\n",
    "    lista = [] #si crea una lista vuota alla quale verranno aggiunti i valori pari\n",
    "    for i in range (n+1): # per ogni valore nel range che va da 0 a n+1, perchè n verrebbe escluso da python\n",
    "        if i % 2 == 0 : # se il valore diviso per 2 da come resto 0 \n",
    "            lista.append(i) #il valore pari viene aggiunto alla lista vuota\n",
    "    return lista"
   ]
  },
  {
   "cell_type": "code",
   "execution_count": 56,
   "metadata": {},
   "outputs": [
    {
     "data": {
      "text/plain": [
       "[0, 2, 4, 6, 8, 10]"
      ]
     },
     "execution_count": 56,
     "metadata": {},
     "output_type": "execute_result"
    }
   ],
   "source": [
    "pari (11)"
   ]
  },
  {
   "cell_type": "code",
   "execution_count": 57,
   "metadata": {},
   "outputs": [
    {
     "data": {
      "text/plain": [
       "[0, 2, 4, 6, 8, 10, 12, 14, 16, 18, 20, 22, 24, 26, 28, 30]"
      ]
     },
     "execution_count": 57,
     "metadata": {},
     "output_type": "execute_result"
    }
   ],
   "source": [
    "pari (30)"
   ]
  },
  {
   "cell_type": "markdown",
   "metadata": {},
   "source": [
    "## funzione input()\n",
    "\n",
    "1. Chiedi all'utente di inserire la sua età tramite la funzione **input()**\n",
    "2. Calcola  (e stampa) l'anno di nascita\n",
    "\n",
    "##### Esempio:\n",
    "\n",
    "```py\n",
    ">>> Quanti anni hai? 14\n",
    ">>> \"Siamo nel 2021, quindi il tuo anno di nascita è il 2007\"\n",
    "```"
   ]
  },
  {
   "cell_type": "code",
   "execution_count": 63,
   "metadata": {},
   "outputs": [
    {
     "name": "stdout",
     "output_type": "stream",
     "text": [
      "23\n",
      "Siamo nel 2021, quindi il tuo anno di nascita è il 1998\n"
     ]
    }
   ],
   "source": [
    "età = int(input()) # viene inserità l'età dell'utente\n",
    "anno_di_nascita = 2021 - età #si calcola l'anno di nascita dell'utente \n",
    "print(f\"Siamo nel 2021, quindi il tuo anno di nascita è il {anno_di_nascita}\") #viene restituito l'anno di nascita "
   ]
  },
  {
   "cell_type": "code",
   "execution_count": null,
   "metadata": {},
   "outputs": [],
   "source": []
  },
  {
   "cell_type": "code",
   "execution_count": null,
   "metadata": {},
   "outputs": [],
   "source": []
  },
  {
   "cell_type": "markdown",
   "metadata": {},
   "source": [
    "## Crea una funzione `nota()` che prenda come argomento una nota espressa in valore (intero) MIDI (0-127) e:\n",
    "* Stampi il nome della nota (do, do#, re, mi, ... )<sup>[1](#not1)</sup> e l'ottava di appartenenza<sup>[2](#not2)</sup> separate da un trattino (`-`)\n",
    "\n",
    "---\n",
    "\n",
    "<div><p style=\"font-size: 0.9em\"><a name=\"not1\">1</a>: usare l'operatore modulo che restituisca l'indice di una lista che contiene i nomi delle note (<code>%</code>)</div></p>\n",
    "<div><p style=\"font-size: 0.9em\"><a name=\"not2\">2</a>: usare l'operatore divisione intera (<code>//</code>)</div></p>\n",
    "\n",
    "---\n",
    "\n",
    "##### Esempi: \n",
    "\n",
    "```py\n",
    ">>> che_nota(73)\n",
    ">>> \"do#-6\"\n",
    "\n",
    ">>> che_nota(12)\n",
    ">>> \"do-1\"\n",
    "\n",
    ">>> che_nota(7)\n",
    ">>> \"sol-0\"\n",
    "```"
   ]
  },
  {
   "cell_type": "code",
   "execution_count": 67,
   "metadata": {},
   "outputs": [],
   "source": [
    "note = [\"do\",\"do#\",\"re\",\"re#\",\"mi\",\"fa\",\"fa#\",\"sol\",\"sol#\",\"la\",\"la#\",\"si\"] #viene creata una lista \"note\" contenente tutte le note possibili\n",
    "def che_nota(nota): #si definisce la funzione che_nota che prende come argomento una nota\n",
    "        assert(type(nota) == int and 0 <= nota <= 127)\n",
    "        return f\"{note[ (nota % len(note))]}-{nota // len(note)}\" #si verifica prima che la nota sia un numero intero e che sia compresa tra 0 e 127 \n",
    "                                                            # e che restituisca il nome della nota e l'ottava di appartenenza"
   ]
  },
  {
   "cell_type": "code",
   "execution_count": 68,
   "metadata": {},
   "outputs": [
    {
     "data": {
      "text/plain": [
       "'do-6'"
      ]
     },
     "execution_count": 68,
     "metadata": {},
     "output_type": "execute_result"
    }
   ],
   "source": [
    "che_nota(72)"
   ]
  },
  {
   "cell_type": "code",
   "execution_count": 70,
   "metadata": {},
   "outputs": [
    {
     "data": {
      "text/plain": [
       "'re#-9'"
      ]
     },
     "execution_count": 70,
     "metadata": {},
     "output_type": "execute_result"
    }
   ],
   "source": [
    "che_nota(111)"
   ]
  },
  {
   "cell_type": "code",
   "execution_count": 71,
   "metadata": {},
   "outputs": [
    {
     "data": {
      "text/plain": [
       "'fa#-4'"
      ]
     },
     "execution_count": 71,
     "metadata": {},
     "output_type": "execute_result"
    }
   ],
   "source": [
    "che_nota(54)"
   ]
  }
 ],
 "metadata": {
  "kernelspec": {
   "display_name": "Python 3",
   "language": "python",
   "name": "python3"
  },
  "language_info": {
   "codemirror_mode": {
    "name": "ipython",
    "version": 3
   },
   "file_extension": ".py",
   "mimetype": "text/x-python",
   "name": "python",
   "nbconvert_exporter": "python",
   "pygments_lexer": "ipython3",
   "version": "3.8.5"
  },
  "toc": {
   "base_numbering": 1,
   "nav_menu": {},
   "number_sections": true,
   "sideBar": true,
   "skip_h1_title": false,
   "title_cell": "Table of Contents",
   "title_sidebar": "Contents",
   "toc_cell": false,
   "toc_position": {},
   "toc_section_display": true,
   "toc_window_display": false
  }
 },
 "nbformat": 4,
 "nbformat_minor": 2
}
