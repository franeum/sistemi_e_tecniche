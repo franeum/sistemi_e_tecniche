{
 "cells": [
  {
   "cell_type": "markdown",
   "metadata": {
    "collapsed": true
   },
   "source": [
    "# Verifica Python SMET propedeutico\n",
    "\n",
    "Per realizzare la verifica potete cercare su internet CONSAPEVOLMENTE, quindi dovete essere in grado di spiegare quello che scrivete, usando i commenti (che sono linee python preceduto dal simbolo `#`): \n",
    "\n",
    "_Commentate, Commentate, Commentate..._\n",
    "\n",
    "---\n",
    "\n",
    "Scrivete le _docstrings_ sotto la definizione delle funzioni\n",
    "\n",
    "---\n",
    "\n",
    "Siete liberi di aggiungere **celle** per scrivere codice\n",
    "\n",
    "---\n",
    "\n",
    "Una volta terminato, rinominate il file con il vostro nome: _mionome_verifica.ipynb_ e spedite all'indirizzo **frabianchi72@gmail.com**\n",
    "\n",
    "---\n",
    "\n",
    "Buon lavoro!"
   ]
  },
  {
   "cell_type": "markdown",
   "metadata": {},
   "source": [
    "## Quale funzione puoi usare per avere l'elenco dei metodi di un oggetto?\n",
    "Fai un esempio con l'oggetto **float**"
   ]
  },
  {
   "cell_type": "code",
   "execution_count": 2,
   "metadata": {},
   "outputs": [
    {
     "data": {
      "text/plain": [
       "['__abs__',\n",
       " '__add__',\n",
       " '__bool__',\n",
       " '__class__',\n",
       " '__delattr__',\n",
       " '__dir__',\n",
       " '__divmod__',\n",
       " '__doc__',\n",
       " '__eq__',\n",
       " '__float__',\n",
       " '__floordiv__',\n",
       " '__format__',\n",
       " '__ge__',\n",
       " '__getattribute__',\n",
       " '__getformat__',\n",
       " '__getnewargs__',\n",
       " '__gt__',\n",
       " '__hash__',\n",
       " '__init__',\n",
       " '__init_subclass__',\n",
       " '__int__',\n",
       " '__le__',\n",
       " '__lt__',\n",
       " '__mod__',\n",
       " '__mul__',\n",
       " '__ne__',\n",
       " '__neg__',\n",
       " '__new__',\n",
       " '__pos__',\n",
       " '__pow__',\n",
       " '__radd__',\n",
       " '__rdivmod__',\n",
       " '__reduce__',\n",
       " '__reduce_ex__',\n",
       " '__repr__',\n",
       " '__rfloordiv__',\n",
       " '__rmod__',\n",
       " '__rmul__',\n",
       " '__round__',\n",
       " '__rpow__',\n",
       " '__rsub__',\n",
       " '__rtruediv__',\n",
       " '__set_format__',\n",
       " '__setattr__',\n",
       " '__sizeof__',\n",
       " '__str__',\n",
       " '__sub__',\n",
       " '__subclasshook__',\n",
       " '__truediv__',\n",
       " '__trunc__',\n",
       " 'as_integer_ratio',\n",
       " 'conjugate',\n",
       " 'fromhex',\n",
       " 'hex',\n",
       " 'imag',\n",
       " 'is_integer',\n",
       " 'real']"
      ]
     },
     "execution_count": 2,
     "metadata": {},
     "output_type": "execute_result"
    }
   ],
   "source": [
    "dir(float)"
   ]
  },
  {
   "cell_type": "code",
   "execution_count": null,
   "metadata": {},
   "outputs": [],
   "source": [
    "#La funzione che posso usare per avere l'elenco dei metodi di un oggetto è la funzione dir"
   ]
  },
  {
   "cell_type": "code",
   "execution_count": null,
   "metadata": {},
   "outputs": [],
   "source": []
  },
  {
   "cell_type": "markdown",
   "metadata": {},
   "source": [
    "## Come richiami la pagina di `help` di un oggetto, di un metodo e di una funzione?\n",
    "Fai un esempio con la funzione **len**"
   ]
  },
  {
   "cell_type": "code",
   "execution_count": 9,
   "metadata": {},
   "outputs": [
    {
     "name": "stdout",
     "output_type": "stream",
     "text": [
      "Help on built-in function len in module builtins:\n",
      "\n",
      "len(obj, /)\n",
      "    Return the number of items in a container.\n",
      "\n"
     ]
    }
   ],
   "source": [
    "help(len)"
   ]
  },
  {
   "cell_type": "code",
   "execution_count": null,
   "metadata": {},
   "outputs": [],
   "source": [
    "# Per richiamare la pagina Help basta che affianco alla funzione help aggiungi la funzione len tra le parentesi tonde"
   ]
  },
  {
   "cell_type": "code",
   "execution_count": null,
   "metadata": {},
   "outputs": [],
   "source": []
  },
  {
   "cell_type": "markdown",
   "metadata": {},
   "source": [
    "## Date le variabili `x` e `y`, eseguire la seguente operazione (e stampare il risultato)\n",
    "\n",
    "$$x = 15$$\n",
    "$$y = 12.1$$\n",
    "\n",
    "$$7.2 + \\frac{1.1x}{9} \\cdot y$$"
   ]
  },
  {
   "cell_type": "code",
   "execution_count": 19,
   "metadata": {},
   "outputs": [],
   "source": [
    "x = 15\n",
    "y = 12.1"
   ]
  },
  {
   "cell_type": "code",
   "execution_count": 22,
   "metadata": {},
   "outputs": [
    {
     "data": {
      "text/plain": [
       "28.46666666666667"
      ]
     },
     "execution_count": 22,
     "metadata": {},
     "output_type": "execute_result"
    }
   ],
   "source": [
    "7.2+1.1+15/9*12.1"
   ]
  },
  {
   "cell_type": "code",
   "execution_count": null,
   "metadata": {},
   "outputs": [],
   "source": [
    "# Operazione x e y:\n",
    "# Ho inziato prendendo tutte e due le variabili x e y\n",
    "# x= 15\n",
    "# y= 12.1\n",
    "# Dopo di che ho usato la funzione Calcolatrie per trovare il risultato finale delle due variabili"
   ]
  },
  {
   "cell_type": "markdown",
   "metadata": {},
   "source": [
    "## Usando gli operatori di confronto (`!=`, `<`, `>`, `==`, `>=`, `<=`): \n",
    "* scrivere almeno due espressioni (usando operatori e i soli numeri interi) che restituiscano **True** e due che restituiscano **False**"
   ]
  },
  {
   "cell_type": "code",
   "execution_count": 6,
   "metadata": {},
   "outputs": [
    {
     "name": "stdout",
     "output_type": "stream",
     "text": [
      "True\n"
     ]
    }
   ],
   "source": [
    "a = 10\n",
    "b = 20\n",
    "print(a < b)"
   ]
  },
  {
   "cell_type": "code",
   "execution_count": 11,
   "metadata": {},
   "outputs": [
    {
     "name": "stdout",
     "output_type": "stream",
     "text": [
      "False\n"
     ]
    }
   ],
   "source": [
    "a = 23\n",
    "b = 12\n",
    "print(a == b)"
   ]
  },
  {
   "cell_type": "code",
   "execution_count": 13,
   "metadata": {},
   "outputs": [
    {
     "name": "stdout",
     "output_type": "stream",
     "text": [
      "False\n"
     ]
    }
   ],
   "source": [
    "a = 21\n",
    "b = 43\n",
    "print(a >= b)"
   ]
  },
  {
   "cell_type": "code",
   "execution_count": null,
   "metadata": {},
   "outputs": [],
   "source": [
    "# Operatori di Confronto\n",
    "# In questo esercizio ho usato due variabili a e b con due numeri interi diversi l'uno dall altro\n",
    "# E come conclusione dell'esercizio ho stampato i due valori vedendo se sono maggiori,minori,uguali etc..."
   ]
  },
  {
   "cell_type": "markdown",
   "metadata": {},
   "source": [
    "## Calcolare l'area di un trapezio popolando 4 variabili chiamate rispettivamente: \n",
    "* `base_maggiore` \n",
    "* `base_minore`\n",
    "* `altezza` \n",
    "* `area`\n",
    "\n",
    "Popolare le prime tre variabili con i seguenti valori: `12`, `14.6`, `7.5` e poi inserire nella variabile `area` il calcolo dell'area.  \n",
    "Infine stampare il valore dell'area con **print()**\n",
    "\n",
    "Ricordare: l'area del trapezio si calcola con la seguente formula:\n",
    "\n",
    "$$\\frac{(base_{maggiore} + base_{minore})\\cdot altezza}{2}$$"
   ]
  },
  {
   "cell_type": "code",
   "execution_count": 7,
   "metadata": {},
   "outputs": [],
   "source": [
    "base_maggiore = 12\n",
    "base_minore = 14.6\n",
    "altezza = 7.5\n",
    "area = \"calcolo dell'area\""
   ]
  },
  {
   "cell_type": "code",
   "execution_count": 18,
   "metadata": {},
   "outputs": [
    {
     "data": {
      "text/plain": [
       "66.75"
      ]
     },
     "execution_count": 18,
     "metadata": {},
     "output_type": "execute_result"
    }
   ],
   "source": [
    "12+14.6*7.5/2"
   ]
  },
  {
   "cell_type": "code",
   "execution_count": null,
   "metadata": {},
   "outputs": [],
   "source": [
    "# Calcolo Area Trapezio:\n",
    "# Come prima cosa ho preso le prime tre variabili per fare il calcolo dell'area che sarebbero:\n",
    "# Base_maggiore = 12\n",
    "# Base_minore = 14.6\n",
    "# Altezza = 7.5\n",
    "# Dopo di che ho inserito l'ultima variabile che sarebbe \"l'area\"\n",
    "# Infine ho usato la Funzione della calcolatrice prendendo i valori che avevamo trovato in precedenza\n",
    "# Infine dopo aver calcolato l'area del trapezio, ho usato la funzione \"print\" per trovare il risultato finale"
   ]
  },
  {
   "cell_type": "markdown",
   "metadata": {},
   "source": [
    "## Spiega le seguenti righe di codice"
   ]
  },
  {
   "cell_type": "code",
   "execution_count": null,
   "metadata": {
    "ExecuteTime": {
     "end_time": "2021-05-14T15:11:35.981396Z",
     "start_time": "2021-05-14T15:11:35.978632Z"
    }
   },
   "outputs": [],
   "source": [
    "x = 10\n",
    "print(5 < x < 15)"
   ]
  },
  {
   "cell_type": "code",
   "execution_count": null,
   "metadata": {},
   "outputs": [],
   "source": [
    "# Assegna 10 alla x\n",
    "# Così manda in output il risultato dell'operazione booleana che x sia compreso tra 5 e 15"
   ]
  },
  {
   "cell_type": "markdown",
   "metadata": {},
   "source": [
    "## Tra questo elenco di tipi, scegli almeno 2 tipi _immutabili_ e 2  *mutabili*:  \n",
    "`int, float, bool, list, dict, tuple, string`\n",
    "1. immutabile:   \n",
    "2. immutabile:  \n",
    "3. mutabile:  \n",
    "4. mutabile:  \n",
    "\n",
    "##### E spiega la differenza fra un tipo mutabile e uno immutabile"
   ]
  },
  {
   "cell_type": "code",
   "execution_count": null,
   "metadata": {
    "ExecuteTime": {
     "end_time": "2021-05-14T14:33:49.680673Z",
     "start_time": "2021-05-14T14:33:49.679022Z"
    }
   },
   "outputs": [],
   "source": [
    "\"Oggetto mutabile\": list, dict"
   ]
  },
  {
   "cell_type": "code",
   "execution_count": null,
   "metadata": {},
   "outputs": [],
   "source": [
    "\"Oggetto Immutabile\": tuple, bool"
   ]
  },
  {
   "cell_type": "code",
   "execution_count": null,
   "metadata": {},
   "outputs": [],
   "source": [
    "# Oggetto Mutabile: Un oggetto può essere mutabile quando un ogetto può cambiare i loro valori in qualsaisi \n",
    "# momento e luogo\n",
    "\n",
    "# Oggetto Immutabile: Un oggetto può essere immutabile quando possono garantire che l'oggetto rimanga con\n",
    "# la stessa costante in tutto il programma"
   ]
  },
  {
   "cell_type": "markdown",
   "metadata": {},
   "source": [
    "## Crea e manipola una lista\n",
    "1. Dichiara una lista di nome `note` che abbia come elementi le prime sei note della scala di do maggiore (do, re, ..., la)\n",
    "2. Stampa la lunghezza della lista `note` ottenuta con la giusta funzione\n",
    "3. Stampa le seconda nota (con la notazione a *slice* \\[...\\])\n",
    "4. Aggiungi la settima nota della scala di do maggiore alla fine della lista\n",
    "5. Stampa una selezione di `note` dalla terza nota fino all'ultima della lista"
   ]
  },
  {
   "cell_type": "code",
   "execution_count": 115,
   "metadata": {},
   "outputs": [
    {
     "name": "stdout",
     "output_type": "stream",
     "text": [
      "6\n",
      "re\n",
      "['mi', 'fa', 'sol', 'la', 'si']\n"
     ]
    }
   ],
   "source": [
    "note = [\"do\", \"re\", \"mi\", \"fa\", \"sol\", \"la\"]\n",
    "print(len(note))\n",
    "print(note[1])\n",
    "note.append(\"si\")\n",
    "print(note[2:])"
   ]
  },
  {
   "cell_type": "code",
   "execution_count": null,
   "metadata": {},
   "outputs": [],
   "source": [
    "# Ho dichiarato una lista di nome note con le sue note dal do al la\n",
    "# Ho stampato la lunghezza della lista note con len\n",
    "# Ho stampato la lista note con una nota sola\n",
    "# Ho usato anche il note.append per aggiungere alla lista di prima ancora una nota che sarebbe il \"si\"\n",
    "# E infine ho stampato la lista di note facendola partire dalla terza nota"
   ]
  },
  {
   "cell_type": "code",
   "execution_count": null,
   "metadata": {},
   "outputs": [],
   "source": []
  },
  {
   "cell_type": "markdown",
   "metadata": {},
   "source": [
    "## Ciclo for su una lista\n",
    "Crea un ciclo **for** su un range di numeri dispari da 0 a 50<sup>[1](#forrange)</sup> e stampi con **print()** solo quelli che sono multipli di 3 oppure multipli di 5  \n",
    "\n",
    "---\n",
    "\n",
    "<div><p style=\"font-size: 0.9em\"><a name=\"forrange\">1</a>: usare la funzione <strong>range(start, stop, step)</strong></div></p>"
   ]
  },
  {
   "cell_type": "code",
   "execution_count": 81,
   "metadata": {},
   "outputs": [
    {
     "name": "stdout",
     "output_type": "stream",
     "text": [
      "3\n",
      "9\n",
      "15\n",
      "21\n",
      "27\n",
      "33\n",
      "39\n",
      "45\n"
     ]
    }
   ],
   "source": [
    "for i in range(1, 50, 2):\n",
    "    if i % 3 == 0:\n",
    "        print(i)\n",
    "        elif i % 5 == 0:\n",
    "            print (i)"
   ]
  },
  {
   "cell_type": "code",
   "execution_count": null,
   "metadata": {},
   "outputs": [],
   "source": [
    "# Creiamo un ciclo for con un ramge da 1 a 50\n",
    "# Poi abbiamo un Ciclo if se il numero è multiplo di 3, viene stampato\n",
    "# Poi abbiamo sempre un ciclo if ma che stavolta stampa i multipli di 5"
   ]
  },
  {
   "cell_type": "markdown",
   "metadata": {
    "collapsed": true
   },
   "source": [
    "## Crea e manipola un dizionario\n",
    "1. Crea un dizionario `durate` con le seguenti caratteristiche:\n",
    "    - chiave: nome della durata (semibreve, minima, etc... fino alla semicroma)\n",
    "    - valore: durata (in quarti, ottavi e sedicesimi: \"4/4\", \"2/4\", etc...)\n",
    "2. Stampa il valore corrispondente alla chiave `croma`\n",
    "3. Aggiungi la coppia chiave:valore `biscroma`:`1/32`\n",
    "4. Stampa l'intero dizionario"
   ]
  },
  {
   "cell_type": "code",
   "execution_count": 116,
   "metadata": {},
   "outputs": [
    {
     "name": "stdout",
     "output_type": "stream",
     "text": [
      "1/8\n",
      "{'semibreve': '4/4', 'minima': '2/4', 'semiminima': '1/4', 'croma': '1/8', 'semicroma': '1/16', 'biscroma': '1/32'}\n"
     ]
    }
   ],
   "source": [
    "durate = {\n",
    "    \"semibreve\" : \"4/4\",\n",
    "    \"minima\" : \"2/4\",\n",
    "    \"semiminima\" : \"1/4\",\n",
    "    \"croma\" : \"1/8\",\n",
    "    \"semicroma\" : \"1/16\"\n",
    "}\n",
    "print(durate[\"croma\"])\n",
    "durate[\"biscroma\"] = \"1/32\"\n",
    "print(durate)"
   ]
  },
  {
   "cell_type": "code",
   "execution_count": null,
   "metadata": {},
   "outputs": [],
   "source": [
    "# Creato Dizionario durate\n",
    "# Con le chiavi e valori dentro il dizionario\n",
    "# Poi ho stampato il valore della chiave croma\n",
    "# E aggiunto la coppia di chiave della biscroma\n",
    "# per finire ho stampato tutto il dizionario"
   ]
  },
  {
   "cell_type": "code",
   "execution_count": null,
   "metadata": {},
   "outputs": [],
   "source": []
  },
  {
   "cell_type": "code",
   "execution_count": null,
   "metadata": {},
   "outputs": [],
   "source": []
  },
  {
   "cell_type": "markdown",
   "metadata": {},
   "source": [
    "## Ciclo for su un dizionario\n",
    "1. *Per ogni coppia chiave:valore* del dizionario `durate`, creato prima, stampa la stringa del tipo\n",
    "`\"La semibreve dura 4/4\"`, etc..."
   ]
  },
  {
   "cell_type": "code",
   "execution_count": 126,
   "metadata": {},
   "outputs": [
    {
     "name": "stdout",
     "output_type": "stream",
     "text": [
      "La semibreve dura 4/4\n",
      "La minima dura 2/4\n",
      "La semiminima dura 1/4\n",
      "La croma dura 1/8\n",
      "La semicroma dura 1/16\n",
      "La biscroma dura 1/32\n"
     ]
    }
   ],
   "source": [
    "for chiave, valore in durate.items():\n",
    "    print(f\"La {chiave} dura {valore}\")"
   ]
  },
  {
   "cell_type": "code",
   "execution_count": null,
   "metadata": {},
   "outputs": [],
   "source": [
    "# Ho usato principalmente \"for\" che ci serve per iterare su tutti gli elementi di un iterabile per eseguire un determinato\n",
    "# blocco di codice"
   ]
  },
  {
   "cell_type": "code",
   "execution_count": null,
   "metadata": {},
   "outputs": [],
   "source": []
  },
  {
   "cell_type": "markdown",
   "metadata": {
    "collapsed": true
   },
   "source": [
    "## Crea un *if* con le seguenti caratteristiche:\n",
    "1. data una variabile `pitch` espressa in valori MIDI (0-127)\n",
    "2. calcoli la distanza dal \"do centrale\" (valore: 60)<sup>[1](#note1)</sup> \n",
    "3. e stampi:\n",
    "    - \"le due note sono uguali\" se la distanza è 0\n",
    "    - \"la distanza è compresa in un'ottava\" se la distanza è minore di 12\n",
    "    - \"la distanza è fra un'ottava e due ottave\" se la distanza è minore di 24\n",
    "    - \"la distanza è fra due e tre ottave\" se la distanza è minore di 36\n",
    "    - \"la distanza è enorme!!\" in qualunque altro caso\n",
    "    \n",
    "4. assegnare alla variabile `pitch` valori diversi: 12, 33, 8, 49, 7, 0 e rieseguire il codice\n",
    "\n",
    "---\n",
    "\n",
    "<div><p style=\"font-size: 0.9em\"><a name=\"note1\">1</a>: la funzione <strong>abs()</strong> resituisce il valore assoluto di un numero, cioè il numero stesso privo si segno. Per calcolare la distanza useremo la sottrazione e il valore assoluto: 49 e 71 sono entrambi a distanza 11 da 60</div></p>"
   ]
  },
  {
   "cell_type": "code",
   "execution_count": 125,
   "metadata": {},
   "outputs": [
    {
     "name": "stdout",
     "output_type": "stream",
     "text": [
      "la distanza è compresa in un'ottava\n"
     ]
    },
    {
     "ename": "ValueError",
     "evalue": "invalid literal for int() with base 10: \"la distanza è compresa in un'ottava\"",
     "output_type": "error",
     "traceback": [
      "\u001b[0;31m---------------------------------------------------------------------------\u001b[0m",
      "\u001b[0;31mValueError\u001b[0m                                Traceback (most recent call last)",
      "\u001b[0;32m<ipython-input-125-8102d8e9d063>\u001b[0m in \u001b[0;36m<module>\u001b[0;34m\u001b[0m\n\u001b[0;32m----> 1\u001b[0;31m \u001b[0mpitch\u001b[0m \u001b[0;34m=\u001b[0m \u001b[0mint\u001b[0m\u001b[0;34m(\u001b[0m\u001b[0minput\u001b[0m\u001b[0;34m(\u001b[0m\u001b[0;34m)\u001b[0m\u001b[0;34m)\u001b[0m\u001b[0;34m\u001b[0m\u001b[0;34m\u001b[0m\u001b[0m\n\u001b[0m\u001b[1;32m      2\u001b[0m \u001b[0mdistanza\u001b[0m \u001b[0;34m=\u001b[0m \u001b[0mabs\u001b[0m\u001b[0;34m(\u001b[0m\u001b[0;36m60\u001b[0m \u001b[0;34m-\u001b[0m \u001b[0mpitch\u001b[0m\u001b[0;34m)\u001b[0m\u001b[0;34m\u001b[0m\u001b[0;34m\u001b[0m\u001b[0m\n\u001b[1;32m      3\u001b[0m \u001b[0;34m\u001b[0m\u001b[0m\n\u001b[1;32m      4\u001b[0m \u001b[0;32mif\u001b[0m \u001b[0mdistanza\u001b[0m \u001b[0;34m==\u001b[0m \u001b[0;36m0\u001b[0m\u001b[0;34m:\u001b[0m\u001b[0;34m\u001b[0m\u001b[0;34m\u001b[0m\u001b[0m\n\u001b[1;32m      5\u001b[0m     \u001b[0mprint\u001b[0m\u001b[0;34m(\u001b[0m\u001b[0;34m\"Le due note sono uguali\"\u001b[0m\u001b[0;34m)\u001b[0m\u001b[0;34m\u001b[0m\u001b[0;34m\u001b[0m\u001b[0m\n",
      "\u001b[0;31mValueError\u001b[0m: invalid literal for int() with base 10: \"la distanza è compresa in un'ottava\""
     ]
    }
   ],
   "source": [
    "pitch = int(input())\n",
    "distanza = abs(60 - pitch)\n",
    "\n",
    "if distanza == 0:\n",
    "    print(\"Le due note sono uguali\")\n",
    "elif distanza < 12:\n",
    "    print(\"la distanza è compresa in un'ottava\")\n",
    "elif distanza < 24:\n",
    "    print(\"la distanza è fra un'ottava e due ottave\")\n",
    "elif distanza < 36:\n",
    "    print(\"la distanza è fra due e tre ottave\")\n",
    "else:\n",
    "    print(\"la distanza è enorme!!\")"
   ]
  },
  {
   "cell_type": "code",
   "execution_count": null,
   "metadata": {},
   "outputs": [],
   "source": []
  },
  {
   "cell_type": "code",
   "execution_count": null,
   "metadata": {},
   "outputs": [],
   "source": []
  },
  {
   "cell_type": "markdown",
   "metadata": {},
   "source": [
    "## Crea e chiama una funzione\n",
    "1. Crea una funzione **separa_parole(stringa)** che prenda come argomento una stringa con più parole...\n",
    "2. ... e che restituisca una lista i cui elementi siano le singole parole\n",
    "3. Chiamare la funzione con argomento _\"Guido van Rossum\"_\n",
    "4. Chiamare la funzione con argomento _\"Nel mezzo del cammin di nostra vita mi ritrovai per una selva oscura\"_"
   ]
  },
  {
   "cell_type": "code",
   "execution_count": 123,
   "metadata": {},
   "outputs": [
    {
     "data": {
      "text/plain": [
       "['Nel',\n",
       " 'mezzo',\n",
       " 'del',\n",
       " 'cammin',\n",
       " 'di',\n",
       " 'nostra',\n",
       " 'vita',\n",
       " 'mi',\n",
       " 'ritrovai',\n",
       " 'per',\n",
       " 'una',\n",
       " 'selva',\n",
       " 'oscura']"
      ]
     },
     "execution_count": 123,
     "metadata": {},
     "output_type": "execute_result"
    }
   ],
   "source": [
    "def separa_parole(stringa):\n",
    "    return list(stringa.split())\n",
    "\n",
    "separa_parole(\"Guido van Rossum\")\n",
    "separa_parole(\"Nel mezzo del cammin di nostra vita mi ritrovai per una selva oscura\")"
   ]
  },
  {
   "cell_type": "code",
   "execution_count": null,
   "metadata": {},
   "outputs": [],
   "source": [
    "# Ho definito la soluzione con \"def\" che mi permette di definire una funzione\n",
    "# Poi ho usato il return della lista"
   ]
  },
  {
   "cell_type": "code",
   "execution_count": null,
   "metadata": {},
   "outputs": [],
   "source": []
  },
  {
   "cell_type": "markdown",
   "metadata": {},
   "source": [
    "## Crea la funzione pari(n)\n",
    "* Il cui argomento sia l'intero `n` e restituisca (tramite l'istruzione **return**) una lista di numeri pari compresi fra 0 e *n*\n",
    "* Chiama la funzione per n = 11\n",
    "* Chiama la funzione per n = 30\n",
    "\n",
    "##### Esempio:\n",
    "\n",
    "```py\n",
    ">>> pari(12)\n",
    ">>> [0,2,4,6,8,10,12]\n",
    "\n",
    ">>> pari(15)\n",
    ">>> [0,2,4,6,8,10,12,14]\n",
    "```"
   ]
  },
  {
   "cell_type": "code",
   "execution_count": 23,
   "metadata": {},
   "outputs": [],
   "source": [
    "def pari(n):\n",
    "    c = 0\n",
    "    parilist = []\n",
    "    while c <= n:\n",
    "        c = c + 1\n",
    "        if c % 2 ==0:\n",
    "            parilist.append(c)\n",
    "    return parilist"
   ]
  },
  {
   "cell_type": "code",
   "execution_count": 24,
   "metadata": {},
   "outputs": [
    {
     "data": {
      "text/plain": [
       "[2, 4, 6, 8, 10, 12]"
      ]
     },
     "execution_count": 24,
     "metadata": {},
     "output_type": "execute_result"
    }
   ],
   "source": [
    "pari(11)"
   ]
  },
  {
   "cell_type": "code",
   "execution_count": 28,
   "metadata": {},
   "outputs": [],
   "source": [
    "# Funzione pari(n):\n",
    "# Creiamo un contatore\n",
    "# Creo un ciclo while finche c non sarà minore o uguale a n\n",
    "# Il contatore aumenterà di una unità per scorrere tra i vari valori\n",
    "# Creo un ciclo if che si esegue se il resto della divisione tra c e 2 è pari a 0 per individuare i numeri pari\n",
    "# Usiamo la funzione append che consente di aggiungere elemnti in coda in una lista\n",
    "# e per finire facciamo un return della parilist uscirà la lista dei numwri pari"
   ]
  },
  {
   "cell_type": "code",
   "execution_count": 68,
   "metadata": {},
   "outputs": [],
   "source": [
    "def pari(n):\n",
    "    c = 0\n",
    "    parilist = []\n",
    "    while c <= n:\n",
    "        c = c + 1\n",
    "        if c % 2 ==0:\n",
    "            parilist.append(c)\n",
    "    return parilist"
   ]
  },
  {
   "cell_type": "code",
   "execution_count": 69,
   "metadata": {},
   "outputs": [
    {
     "data": {
      "text/plain": [
       "[2, 4, 6, 8, 10, 12, 14, 16, 18, 20, 22, 24, 26, 28, 30]"
      ]
     },
     "execution_count": 69,
     "metadata": {},
     "output_type": "execute_result"
    }
   ],
   "source": [
    "pari(30)"
   ]
  },
  {
   "cell_type": "markdown",
   "metadata": {},
   "source": [
    "## funzione input()\n",
    "\n",
    "1. Chiedi all'utente di inserire la sua età tramite la funzione **input()**\n",
    "2. Calcola  (e stampa) l'anno di nascita\n",
    "\n",
    "##### Esempio:\n",
    "\n",
    "```py\n",
    ">>> Quanti anni hai? 14\n",
    ">>> \"Siamo nel 2021, quindi il tuo anno di nascita è il 2007\"\n",
    "```"
   ]
  },
  {
   "cell_type": "code",
   "execution_count": 120,
   "metadata": {},
   "outputs": [
    {
     "name": "stdout",
     "output_type": "stream",
     "text": [
      "23\n",
      "Siamo nel 2021, quindi il tuo anno di nascita è il 1998\n"
     ]
    }
   ],
   "source": [
    "eta = int(input())\n",
    "import datetime\n",
    "oggi_anno = datetime.datetime.now().year\n",
    "print(f\"Siamo nel {oggi_anno}, quindi il tuo anno di nascita è il {oggi_anno - eta}\")"
   ]
  },
  {
   "cell_type": "code",
   "execution_count": null,
   "metadata": {},
   "outputs": [],
   "source": [
    "# Ho principalmente messo come input la domanda quanti anni ho\n",
    "# Facendo run mi ha chiesto quanti hanno avevo e ho messo la mia età\n",
    "# E alla fine ho usato print stampando che \"Siamo nel 2021, quindi il mio anno di nascita è il 1997\""
   ]
  },
  {
   "cell_type": "code",
   "execution_count": null,
   "metadata": {},
   "outputs": [],
   "source": []
  },
  {
   "cell_type": "markdown",
   "metadata": {},
   "source": [
    "## Crea una funzione `nota()` che prenda come argomento una nota espressa in valore (intero) MIDI (0-127) e:\n",
    "* Stampi il nome della nota (do, do#, re, mi, ... )<sup>[1](#not1)</sup> e l'ottava di appartenenza<sup>[2](#not2)</sup> separate da un trattino (`-`)\n",
    "\n",
    "---\n",
    "\n",
    "<div><p style=\"font-size: 0.9em\"><a name=\"not1\">1</a>: usare l'operatore modulo che restituisca l'indice di una lista che contiene i nomi delle note (<code>%</code>)</div></p>\n",
    "<div><p style=\"font-size: 0.9em\"><a name=\"not2\">2</a>: usare l'operatore divisione intera (<code>//</code>)</div></p>\n",
    "\n",
    "---\n",
    "\n",
    "##### Esempi: \n",
    "\n",
    "```py\n",
    ">>> che_nota(73)\n",
    ">>> \"do#-6\"\n",
    "\n",
    ">>> che_nota(12)\n",
    ">>> \"do-1\"\n",
    "\n",
    ">>> che_nota(7)\n",
    ">>> \"sol-0\"\n",
    "```"
   ]
  },
  {
   "cell_type": "code",
   "execution_count": 118,
   "metadata": {},
   "outputs": [
    {
     "name": "stdout",
     "output_type": "stream",
     "text": [
      "do#-6 do-1 sol-0\n"
     ]
    }
   ],
   "source": [
    "note = [\"do\", \"do#\", \"re\", \"re#\", \"mi\", \"fa\", \"fa#\", \"sol\", \"sol#\", \"la\", \"la#\", \"si\"]\n",
    "def che_nota(nota):\n",
    "    assert(type(nota) == int and 0 <= nota <= 127)\n",
    "    return f\"{note[ (nota % len(note))]}-{nota // len(note)}\"\n",
    "\n",
    "print(\n",
    "    che_nota(73),\n",
    "    che_nota(12),\n",
    "    che_nota(7)\n",
    ")"
   ]
  },
  {
   "cell_type": "code",
   "execution_count": null,
   "metadata": {},
   "outputs": [],
   "source": []
  }
 ],
 "metadata": {
  "kernelspec": {
   "display_name": "Python 3",
   "language": "python",
   "name": "python3"
  },
  "language_info": {
   "codemirror_mode": {
    "name": "ipython",
    "version": 3
   },
   "file_extension": ".py",
   "mimetype": "text/x-python",
   "name": "python",
   "nbconvert_exporter": "python",
   "pygments_lexer": "ipython3",
   "version": "3.8.5"
  },
  "toc": {
   "base_numbering": 1,
   "nav_menu": {},
   "number_sections": true,
   "sideBar": true,
   "skip_h1_title": false,
   "title_cell": "Table of Contents",
   "title_sidebar": "Contents",
   "toc_cell": false,
   "toc_position": {},
   "toc_section_display": true,
   "toc_window_display": false
  }
 },
 "nbformat": 4,
 "nbformat_minor": 2
}
